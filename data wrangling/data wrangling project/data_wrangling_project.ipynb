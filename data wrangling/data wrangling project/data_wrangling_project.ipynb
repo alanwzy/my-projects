{
 "cells": [
  {
   "cell_type": "markdown",
   "metadata": {},
   "source": [
    "# Data Wrangling project\n",
    "#### Creator Name: ZHIYIN WANG\n",
    "\n",
    "\n",
    "Date: 18/10/2020\n",
    "\n",
    "Version: 2.0\n",
    "\n",
    "Environment: Python 3.6.0\n",
    "\n",
    "Libraries used:\n",
    "* pandas 0.19.2 (for data frame, included in Anaconda Python 3.6) \n",
    "* math (for math calculation, included in Anaconda Python 3.6) \n",
    "* numpy(for solving equations, included in Anaconda Python 3.6)\n",
    "* nltk.sentiment.vader (for getting polarity score from text, included in Anaconda Python 3.6 and 'nltk.download('vader_lexicon')' provided)\n",
    "* sklearn.linear_model(for generating linear model from predictors and predict values, included in Anaconda Python 3.6)\n",
    "* matplotlib.pyplot(for visualisation, drawing plots, included in Anaconda Python 3.6）\n",
    "\n",
    "\n",
    "## 1. Introduction\n",
    "For this project, we are going to write Python (Python 2/3) code to analyze the dataset, find and fix the problems in the data. There are three files we need to work on： \n",
    "- dirty_data.csv\n",
    "- outlier_data.csv\n",
    "- missing_data.csv\n",
    "\n",
    "\n",
    "We need to exploring and understanding the data is one of the most important parts of the data wrangling\n",
    "process. We will perform graphical and/or non-graphical EDA methods to understand\n",
    "the data first and then find and fix the data problems. \n",
    "\n",
    "The tasks are the following:\n",
    "* Detect and fix errors in dirty_data.csv\n",
    "* Detect and remove outlier rows in outlier_data.csv (outliers are to be found w.r.t. delivery_charges attribute only)\n",
    "* Impute the missing values in missing_data.csv"
   ]
  },
  {
   "cell_type": "markdown",
   "metadata": {},
   "source": [
    "## 2.  Import Libraries"
   ]
  },
  {
   "cell_type": "code",
   "execution_count": 195,
   "metadata": {},
   "outputs": [
    {
     "name": "stderr",
     "output_type": "stream",
     "text": [
      "[nltk_data] Downloading package vader_lexicon to C:\\Users\\Alan\n",
      "[nltk_data]     Wang\\AppData\\Roaming\\nltk_data...\n",
      "[nltk_data]   Package vader_lexicon is already up-to-date!\n"
     ]
    }
   ],
   "source": [
    "#Basic scientific python libs\n",
    "import pandas as pd\n",
    "import math\n",
    "import numpy as np\n",
    "# nltk.sentiment.vader module\n",
    "from nltk.sentiment.vader import SentimentIntensityAnalyzer\n",
    "# download lexicon file\n",
    "import nltk\n",
    "nltk.download('vader_lexicon')\n",
    "\n",
    "# linear model\n",
    "from sklearn.linear_model import LinearRegression\n",
    "\n",
    "# Visualisation\n",
    "import matplotlib as mpl\n",
    "import matplotlib.pyplot as plt\n",
    "import matplotlib.pylab as pylab\n",
    "\n",
    "pd.options.mode.chained_assignment = None"
   ]
  },
  {
   "cell_type": "markdown",
   "metadata": {},
   "source": [
    "## 3. Load the data "
   ]
  },
  {
   "cell_type": "code",
   "execution_count": 196,
   "metadata": {},
   "outputs": [],
   "source": [
    "# read data and assign them using panda's function \"read_csv\"\n",
    "dirty_data = pd.read_csv(\"dirty_data.csv\")\n",
    "outlier_data = pd.read_csv(\"outlier_data.csv\")\n",
    "missing_data = pd.read_csv(\"missing_data.csv\")\n",
    "warehouse = pd.read_csv(\"warehouses.csv\")"
   ]
  },
  {
   "cell_type": "markdown",
   "metadata": {},
   "source": [
    "## 4. dirty data"
   ]
  },
  {
   "cell_type": "markdown",
   "metadata": {},
   "source": [
    "To find errors in `the dirty_data.csv` , We start by looking at the dimensionality of the data and head of the data."
   ]
  },
  {
   "cell_type": "code",
   "execution_count": 197,
   "metadata": {
    "scrolled": true
   },
   "outputs": [
    {
     "name": "stdout",
     "output_type": "stream",
     "text": [
      "(500, 16)\n"
     ]
    },
    {
     "data": {
      "text/html": [
       "<div>\n",
       "<style scoped>\n",
       "    .dataframe tbody tr th:only-of-type {\n",
       "        vertical-align: middle;\n",
       "    }\n",
       "\n",
       "    .dataframe tbody tr th {\n",
       "        vertical-align: top;\n",
       "    }\n",
       "\n",
       "    .dataframe thead th {\n",
       "        text-align: right;\n",
       "    }\n",
       "</style>\n",
       "<table border=\"1\" class=\"dataframe\">\n",
       "  <thead>\n",
       "    <tr style=\"text-align: right;\">\n",
       "      <th></th>\n",
       "      <th>order_id</th>\n",
       "      <th>customer_id</th>\n",
       "      <th>date</th>\n",
       "      <th>nearest_warehouse</th>\n",
       "      <th>shopping_cart</th>\n",
       "      <th>order_price</th>\n",
       "      <th>delivery_charges</th>\n",
       "      <th>customer_lat</th>\n",
       "      <th>customer_long</th>\n",
       "      <th>coupon_discount</th>\n",
       "      <th>order_total</th>\n",
       "      <th>season</th>\n",
       "      <th>is_expedited_delivery</th>\n",
       "      <th>distance_to_nearest_warehouse</th>\n",
       "      <th>latest_customer_review</th>\n",
       "      <th>is_happy_customer</th>\n",
       "    </tr>\n",
       "  </thead>\n",
       "  <tbody>\n",
       "    <tr>\n",
       "      <th>0</th>\n",
       "      <td>ORD249513</td>\n",
       "      <td>ID1459448721</td>\n",
       "      <td>2019-01-04</td>\n",
       "      <td>Bakers</td>\n",
       "      <td>[('Universe Note', 2), ('Alcon 10', 1)]</td>\n",
       "      <td>13400</td>\n",
       "      <td>79.89</td>\n",
       "      <td>-37.819538</td>\n",
       "      <td>145.008880</td>\n",
       "      <td>15</td>\n",
       "      <td>11469.89</td>\n",
       "      <td>Summer</td>\n",
       "      <td>False</td>\n",
       "      <td>1.6027</td>\n",
       "      <td>None</td>\n",
       "      <td>True</td>\n",
       "    </tr>\n",
       "    <tr>\n",
       "      <th>1</th>\n",
       "      <td>ORD408577</td>\n",
       "      <td>ID0301542599</td>\n",
       "      <td>2019-02-28</td>\n",
       "      <td>Thompson</td>\n",
       "      <td>[('Thunder line', 2), ('pearTV', 1)]</td>\n",
       "      <td>10670</td>\n",
       "      <td>77.27</td>\n",
       "      <td>-37.822139</td>\n",
       "      <td>144.949866</td>\n",
       "      <td>5</td>\n",
       "      <td>10213.77</td>\n",
       "      <td>Summer</td>\n",
       "      <td>False</td>\n",
       "      <td>1.0820</td>\n",
       "      <td>five stars great value</td>\n",
       "      <td>True</td>\n",
       "    </tr>\n",
       "    <tr>\n",
       "      <th>2</th>\n",
       "      <td>ORD251872</td>\n",
       "      <td>ID3215192366</td>\n",
       "      <td>2019-12-29</td>\n",
       "      <td>Thompson</td>\n",
       "      <td>[('Olivia x460', 1), ('Lucent 330S', 2), ('iAs...</td>\n",
       "      <td>24175</td>\n",
       "      <td>68.42</td>\n",
       "      <td>-37.809187</td>\n",
       "      <td>144.945239</td>\n",
       "      <td>5</td>\n",
       "      <td>7796.67</td>\n",
       "      <td>Summer</td>\n",
       "      <td>False</td>\n",
       "      <td>0.4201</td>\n",
       "      <td>five stars love it</td>\n",
       "      <td>True</td>\n",
       "    </tr>\n",
       "    <tr>\n",
       "      <th>3</th>\n",
       "      <td>ORD383274</td>\n",
       "      <td>ID0395252517</td>\n",
       "      <td>2019-04-30</td>\n",
       "      <td>nickolson</td>\n",
       "      <td>[('Universe Note', 1), ('Candle Inferno', 1)]</td>\n",
       "      <td>3880</td>\n",
       "      <td>69.53</td>\n",
       "      <td>-37.799950</td>\n",
       "      <td>144.977110</td>\n",
       "      <td>10</td>\n",
       "      <td>3561.53</td>\n",
       "      <td>Autumn</td>\n",
       "      <td>False</td>\n",
       "      <td>1.9470</td>\n",
       "      <td>used for employees use these phones to hand ou...</td>\n",
       "      <td>True</td>\n",
       "    </tr>\n",
       "    <tr>\n",
       "      <th>4</th>\n",
       "      <td>ORD387489</td>\n",
       "      <td>ID0577521804</td>\n",
       "      <td>2019-05-02</td>\n",
       "      <td>Nickolson</td>\n",
       "      <td>[('iStream', 2), ('iAssist Line', 2), ('Alcon ...</td>\n",
       "      <td>17150</td>\n",
       "      <td>65.02</td>\n",
       "      <td>-37.823326</td>\n",
       "      <td>144.972047</td>\n",
       "      <td>5</td>\n",
       "      <td>16357.52</td>\n",
       "      <td>autumn</td>\n",
       "      <td>False</td>\n",
       "      <td>0.5705</td>\n",
       "      <td>great tablet but apps limited comparison of ot...</td>\n",
       "      <td>True</td>\n",
       "    </tr>\n",
       "    <tr>\n",
       "      <th>5</th>\n",
       "      <td>ORD014190</td>\n",
       "      <td>ID1479897587</td>\n",
       "      <td>2019-09-13</td>\n",
       "      <td>Nickolson</td>\n",
       "      <td>[('Olivia x460', 1), ('iStream', 2), ('pearTV'...</td>\n",
       "      <td>7835</td>\n",
       "      <td>102.38</td>\n",
       "      <td>-37.820108</td>\n",
       "      <td>144.958328</td>\n",
       "      <td>15</td>\n",
       "      <td>6762.13</td>\n",
       "      <td>Spring</td>\n",
       "      <td>False</td>\n",
       "      <td>1.0012</td>\n",
       "      <td>five stars nice used phone</td>\n",
       "      <td>True</td>\n",
       "    </tr>\n",
       "    <tr>\n",
       "      <th>6</th>\n",
       "      <td>ORD001360</td>\n",
       "      <td>ID0176722515</td>\n",
       "      <td>2019-07-31</td>\n",
       "      <td>Nickolson</td>\n",
       "      <td>[('Universe Note', 1), ('iStream', 2), ('Olivi...</td>\n",
       "      <td>9425</td>\n",
       "      <td>76.09</td>\n",
       "      <td>-37.814134</td>\n",
       "      <td>144.967304</td>\n",
       "      <td>10</td>\n",
       "      <td>8558.59</td>\n",
       "      <td>Winter</td>\n",
       "      <td>False</td>\n",
       "      <td>0.5344</td>\n",
       "      <td>like a tablet. great, fast connection. everyth...</td>\n",
       "      <td>True</td>\n",
       "    </tr>\n",
       "    <tr>\n",
       "      <th>7</th>\n",
       "      <td>ORD394829</td>\n",
       "      <td>ID1217532920</td>\n",
       "      <td>2019-03-23</td>\n",
       "      <td>Thompson</td>\n",
       "      <td>[('pearTV', 1), ('Olivia x460', 2), ('iStream'...</td>\n",
       "      <td>11090</td>\n",
       "      <td>48.01</td>\n",
       "      <td>-37.818102</td>\n",
       "      <td>144.948573</td>\n",
       "      <td>0</td>\n",
       "      <td>11138.01</td>\n",
       "      <td>Autumn</td>\n",
       "      <td>False</td>\n",
       "      <td>0.6186</td>\n",
       "      <td>i have had this phone for less than 3 months ....</td>\n",
       "      <td>False</td>\n",
       "    </tr>\n",
       "    <tr>\n",
       "      <th>8</th>\n",
       "      <td>ORD493520</td>\n",
       "      <td>ID3924931354</td>\n",
       "      <td>2019-11-21</td>\n",
       "      <td>Nickolson</td>\n",
       "      <td>[('Toshika 750', 1), ('Lucent 330S', 1), ('iSt...</td>\n",
       "      <td>6130</td>\n",
       "      <td>96.67</td>\n",
       "      <td>-37.816280</td>\n",
       "      <td>144.966995</td>\n",
       "      <td>0</td>\n",
       "      <td>6226.67</td>\n",
       "      <td>Spring</td>\n",
       "      <td>True</td>\n",
       "      <td>0.3419</td>\n",
       "      <td>excellent phone! great phone!! it works smooth...</td>\n",
       "      <td>True</td>\n",
       "    </tr>\n",
       "    <tr>\n",
       "      <th>9</th>\n",
       "      <td>ORD045721</td>\n",
       "      <td>ID0777783111</td>\n",
       "      <td>2019-21-06</td>\n",
       "      <td>Thompson</td>\n",
       "      <td>[('iStream', 1), ('Universe Note', 1), ('Thund...</td>\n",
       "      <td>23680</td>\n",
       "      <td>66.38</td>\n",
       "      <td>-37.804775</td>\n",
       "      <td>144.953908</td>\n",
       "      <td>10</td>\n",
       "      <td>21378.38</td>\n",
       "      <td>Winter</td>\n",
       "      <td>False</td>\n",
       "      <td>1.0653</td>\n",
       "      <td>i love it! learning knew things with it eveyda...</td>\n",
       "      <td>True</td>\n",
       "    </tr>\n",
       "  </tbody>\n",
       "</table>\n",
       "</div>"
      ],
      "text/plain": [
       "    order_id   customer_id        date nearest_warehouse  \\\n",
       "0  ORD249513  ID1459448721  2019-01-04            Bakers   \n",
       "1  ORD408577  ID0301542599  2019-02-28          Thompson   \n",
       "2  ORD251872  ID3215192366  2019-12-29          Thompson   \n",
       "3  ORD383274  ID0395252517  2019-04-30         nickolson   \n",
       "4  ORD387489  ID0577521804  2019-05-02         Nickolson   \n",
       "5  ORD014190  ID1479897587  2019-09-13         Nickolson   \n",
       "6  ORD001360  ID0176722515  2019-07-31         Nickolson   \n",
       "7  ORD394829  ID1217532920  2019-03-23          Thompson   \n",
       "8  ORD493520  ID3924931354  2019-11-21         Nickolson   \n",
       "9  ORD045721  ID0777783111  2019-21-06          Thompson   \n",
       "\n",
       "                                       shopping_cart  order_price  \\\n",
       "0            [('Universe Note', 2), ('Alcon 10', 1)]        13400   \n",
       "1               [('Thunder line', 2), ('pearTV', 1)]        10670   \n",
       "2  [('Olivia x460', 1), ('Lucent 330S', 2), ('iAs...        24175   \n",
       "3      [('Universe Note', 1), ('Candle Inferno', 1)]         3880   \n",
       "4  [('iStream', 2), ('iAssist Line', 2), ('Alcon ...        17150   \n",
       "5  [('Olivia x460', 1), ('iStream', 2), ('pearTV'...         7835   \n",
       "6  [('Universe Note', 1), ('iStream', 2), ('Olivi...         9425   \n",
       "7  [('pearTV', 1), ('Olivia x460', 2), ('iStream'...        11090   \n",
       "8  [('Toshika 750', 1), ('Lucent 330S', 1), ('iSt...         6130   \n",
       "9  [('iStream', 1), ('Universe Note', 1), ('Thund...        23680   \n",
       "\n",
       "   delivery_charges  customer_lat  customer_long  coupon_discount  \\\n",
       "0             79.89    -37.819538     145.008880               15   \n",
       "1             77.27    -37.822139     144.949866                5   \n",
       "2             68.42    -37.809187     144.945239                5   \n",
       "3             69.53    -37.799950     144.977110               10   \n",
       "4             65.02    -37.823326     144.972047                5   \n",
       "5            102.38    -37.820108     144.958328               15   \n",
       "6             76.09    -37.814134     144.967304               10   \n",
       "7             48.01    -37.818102     144.948573                0   \n",
       "8             96.67    -37.816280     144.966995                0   \n",
       "9             66.38    -37.804775     144.953908               10   \n",
       "\n",
       "   order_total  season  is_expedited_delivery  distance_to_nearest_warehouse  \\\n",
       "0     11469.89  Summer                  False                         1.6027   \n",
       "1     10213.77  Summer                  False                         1.0820   \n",
       "2      7796.67  Summer                  False                         0.4201   \n",
       "3      3561.53  Autumn                  False                         1.9470   \n",
       "4     16357.52  autumn                  False                         0.5705   \n",
       "5      6762.13  Spring                  False                         1.0012   \n",
       "6      8558.59  Winter                  False                         0.5344   \n",
       "7     11138.01  Autumn                  False                         0.6186   \n",
       "8      6226.67  Spring                   True                         0.3419   \n",
       "9     21378.38  Winter                  False                         1.0653   \n",
       "\n",
       "                              latest_customer_review  is_happy_customer  \n",
       "0                                               None               True  \n",
       "1                             five stars great value               True  \n",
       "2                                 five stars love it               True  \n",
       "3  used for employees use these phones to hand ou...               True  \n",
       "4  great tablet but apps limited comparison of ot...               True  \n",
       "5                         five stars nice used phone               True  \n",
       "6  like a tablet. great, fast connection. everyth...               True  \n",
       "7  i have had this phone for less than 3 months ....              False  \n",
       "8  excellent phone! great phone!! it works smooth...               True  \n",
       "9  i love it! learning knew things with it eveyda...               True  "
      ]
     },
     "execution_count": 197,
     "metadata": {},
     "output_type": "execute_result"
    }
   ],
   "source": [
    "print(dirty_data.shape)\n",
    "dirty_data.head(10)"
   ]
  },
  {
   "cell_type": "markdown",
   "metadata": {},
   "source": [
    "Next, we have a look at key information about each variable to understand more about them."
   ]
  },
  {
   "cell_type": "code",
   "execution_count": 198,
   "metadata": {},
   "outputs": [
    {
     "name": "stdout",
     "output_type": "stream",
     "text": [
      "<class 'pandas.core.frame.DataFrame'>\n",
      "RangeIndex: 500 entries, 0 to 499\n",
      "Data columns (total 16 columns):\n",
      " #   Column                         Non-Null Count  Dtype  \n",
      "---  ------                         --------------  -----  \n",
      " 0   order_id                       500 non-null    object \n",
      " 1   customer_id                    500 non-null    object \n",
      " 2   date                           500 non-null    object \n",
      " 3   nearest_warehouse              500 non-null    object \n",
      " 4   shopping_cart                  500 non-null    object \n",
      " 5   order_price                    500 non-null    int64  \n",
      " 6   delivery_charges               500 non-null    float64\n",
      " 7   customer_lat                   500 non-null    float64\n",
      " 8   customer_long                  500 non-null    float64\n",
      " 9   coupon_discount                500 non-null    int64  \n",
      " 10  order_total                    500 non-null    float64\n",
      " 11  season                         500 non-null    object \n",
      " 12  is_expedited_delivery          500 non-null    bool   \n",
      " 13  distance_to_nearest_warehouse  500 non-null    float64\n",
      " 14  latest_customer_review         500 non-null    object \n",
      " 15  is_happy_customer              500 non-null    bool   \n",
      "dtypes: bool(2), float64(5), int64(2), object(7)\n",
      "memory usage: 55.8+ KB\n"
     ]
    }
   ],
   "source": [
    "dirty_data.info()"
   ]
  },
  {
   "cell_type": "markdown",
   "metadata": {},
   "source": [
    "We go through each variable and conclude that all variables are in the correct data type.\n",
    "\n",
    "To identify any problem, lets check the distribution of the numerical variables in the data."
   ]
  },
  {
   "cell_type": "code",
   "execution_count": 199,
   "metadata": {
    "scrolled": false
   },
   "outputs": [
    {
     "data": {
      "text/html": [
       "<div>\n",
       "<style scoped>\n",
       "    .dataframe tbody tr th:only-of-type {\n",
       "        vertical-align: middle;\n",
       "    }\n",
       "\n",
       "    .dataframe tbody tr th {\n",
       "        vertical-align: top;\n",
       "    }\n",
       "\n",
       "    .dataframe thead th {\n",
       "        text-align: right;\n",
       "    }\n",
       "</style>\n",
       "<table border=\"1\" class=\"dataframe\">\n",
       "  <thead>\n",
       "    <tr style=\"text-align: right;\">\n",
       "      <th></th>\n",
       "      <th>order_price</th>\n",
       "      <th>delivery_charges</th>\n",
       "      <th>customer_lat</th>\n",
       "      <th>customer_long</th>\n",
       "      <th>coupon_discount</th>\n",
       "      <th>order_total</th>\n",
       "      <th>distance_to_nearest_warehouse</th>\n",
       "    </tr>\n",
       "  </thead>\n",
       "  <tbody>\n",
       "    <tr>\n",
       "      <th>count</th>\n",
       "      <td>500.000000</td>\n",
       "      <td>500.000000</td>\n",
       "      <td>500.000000</td>\n",
       "      <td>500.000000</td>\n",
       "      <td>500.00000</td>\n",
       "      <td>500.000000</td>\n",
       "      <td>500.000000</td>\n",
       "    </tr>\n",
       "    <tr>\n",
       "      <th>mean</th>\n",
       "      <td>13418.010000</td>\n",
       "      <td>77.777980</td>\n",
       "      <td>-27.942397</td>\n",
       "      <td>135.097606</td>\n",
       "      <td>11.11000</td>\n",
       "      <td>11785.974540</td>\n",
       "      <td>1.040945</td>\n",
       "    </tr>\n",
       "    <tr>\n",
       "      <th>std</th>\n",
       "      <td>7882.758855</td>\n",
       "      <td>14.533738</td>\n",
       "      <td>41.353094</td>\n",
       "      <td>41.352624</td>\n",
       "      <td>8.84162</td>\n",
       "      <td>6929.822789</td>\n",
       "      <td>0.494563</td>\n",
       "    </tr>\n",
       "    <tr>\n",
       "      <th>min</th>\n",
       "      <td>580.000000</td>\n",
       "      <td>47.340000</td>\n",
       "      <td>-37.827894</td>\n",
       "      <td>-37.825319</td>\n",
       "      <td>0.00000</td>\n",
       "      <td>539.640000</td>\n",
       "      <td>0.035300</td>\n",
       "    </tr>\n",
       "    <tr>\n",
       "      <th>25%</th>\n",
       "      <td>6878.750000</td>\n",
       "      <td>66.725000</td>\n",
       "      <td>-37.818449</td>\n",
       "      <td>144.951734</td>\n",
       "      <td>5.00000</td>\n",
       "      <td>6489.780000</td>\n",
       "      <td>0.692225</td>\n",
       "    </tr>\n",
       "    <tr>\n",
       "      <th>50%</th>\n",
       "      <td>12415.000000</td>\n",
       "      <td>77.050000</td>\n",
       "      <td>-37.812390</td>\n",
       "      <td>144.963400</td>\n",
       "      <td>10.00000</td>\n",
       "      <td>10436.275000</td>\n",
       "      <td>0.999200</td>\n",
       "    </tr>\n",
       "    <tr>\n",
       "      <th>75%</th>\n",
       "      <td>18747.500000</td>\n",
       "      <td>85.925000</td>\n",
       "      <td>-37.804774</td>\n",
       "      <td>144.978766</td>\n",
       "      <td>15.00000</td>\n",
       "      <td>16654.627500</td>\n",
       "      <td>1.336000</td>\n",
       "    </tr>\n",
       "    <tr>\n",
       "      <th>max</th>\n",
       "      <td>43610.000000</td>\n",
       "      <td>122.170000</td>\n",
       "      <td>145.008961</td>\n",
       "      <td>145.019706</td>\n",
       "      <td>25.00000</td>\n",
       "      <td>41502.140000</td>\n",
       "      <td>3.382900</td>\n",
       "    </tr>\n",
       "  </tbody>\n",
       "</table>\n",
       "</div>"
      ],
      "text/plain": [
       "        order_price  delivery_charges  customer_lat  customer_long  \\\n",
       "count    500.000000        500.000000    500.000000     500.000000   \n",
       "mean   13418.010000         77.777980    -27.942397     135.097606   \n",
       "std     7882.758855         14.533738     41.353094      41.352624   \n",
       "min      580.000000         47.340000    -37.827894     -37.825319   \n",
       "25%     6878.750000         66.725000    -37.818449     144.951734   \n",
       "50%    12415.000000         77.050000    -37.812390     144.963400   \n",
       "75%    18747.500000         85.925000    -37.804774     144.978766   \n",
       "max    43610.000000        122.170000    145.008961     145.019706   \n",
       "\n",
       "       coupon_discount   order_total  distance_to_nearest_warehouse  \n",
       "count        500.00000    500.000000                     500.000000  \n",
       "mean          11.11000  11785.974540                       1.040945  \n",
       "std            8.84162   6929.822789                       0.494563  \n",
       "min            0.00000    539.640000                       0.035300  \n",
       "25%            5.00000   6489.780000                       0.692225  \n",
       "50%           10.00000  10436.275000                       0.999200  \n",
       "75%           15.00000  16654.627500                       1.336000  \n",
       "max           25.00000  41502.140000                       3.382900  "
      ]
     },
     "execution_count": 199,
     "metadata": {},
     "output_type": "execute_result"
    }
   ],
   "source": [
    "dirty_data.describe()"
   ]
  },
  {
   "cell_type": "markdown",
   "metadata": {},
   "source": [
    "What about the categorical variables?"
   ]
  },
  {
   "cell_type": "code",
   "execution_count": 200,
   "metadata": {},
   "outputs": [
    {
     "data": {
      "text/html": [
       "<div>\n",
       "<style scoped>\n",
       "    .dataframe tbody tr th:only-of-type {\n",
       "        vertical-align: middle;\n",
       "    }\n",
       "\n",
       "    .dataframe tbody tr th {\n",
       "        vertical-align: top;\n",
       "    }\n",
       "\n",
       "    .dataframe thead th {\n",
       "        text-align: right;\n",
       "    }\n",
       "</style>\n",
       "<table border=\"1\" class=\"dataframe\">\n",
       "  <thead>\n",
       "    <tr style=\"text-align: right;\">\n",
       "      <th></th>\n",
       "      <th>order_id</th>\n",
       "      <th>customer_id</th>\n",
       "      <th>date</th>\n",
       "      <th>nearest_warehouse</th>\n",
       "      <th>shopping_cart</th>\n",
       "      <th>season</th>\n",
       "      <th>latest_customer_review</th>\n",
       "    </tr>\n",
       "  </thead>\n",
       "  <tbody>\n",
       "    <tr>\n",
       "      <th>count</th>\n",
       "      <td>500</td>\n",
       "      <td>500</td>\n",
       "      <td>500</td>\n",
       "      <td>500</td>\n",
       "      <td>500</td>\n",
       "      <td>500</td>\n",
       "      <td>500</td>\n",
       "    </tr>\n",
       "    <tr>\n",
       "      <th>unique</th>\n",
       "      <td>500</td>\n",
       "      <td>493</td>\n",
       "      <td>295</td>\n",
       "      <td>6</td>\n",
       "      <td>463</td>\n",
       "      <td>8</td>\n",
       "      <td>500</td>\n",
       "    </tr>\n",
       "    <tr>\n",
       "      <th>top</th>\n",
       "      <td>ORD151294</td>\n",
       "      <td>ID3185718967</td>\n",
       "      <td>2019-09-01</td>\n",
       "      <td>Nickolson</td>\n",
       "      <td>[('iStream', 2), ('Toshika 750', 1)]</td>\n",
       "      <td>Spring</td>\n",
       "      <td>becomes a memory hog after few weeks of usage....</td>\n",
       "    </tr>\n",
       "    <tr>\n",
       "      <th>freq</th>\n",
       "      <td>1</td>\n",
       "      <td>2</td>\n",
       "      <td>5</td>\n",
       "      <td>195</td>\n",
       "      <td>3</td>\n",
       "      <td>138</td>\n",
       "      <td>1</td>\n",
       "    </tr>\n",
       "  </tbody>\n",
       "</table>\n",
       "</div>"
      ],
      "text/plain": [
       "         order_id   customer_id        date nearest_warehouse  \\\n",
       "count         500           500         500               500   \n",
       "unique        500           493         295                 6   \n",
       "top     ORD151294  ID3185718967  2019-09-01         Nickolson   \n",
       "freq            1             2           5               195   \n",
       "\n",
       "                               shopping_cart  season  \\\n",
       "count                                    500     500   \n",
       "unique                                   463       8   \n",
       "top     [('iStream', 2), ('Toshika 750', 1)]  Spring   \n",
       "freq                                       3     138   \n",
       "\n",
       "                                   latest_customer_review  \n",
       "count                                                 500  \n",
       "unique                                                500  \n",
       "top     becomes a memory hog after few weeks of usage....  \n",
       "freq                                                    1  "
      ]
     },
     "execution_count": 200,
     "metadata": {},
     "output_type": "execute_result"
    }
   ],
   "source": [
    "dirty_data.describe(include = [\"O\"])"
   ]
  },
  {
   "cell_type": "markdown",
   "metadata": {},
   "source": [
    "### Identify Anomalies "
   ]
  },
  {
   "cell_type": "markdown",
   "metadata": {},
   "source": [
    "### 4.1 `Season`\n",
    "\n",
    "From describe function, we can see that there are 8 unique values in season. There should be only four season, 8 indicates there are errors in the column."
   ]
  },
  {
   "cell_type": "code",
   "execution_count": 201,
   "metadata": {
    "scrolled": false
   },
   "outputs": [
    {
     "data": {
      "text/plain": [
       "Spring    138\n",
       "Summer    120\n",
       "Winter    118\n",
       "Autumn    103\n",
       "winter      6\n",
       "spring      5\n",
       "summer      5\n",
       "autumn      5\n",
       "Name: season, dtype: int64"
      ]
     },
     "execution_count": 201,
     "metadata": {},
     "output_type": "execute_result"
    }
   ],
   "source": [
    "# check season, why are there 8 unique value in season?\n",
    "dirty_data.season.value_counts()"
   ]
  },
  {
   "cell_type": "markdown",
   "metadata": {},
   "source": [
    "Lexical errors: \n",
    "\n",
    "Using `value_count()`, we find that there are inconsistent spellings of season names. Some seasons are written in lower cases, soem are in upper cases. The assumption we made here is that it is less likely that the spelling with large counts is wrong. Therefore, we will fix the names with lowercases by the `replace()` function."
   ]
  },
  {
   "cell_type": "code",
   "execution_count": 202,
   "metadata": {},
   "outputs": [
    {
     "data": {
      "text/plain": [
       "Spring    143\n",
       "Summer    125\n",
       "Winter    124\n",
       "Autumn    108\n",
       "Name: season, dtype: int64"
      ]
     },
     "execution_count": 202,
     "metadata": {},
     "output_type": "execute_result"
    }
   ],
   "source": [
    "# Some seasons are written in lower cases, we need to fix them \n",
    "\n",
    "dirty_data.season.replace({'winter':'Winter', 'autumn':'Autumn','summer':'Summer', 'spring':'Spring'}, inplace = True)\n",
    "\n",
    "# check again\n",
    "\n",
    "dirty_data.season.value_counts()"
   ]
  },
  {
   "cell_type": "markdown",
   "metadata": {},
   "source": [
    "### 4.2 `nearest_warehouse`"
   ]
  },
  {
   "cell_type": "markdown",
   "metadata": {},
   "source": [
    "What about the warehouse columns, there are only three warehouses, why is there 6 unique values? Does this spelling error also apply to warehouse names?"
   ]
  },
  {
   "cell_type": "code",
   "execution_count": 203,
   "metadata": {},
   "outputs": [
    {
     "data": {
      "text/plain": [
       "Nickolson    195\n",
       "Thompson     187\n",
       "Bakers        96\n",
       "nickolson     12\n",
       "thompson       6\n",
       "bakers         4\n",
       "Name: nearest_warehouse, dtype: int64"
      ]
     },
     "execution_count": 203,
     "metadata": {},
     "output_type": "execute_result"
    }
   ],
   "source": [
    "# check the names of warehouse\n",
    "\n",
    "dirty_data.nearest_warehouse.value_counts()"
   ]
  },
  {
   "cell_type": "markdown",
   "metadata": {},
   "source": [
    "Yes, we find the same issue here, some names are wrttien in lower cases, lets fix them."
   ]
  },
  {
   "cell_type": "code",
   "execution_count": 204,
   "metadata": {
    "scrolled": true
   },
   "outputs": [
    {
     "data": {
      "text/plain": [
       "Nickolson    207\n",
       "Thompson     193\n",
       "Bakers       100\n",
       "Name: nearest_warehouse, dtype: int64"
      ]
     },
     "execution_count": 204,
     "metadata": {},
     "output_type": "execute_result"
    }
   ],
   "source": [
    "# Same issue here, some names are wrttien in lower cases, lets fix them\n",
    "\n",
    "dirty_data.nearest_warehouse.replace({'nickolson':'Nickolson', 'thompson':'Thompson', 'bakers':'Bakers'}, inplace = True)\n",
    "\n",
    "# check again\n",
    "\n",
    "dirty_data.nearest_warehouse.value_counts()"
   ]
  },
  {
   "cell_type": "markdown",
   "metadata": {},
   "source": [
    "### 4.3 `Customer_lat` and `customer_long`\n",
    "\n",
    "From the `describe()` we observed that the maximum for latitute is 145.008961 and minimum for longitude is -37.825319. The value for latitute at 145 is definitely incorrect, latitude only have range from -90 to 90. It might be entry errors where latitude is entered as longitude or the otherway around. Lets fix these syntactical anomalies.\n",
    "\n",
    "As it is in Australia, most latitude is around -37 and longitude around 144, thus we want to find the ones where latitude is positive and swap it with its longitude value."
   ]
  },
  {
   "cell_type": "code",
   "execution_count": 205,
   "metadata": {},
   "outputs": [],
   "source": [
    "# swap the value of two columns where latitude is positive (not around -37)\n",
    "dirty_data[['customer_lat','customer_long']] = dirty_data[['customer_long','customer_lat']].where(dirty_data['customer_lat'] > 0, dirty_data[['customer_lat','customer_long']].values) "
   ]
  },
  {
   "cell_type": "code",
   "execution_count": 206,
   "metadata": {},
   "outputs": [
    {
     "data": {
      "text/html": [
       "<div>\n",
       "<style scoped>\n",
       "    .dataframe tbody tr th:only-of-type {\n",
       "        vertical-align: middle;\n",
       "    }\n",
       "\n",
       "    .dataframe tbody tr th {\n",
       "        vertical-align: top;\n",
       "    }\n",
       "\n",
       "    .dataframe thead th {\n",
       "        text-align: right;\n",
       "    }\n",
       "</style>\n",
       "<table border=\"1\" class=\"dataframe\">\n",
       "  <thead>\n",
       "    <tr style=\"text-align: right;\">\n",
       "      <th></th>\n",
       "      <th>order_price</th>\n",
       "      <th>delivery_charges</th>\n",
       "      <th>customer_lat</th>\n",
       "      <th>customer_long</th>\n",
       "      <th>coupon_discount</th>\n",
       "      <th>order_total</th>\n",
       "      <th>distance_to_nearest_warehouse</th>\n",
       "    </tr>\n",
       "  </thead>\n",
       "  <tbody>\n",
       "    <tr>\n",
       "      <th>count</th>\n",
       "      <td>500.000000</td>\n",
       "      <td>500.000000</td>\n",
       "      <td>500.000000</td>\n",
       "      <td>500.000000</td>\n",
       "      <td>500.00000</td>\n",
       "      <td>500.000000</td>\n",
       "      <td>500.000000</td>\n",
       "    </tr>\n",
       "    <tr>\n",
       "      <th>mean</th>\n",
       "      <td>13418.010000</td>\n",
       "      <td>77.777980</td>\n",
       "      <td>-37.812490</td>\n",
       "      <td>144.967698</td>\n",
       "      <td>11.11000</td>\n",
       "      <td>11785.974540</td>\n",
       "      <td>1.040945</td>\n",
       "    </tr>\n",
       "    <tr>\n",
       "      <th>std</th>\n",
       "      <td>7882.758855</td>\n",
       "      <td>14.533738</td>\n",
       "      <td>0.007717</td>\n",
       "      <td>0.019383</td>\n",
       "      <td>8.84162</td>\n",
       "      <td>6929.822789</td>\n",
       "      <td>0.494563</td>\n",
       "    </tr>\n",
       "    <tr>\n",
       "      <th>min</th>\n",
       "      <td>580.000000</td>\n",
       "      <td>47.340000</td>\n",
       "      <td>-37.827894</td>\n",
       "      <td>144.928555</td>\n",
       "      <td>0.00000</td>\n",
       "      <td>539.640000</td>\n",
       "      <td>0.035300</td>\n",
       "    </tr>\n",
       "    <tr>\n",
       "      <th>25%</th>\n",
       "      <td>6878.750000</td>\n",
       "      <td>66.725000</td>\n",
       "      <td>-37.818843</td>\n",
       "      <td>144.953951</td>\n",
       "      <td>5.00000</td>\n",
       "      <td>6489.780000</td>\n",
       "      <td>0.692225</td>\n",
       "    </tr>\n",
       "    <tr>\n",
       "      <th>50%</th>\n",
       "      <td>12415.000000</td>\n",
       "      <td>77.050000</td>\n",
       "      <td>-37.812936</td>\n",
       "      <td>144.964152</td>\n",
       "      <td>10.00000</td>\n",
       "      <td>10436.275000</td>\n",
       "      <td>0.999200</td>\n",
       "    </tr>\n",
       "    <tr>\n",
       "      <th>75%</th>\n",
       "      <td>18747.500000</td>\n",
       "      <td>85.925000</td>\n",
       "      <td>-37.806209</td>\n",
       "      <td>144.979340</td>\n",
       "      <td>15.00000</td>\n",
       "      <td>16654.627500</td>\n",
       "      <td>1.336000</td>\n",
       "    </tr>\n",
       "    <tr>\n",
       "      <th>max</th>\n",
       "      <td>43610.000000</td>\n",
       "      <td>122.170000</td>\n",
       "      <td>-37.786554</td>\n",
       "      <td>145.019706</td>\n",
       "      <td>25.00000</td>\n",
       "      <td>41502.140000</td>\n",
       "      <td>3.382900</td>\n",
       "    </tr>\n",
       "  </tbody>\n",
       "</table>\n",
       "</div>"
      ],
      "text/plain": [
       "        order_price  delivery_charges  customer_lat  customer_long  \\\n",
       "count    500.000000        500.000000    500.000000     500.000000   \n",
       "mean   13418.010000         77.777980    -37.812490     144.967698   \n",
       "std     7882.758855         14.533738      0.007717       0.019383   \n",
       "min      580.000000         47.340000    -37.827894     144.928555   \n",
       "25%     6878.750000         66.725000    -37.818843     144.953951   \n",
       "50%    12415.000000         77.050000    -37.812936     144.964152   \n",
       "75%    18747.500000         85.925000    -37.806209     144.979340   \n",
       "max    43610.000000        122.170000    -37.786554     145.019706   \n",
       "\n",
       "       coupon_discount   order_total  distance_to_nearest_warehouse  \n",
       "count        500.00000    500.000000                     500.000000  \n",
       "mean          11.11000  11785.974540                       1.040945  \n",
       "std            8.84162   6929.822789                       0.494563  \n",
       "min            0.00000    539.640000                       0.035300  \n",
       "25%            5.00000   6489.780000                       0.692225  \n",
       "50%           10.00000  10436.275000                       0.999200  \n",
       "75%           15.00000  16654.627500                       1.336000  \n",
       "max           25.00000  41502.140000                       3.382900  "
      ]
     },
     "execution_count": 206,
     "metadata": {},
     "output_type": "execute_result"
    }
   ],
   "source": [
    "# double check after fixing\n",
    "dirty_data.describe()"
   ]
  },
  {
   "cell_type": "markdown",
   "metadata": {},
   "source": [
    "### 4.4 Warehouse and `distance_to_nearest_warehouse`\n",
    "\n"
   ]
  },
  {
   "cell_type": "code",
   "execution_count": 207,
   "metadata": {},
   "outputs": [
    {
     "data": {
      "text/plain": [
       "<matplotlib.axes._subplots.AxesSubplot at 0x1fd0de251c8>"
      ]
     },
     "execution_count": 207,
     "metadata": {},
     "output_type": "execute_result"
    },
    {
     "data": {
      "image/png": "[encoded data removed]",
      "text/plain": [
       "<Figure size 432x288 with 1 Axes>"
      ]
     },
     "metadata": {
      "needs_background": "light"
     },
     "output_type": "display_data"
    }
   ],
   "source": [
    "# check the distribution of each warehouse\n",
    "dirty_data.loc[:,['nearest_warehouse','distance_to_nearest_warehouse']].boxplot(by = 'nearest_warehouse')"
   ]
  },
  {
   "cell_type": "markdown",
   "metadata": {},
   "source": [
    "From the boxplot we can see that the distribution and the mean of distance does differs between different warehouses. Also based on given domain, it is reasonable to think that two variables must be correlated."
   ]
  },
  {
   "cell_type": "code",
   "execution_count": 208,
   "metadata": {
    "scrolled": true
   },
   "outputs": [
    {
     "data": {
      "text/html": [
       "<div>\n",
       "<style scoped>\n",
       "    .dataframe tbody tr th:only-of-type {\n",
       "        vertical-align: middle;\n",
       "    }\n",
       "\n",
       "    .dataframe tbody tr th {\n",
       "        vertical-align: top;\n",
       "    }\n",
       "\n",
       "    .dataframe thead th {\n",
       "        text-align: right;\n",
       "    }\n",
       "</style>\n",
       "<table border=\"1\" class=\"dataframe\">\n",
       "  <thead>\n",
       "    <tr style=\"text-align: right;\">\n",
       "      <th></th>\n",
       "      <th>names</th>\n",
       "      <th>lat</th>\n",
       "      <th>lon</th>\n",
       "    </tr>\n",
       "  </thead>\n",
       "  <tbody>\n",
       "    <tr>\n",
       "      <th>0</th>\n",
       "      <td>Nickolson</td>\n",
       "      <td>-37.818595</td>\n",
       "      <td>144.969551</td>\n",
       "    </tr>\n",
       "    <tr>\n",
       "      <th>1</th>\n",
       "      <td>Thompson</td>\n",
       "      <td>-37.812673</td>\n",
       "      <td>144.947069</td>\n",
       "    </tr>\n",
       "    <tr>\n",
       "      <th>2</th>\n",
       "      <td>Bakers</td>\n",
       "      <td>-37.809996</td>\n",
       "      <td>144.995232</td>\n",
       "    </tr>\n",
       "  </tbody>\n",
       "</table>\n",
       "</div>"
      ],
      "text/plain": [
       "       names        lat         lon\n",
       "0  Nickolson -37.818595  144.969551\n",
       "1   Thompson -37.812673  144.947069\n",
       "2     Bakers -37.809996  144.995232"
      ]
     },
     "execution_count": 208,
     "metadata": {},
     "output_type": "execute_result"
    }
   ],
   "source": [
    "# Check lat and long of each warehouse \n",
    "warehouse"
   ]
  },
  {
   "cell_type": "markdown",
   "metadata": {},
   "source": [
    "Now with given location of the warehouse in `warehouse.csv` and the correct location of customer, we are able to verify the distance values using haversine formula."
   ]
  },
  {
   "cell_type": "code",
   "execution_count": 209,
   "metadata": {
    "scrolled": true
   },
   "outputs": [],
   "source": [
    "# function to calculate distance\n",
    "def distance_to_warehouse(lat1, lon1,lat2,lon2):\n",
    "    R = 6378 # radius of earth\n",
    "    \n",
    "    # calculate constants\n",
    "    lat_diff = (lat2 - lat1) * (math.pi/180)\n",
    "    lon_diff = (lon2 - lon1) * (math.pi/180)\n",
    "    lat_const1 = lat1 * (math.pi/180)\n",
    "    lat_const2 = lat2 * (math.pi/180)\n",
    "    a = (math.sin(lat_diff/2) ** 2) + math.cos(lat_const1) * math.cos(lat_const2) * (math.sin(lon_diff/2) ** 2)\n",
    "    c = 2 * math.atan2(math.sqrt(a), math.sqrt(1-a))\n",
    "\n",
    "    # calcualte distance\n",
    "    distance = round(R * c, 4)\n",
    "    \n",
    "    return distance"
   ]
  },
  {
   "cell_type": "markdown",
   "metadata": {},
   "source": [
    "Now we can use the formula to replace all the wrong distances in the dataset. Use warehouse name to determine the \n",
    "latitude and longitude. Use loop to run through the whole dataset."
   ]
  },
  {
   "cell_type": "code",
   "execution_count": 210,
   "metadata": {},
   "outputs": [],
   "source": [
    "# check if distance to warehouse is correct\n",
    "\n",
    "for i in range(len(dirty_data.nearest_warehouse)):\n",
    "    # assign lat and long values based on warehouse name\n",
    "    if dirty_data.nearest_warehouse[i] == warehouse.names[0]:\n",
    "        ware_lat = warehouse.lat[0]\n",
    "        ware_lon = warehouse.lon[0]\n",
    "    elif dirty_data.nearest_warehouse[i] == warehouse.names[1]:\n",
    "        ware_lat = warehouse.lat[1]\n",
    "        ware_lon = warehouse.lon[1]\n",
    "    elif dirty_data.nearest_warehouse[i] == warehouse.names[2]:\n",
    "        ware_lat = warehouse.lat[2]\n",
    "        ware_lon = warehouse.lon[2]\n",
    "        \n",
    "    # assign the lat and long of customer   \n",
    "    cus_lat = dirty_data.customer_lat[i]\n",
    "    cus_lon = dirty_data.customer_long[i]\n",
    "    \n",
    "    # calculate the distance between customer and warehouse\n",
    "    distance = distance_to_warehouse(ware_lat, ware_lon, cus_lat, cus_lon)\n",
    "    \n",
    "    # find the values that does not match and replace value with distance just calculated by formula\n",
    "    if distance != dirty_data.distance_to_nearest_warehouse[i]:\n",
    "        dirty_data.distance_to_nearest_warehouse[i] = distance"
   ]
  },
  {
   "cell_type": "markdown",
   "metadata": {},
   "source": [
    "### 4.5 `Date`"
   ]
  },
  {
   "cell_type": "markdown",
   "metadata": {},
   "source": [
    "Now, lets check if there are any problem in date column."
   ]
  },
  {
   "cell_type": "code",
   "execution_count": 211,
   "metadata": {},
   "outputs": [
    {
     "data": {
      "text/html": [
       "<div>\n",
       "<style scoped>\n",
       "    .dataframe tbody tr th:only-of-type {\n",
       "        vertical-align: middle;\n",
       "    }\n",
       "\n",
       "    .dataframe tbody tr th {\n",
       "        vertical-align: top;\n",
       "    }\n",
       "\n",
       "    .dataframe thead th {\n",
       "        text-align: right;\n",
       "    }\n",
       "</style>\n",
       "<table border=\"1\" class=\"dataframe\">\n",
       "  <thead>\n",
       "    <tr style=\"text-align: right;\">\n",
       "      <th></th>\n",
       "      <th>order_id</th>\n",
       "      <th>customer_id</th>\n",
       "      <th>date</th>\n",
       "      <th>nearest_warehouse</th>\n",
       "      <th>shopping_cart</th>\n",
       "      <th>order_price</th>\n",
       "      <th>delivery_charges</th>\n",
       "      <th>customer_lat</th>\n",
       "      <th>customer_long</th>\n",
       "      <th>coupon_discount</th>\n",
       "      <th>order_total</th>\n",
       "      <th>season</th>\n",
       "      <th>is_expedited_delivery</th>\n",
       "      <th>distance_to_nearest_warehouse</th>\n",
       "      <th>latest_customer_review</th>\n",
       "      <th>is_happy_customer</th>\n",
       "    </tr>\n",
       "  </thead>\n",
       "  <tbody>\n",
       "    <tr>\n",
       "      <th>0</th>\n",
       "      <td>ORD249513</td>\n",
       "      <td>ID1459448721</td>\n",
       "      <td>2019-01-04</td>\n",
       "      <td>Bakers</td>\n",
       "      <td>[('Universe Note', 2), ('Alcon 10', 1)]</td>\n",
       "      <td>13400</td>\n",
       "      <td>79.89</td>\n",
       "      <td>-37.819538</td>\n",
       "      <td>145.008880</td>\n",
       "      <td>15</td>\n",
       "      <td>11469.89</td>\n",
       "      <td>Summer</td>\n",
       "      <td>False</td>\n",
       "      <td>1.6027</td>\n",
       "      <td>None</td>\n",
       "      <td>True</td>\n",
       "    </tr>\n",
       "    <tr>\n",
       "      <th>1</th>\n",
       "      <td>ORD408577</td>\n",
       "      <td>ID0301542599</td>\n",
       "      <td>2019-02-28</td>\n",
       "      <td>Thompson</td>\n",
       "      <td>[('Thunder line', 2), ('pearTV', 1)]</td>\n",
       "      <td>10670</td>\n",
       "      <td>77.27</td>\n",
       "      <td>-37.822139</td>\n",
       "      <td>144.949866</td>\n",
       "      <td>5</td>\n",
       "      <td>10213.77</td>\n",
       "      <td>Summer</td>\n",
       "      <td>False</td>\n",
       "      <td>1.0820</td>\n",
       "      <td>five stars great value</td>\n",
       "      <td>True</td>\n",
       "    </tr>\n",
       "    <tr>\n",
       "      <th>2</th>\n",
       "      <td>ORD251872</td>\n",
       "      <td>ID3215192366</td>\n",
       "      <td>2019-12-29</td>\n",
       "      <td>Thompson</td>\n",
       "      <td>[('Olivia x460', 1), ('Lucent 330S', 2), ('iAs...</td>\n",
       "      <td>24175</td>\n",
       "      <td>68.42</td>\n",
       "      <td>-37.809187</td>\n",
       "      <td>144.945239</td>\n",
       "      <td>5</td>\n",
       "      <td>7796.67</td>\n",
       "      <td>Summer</td>\n",
       "      <td>False</td>\n",
       "      <td>0.4201</td>\n",
       "      <td>five stars love it</td>\n",
       "      <td>True</td>\n",
       "    </tr>\n",
       "    <tr>\n",
       "      <th>3</th>\n",
       "      <td>ORD383274</td>\n",
       "      <td>ID0395252517</td>\n",
       "      <td>2019-04-30</td>\n",
       "      <td>Nickolson</td>\n",
       "      <td>[('Universe Note', 1), ('Candle Inferno', 1)]</td>\n",
       "      <td>3880</td>\n",
       "      <td>69.53</td>\n",
       "      <td>-37.799950</td>\n",
       "      <td>144.977110</td>\n",
       "      <td>10</td>\n",
       "      <td>3561.53</td>\n",
       "      <td>Autumn</td>\n",
       "      <td>False</td>\n",
       "      <td>2.1794</td>\n",
       "      <td>used for employees use these phones to hand ou...</td>\n",
       "      <td>True</td>\n",
       "    </tr>\n",
       "    <tr>\n",
       "      <th>4</th>\n",
       "      <td>ORD387489</td>\n",
       "      <td>ID0577521804</td>\n",
       "      <td>2019-05-02</td>\n",
       "      <td>Nickolson</td>\n",
       "      <td>[('iStream', 2), ('iAssist Line', 2), ('Alcon ...</td>\n",
       "      <td>17150</td>\n",
       "      <td>65.02</td>\n",
       "      <td>-37.823326</td>\n",
       "      <td>144.972047</td>\n",
       "      <td>5</td>\n",
       "      <td>16357.52</td>\n",
       "      <td>Autumn</td>\n",
       "      <td>False</td>\n",
       "      <td>0.5705</td>\n",
       "      <td>great tablet but apps limited comparison of ot...</td>\n",
       "      <td>True</td>\n",
       "    </tr>\n",
       "    <tr>\n",
       "      <th>5</th>\n",
       "      <td>ORD014190</td>\n",
       "      <td>ID1479897587</td>\n",
       "      <td>2019-09-13</td>\n",
       "      <td>Nickolson</td>\n",
       "      <td>[('Olivia x460', 1), ('iStream', 2), ('pearTV'...</td>\n",
       "      <td>7835</td>\n",
       "      <td>102.38</td>\n",
       "      <td>-37.820108</td>\n",
       "      <td>144.958328</td>\n",
       "      <td>15</td>\n",
       "      <td>6762.13</td>\n",
       "      <td>Spring</td>\n",
       "      <td>False</td>\n",
       "      <td>1.0012</td>\n",
       "      <td>five stars nice used phone</td>\n",
       "      <td>True</td>\n",
       "    </tr>\n",
       "    <tr>\n",
       "      <th>6</th>\n",
       "      <td>ORD001360</td>\n",
       "      <td>ID0176722515</td>\n",
       "      <td>2019-07-31</td>\n",
       "      <td>Nickolson</td>\n",
       "      <td>[('Universe Note', 1), ('iStream', 2), ('Olivi...</td>\n",
       "      <td>9425</td>\n",
       "      <td>76.09</td>\n",
       "      <td>-37.814134</td>\n",
       "      <td>144.967304</td>\n",
       "      <td>10</td>\n",
       "      <td>8558.59</td>\n",
       "      <td>Winter</td>\n",
       "      <td>False</td>\n",
       "      <td>0.5344</td>\n",
       "      <td>like a tablet. great, fast connection. everyth...</td>\n",
       "      <td>True</td>\n",
       "    </tr>\n",
       "    <tr>\n",
       "      <th>7</th>\n",
       "      <td>ORD394829</td>\n",
       "      <td>ID1217532920</td>\n",
       "      <td>2019-03-23</td>\n",
       "      <td>Thompson</td>\n",
       "      <td>[('pearTV', 1), ('Olivia x460', 2), ('iStream'...</td>\n",
       "      <td>11090</td>\n",
       "      <td>48.01</td>\n",
       "      <td>-37.818102</td>\n",
       "      <td>144.948573</td>\n",
       "      <td>0</td>\n",
       "      <td>11138.01</td>\n",
       "      <td>Autumn</td>\n",
       "      <td>False</td>\n",
       "      <td>0.6186</td>\n",
       "      <td>i have had this phone for less than 3 months ....</td>\n",
       "      <td>False</td>\n",
       "    </tr>\n",
       "    <tr>\n",
       "      <th>8</th>\n",
       "      <td>ORD493520</td>\n",
       "      <td>ID3924931354</td>\n",
       "      <td>2019-11-21</td>\n",
       "      <td>Nickolson</td>\n",
       "      <td>[('Toshika 750', 1), ('Lucent 330S', 1), ('iSt...</td>\n",
       "      <td>6130</td>\n",
       "      <td>96.67</td>\n",
       "      <td>-37.816280</td>\n",
       "      <td>144.966995</td>\n",
       "      <td>0</td>\n",
       "      <td>6226.67</td>\n",
       "      <td>Spring</td>\n",
       "      <td>True</td>\n",
       "      <td>0.3419</td>\n",
       "      <td>excellent phone! great phone!! it works smooth...</td>\n",
       "      <td>True</td>\n",
       "    </tr>\n",
       "    <tr>\n",
       "      <th>9</th>\n",
       "      <td>ORD045721</td>\n",
       "      <td>ID0777783111</td>\n",
       "      <td>2019-21-06</td>\n",
       "      <td>Thompson</td>\n",
       "      <td>[('iStream', 1), ('Universe Note', 1), ('Thund...</td>\n",
       "      <td>23680</td>\n",
       "      <td>66.38</td>\n",
       "      <td>-37.804775</td>\n",
       "      <td>144.953908</td>\n",
       "      <td>10</td>\n",
       "      <td>21378.38</td>\n",
       "      <td>Winter</td>\n",
       "      <td>False</td>\n",
       "      <td>1.0653</td>\n",
       "      <td>i love it! learning knew things with it eveyda...</td>\n",
       "      <td>True</td>\n",
       "    </tr>\n",
       "    <tr>\n",
       "      <th>10</th>\n",
       "      <td>ORD043894</td>\n",
       "      <td>ID0767729196</td>\n",
       "      <td>2019-10-09</td>\n",
       "      <td>Thompson</td>\n",
       "      <td>[('Lucent 330S', 1), ('Universe Note', 1), ('T...</td>\n",
       "      <td>22270</td>\n",
       "      <td>74.27</td>\n",
       "      <td>-37.809003</td>\n",
       "      <td>144.944988</td>\n",
       "      <td>25</td>\n",
       "      <td>16776.77</td>\n",
       "      <td>Summer</td>\n",
       "      <td>False</td>\n",
       "      <td>0.4477</td>\n",
       "      <td>very happy so far. great phone so far and has ...</td>\n",
       "      <td>True</td>\n",
       "    </tr>\n",
       "    <tr>\n",
       "      <th>11</th>\n",
       "      <td>ORD099388</td>\n",
       "      <td>ID1492169340</td>\n",
       "      <td>2019-09-30</td>\n",
       "      <td>Thompson</td>\n",
       "      <td>[('Lucent 330S', 1), ('iAssist Line', 1), ('iS...</td>\n",
       "      <td>4830</td>\n",
       "      <td>84.34</td>\n",
       "      <td>-37.801811</td>\n",
       "      <td>144.963642</td>\n",
       "      <td>15</td>\n",
       "      <td>4189.84</td>\n",
       "      <td>Spring</td>\n",
       "      <td>False</td>\n",
       "      <td>1.8939</td>\n",
       "      <td>sweet tablet yo, does good work for my grandma...</td>\n",
       "      <td>True</td>\n",
       "    </tr>\n",
       "  </tbody>\n",
       "</table>\n",
       "</div>"
      ],
      "text/plain": [
       "     order_id   customer_id        date nearest_warehouse  \\\n",
       "0   ORD249513  ID1459448721  2019-01-04            Bakers   \n",
       "1   ORD408577  ID0301542599  2019-02-28          Thompson   \n",
       "2   ORD251872  ID3215192366  2019-12-29          Thompson   \n",
       "3   ORD383274  ID0395252517  2019-04-30         Nickolson   \n",
       "4   ORD387489  ID0577521804  2019-05-02         Nickolson   \n",
       "5   ORD014190  ID1479897587  2019-09-13         Nickolson   \n",
       "6   ORD001360  ID0176722515  2019-07-31         Nickolson   \n",
       "7   ORD394829  ID1217532920  2019-03-23          Thompson   \n",
       "8   ORD493520  ID3924931354  2019-11-21         Nickolson   \n",
       "9   ORD045721  ID0777783111  2019-21-06          Thompson   \n",
       "10  ORD043894  ID0767729196  2019-10-09          Thompson   \n",
       "11  ORD099388  ID1492169340  2019-09-30          Thompson   \n",
       "\n",
       "                                        shopping_cart  order_price  \\\n",
       "0             [('Universe Note', 2), ('Alcon 10', 1)]        13400   \n",
       "1                [('Thunder line', 2), ('pearTV', 1)]        10670   \n",
       "2   [('Olivia x460', 1), ('Lucent 330S', 2), ('iAs...        24175   \n",
       "3       [('Universe Note', 1), ('Candle Inferno', 1)]         3880   \n",
       "4   [('iStream', 2), ('iAssist Line', 2), ('Alcon ...        17150   \n",
       "5   [('Olivia x460', 1), ('iStream', 2), ('pearTV'...         7835   \n",
       "6   [('Universe Note', 1), ('iStream', 2), ('Olivi...         9425   \n",
       "7   [('pearTV', 1), ('Olivia x460', 2), ('iStream'...        11090   \n",
       "8   [('Toshika 750', 1), ('Lucent 330S', 1), ('iSt...         6130   \n",
       "9   [('iStream', 1), ('Universe Note', 1), ('Thund...        23680   \n",
       "10  [('Lucent 330S', 1), ('Universe Note', 1), ('T...        22270   \n",
       "11  [('Lucent 330S', 1), ('iAssist Line', 1), ('iS...         4830   \n",
       "\n",
       "    delivery_charges  customer_lat  customer_long  coupon_discount  \\\n",
       "0              79.89    -37.819538     145.008880               15   \n",
       "1              77.27    -37.822139     144.949866                5   \n",
       "2              68.42    -37.809187     144.945239                5   \n",
       "3              69.53    -37.799950     144.977110               10   \n",
       "4              65.02    -37.823326     144.972047                5   \n",
       "5             102.38    -37.820108     144.958328               15   \n",
       "6              76.09    -37.814134     144.967304               10   \n",
       "7              48.01    -37.818102     144.948573                0   \n",
       "8              96.67    -37.816280     144.966995                0   \n",
       "9              66.38    -37.804775     144.953908               10   \n",
       "10             74.27    -37.809003     144.944988               25   \n",
       "11             84.34    -37.801811     144.963642               15   \n",
       "\n",
       "    order_total  season  is_expedited_delivery  distance_to_nearest_warehouse  \\\n",
       "0      11469.89  Summer                  False                         1.6027   \n",
       "1      10213.77  Summer                  False                         1.0820   \n",
       "2       7796.67  Summer                  False                         0.4201   \n",
       "3       3561.53  Autumn                  False                         2.1794   \n",
       "4      16357.52  Autumn                  False                         0.5705   \n",
       "5       6762.13  Spring                  False                         1.0012   \n",
       "6       8558.59  Winter                  False                         0.5344   \n",
       "7      11138.01  Autumn                  False                         0.6186   \n",
       "8       6226.67  Spring                   True                         0.3419   \n",
       "9      21378.38  Winter                  False                         1.0653   \n",
       "10     16776.77  Summer                  False                         0.4477   \n",
       "11      4189.84  Spring                  False                         1.8939   \n",
       "\n",
       "                               latest_customer_review  is_happy_customer  \n",
       "0                                                None               True  \n",
       "1                              five stars great value               True  \n",
       "2                                  five stars love it               True  \n",
       "3   used for employees use these phones to hand ou...               True  \n",
       "4   great tablet but apps limited comparison of ot...               True  \n",
       "5                          five stars nice used phone               True  \n",
       "6   like a tablet. great, fast connection. everyth...               True  \n",
       "7   i have had this phone for less than 3 months ....              False  \n",
       "8   excellent phone! great phone!! it works smooth...               True  \n",
       "9   i love it! learning knew things with it eveyda...               True  \n",
       "10  very happy so far. great phone so far and has ...               True  \n",
       "11  sweet tablet yo, does good work for my grandma...               True  "
      ]
     },
     "execution_count": 211,
     "metadata": {},
     "output_type": "execute_result"
    }
   ],
   "source": [
    "# Check if date format is consistent\n",
    "dirty_data.loc[0:11]"
   ]
  },
  {
   "cell_type": "markdown",
   "metadata": {},
   "source": [
    "We find that date format are not always the same, in roll 9 the date is in year-day-month instead of year-month-day. Need to keep it consistent.\n",
    "\n",
    "First, lets split the date column into three seperate column: `year`, `month` and `day`. "
   ]
  },
  {
   "cell_type": "code",
   "execution_count": 212,
   "metadata": {},
   "outputs": [],
   "source": [
    "# split the date column in to year, month and day columns\n",
    "\n",
    "dirty_data[[\"Year\",\"Month\",\"Day\"]] = dirty_data.date.str.split(\"-\", expand = True)\n"
   ]
  },
  {
   "cell_type": "markdown",
   "metadata": {},
   "source": [
    "Now, for Month with value that is larger than 12, we want to swap the value of day and month, so the date value is in the correct format (%Y-%m-%d).\n",
    "\n",
    "This method works because lucky the inconsistent dates in data are dates start from the 13th of the month. Thus, this method of detection is valid.\n"
   ]
  },
  {
   "cell_type": "code",
   "execution_count": 213,
   "metadata": {},
   "outputs": [],
   "source": [
    "# swap values in month and day columns, if month is > 12\n",
    "\n",
    "dirty_data[['Month','Day']] = dirty_data[['Day','Month']].where(pd.to_numeric(dirty_data['Month'])>12, dirty_data[['Month','Day']].values)"
   ]
  },
  {
   "cell_type": "markdown",
   "metadata": {},
   "source": [
    "Check the month values after the process"
   ]
  },
  {
   "cell_type": "code",
   "execution_count": 214,
   "metadata": {},
   "outputs": [
    {
     "data": {
      "text/plain": [
       "10    51\n",
       "09    50\n",
       "07    48\n",
       "11    43\n",
       "01    43\n",
       "05    42\n",
       "06    40\n",
       "12    40\n",
       "02    39\n",
       "08    37\n",
       "04    36\n",
       "03    31\n",
       "Name: Month, dtype: int64"
      ]
     },
     "execution_count": 214,
     "metadata": {},
     "output_type": "execute_result"
    }
   ],
   "source": [
    "# check month values \n",
    "\n",
    "dirty_data.Month.value_counts()"
   ]
  },
  {
   "cell_type": "markdown",
   "metadata": {},
   "source": [
    "Now we have the corrected value in the month and day column, before we combine the year-month-day columns back to one, there is another thing i would like to verify."
   ]
  },
  {
   "cell_type": "markdown",
   "metadata": {},
   "source": [
    "### 4.6 `Date` and `season`\n",
    "For each season, there is a date range correspond to that season. \n",
    "According to Australia government, in Australia, the seasons are defined by grouping the calendar months in the following way:\n",
    "\n",
    "Spring - the three transition months September, October and November.\n",
    "\n",
    "Summer - the three hottest months December, January and February.\n",
    "\n",
    "Autumn - the transition months March, April and May.\n",
    "\n",
    "Winter - the three coldest months June, July and August. \n",
    "\n",
    "Ideally, the season and month values should match. Which means we can use month value to check if season values are the corresponded season names. If not match, we can say that particular season value is incorrect, as its highly unlikely a exact given date is wrong. Even if it is wrong, there is no way to fix it. Therefore, we choose to fix the season values. "
   ]
  },
  {
   "cell_type": "code",
   "execution_count": 215,
   "metadata": {
    "scrolled": true
   },
   "outputs": [
    {
     "data": {
      "text/html": [
       "<div>\n",
       "<style scoped>\n",
       "    .dataframe tbody tr th:only-of-type {\n",
       "        vertical-align: middle;\n",
       "    }\n",
       "\n",
       "    .dataframe tbody tr th {\n",
       "        vertical-align: top;\n",
       "    }\n",
       "\n",
       "    .dataframe thead th {\n",
       "        text-align: right;\n",
       "    }\n",
       "</style>\n",
       "<table border=\"1\" class=\"dataframe\">\n",
       "  <thead>\n",
       "    <tr style=\"text-align: right;\">\n",
       "      <th>Month</th>\n",
       "      <th>01</th>\n",
       "      <th>02</th>\n",
       "      <th>03</th>\n",
       "      <th>04</th>\n",
       "      <th>05</th>\n",
       "      <th>06</th>\n",
       "      <th>07</th>\n",
       "      <th>08</th>\n",
       "      <th>09</th>\n",
       "      <th>10</th>\n",
       "      <th>11</th>\n",
       "      <th>12</th>\n",
       "    </tr>\n",
       "    <tr>\n",
       "      <th>season</th>\n",
       "      <th></th>\n",
       "      <th></th>\n",
       "      <th></th>\n",
       "      <th></th>\n",
       "      <th></th>\n",
       "      <th></th>\n",
       "      <th></th>\n",
       "      <th></th>\n",
       "      <th></th>\n",
       "      <th></th>\n",
       "      <th></th>\n",
       "      <th></th>\n",
       "    </tr>\n",
       "  </thead>\n",
       "  <tbody>\n",
       "    <tr>\n",
       "      <th>Autumn</th>\n",
       "      <td>1</td>\n",
       "      <td>1</td>\n",
       "      <td>30</td>\n",
       "      <td>34</td>\n",
       "      <td>41</td>\n",
       "      <td>0</td>\n",
       "      <td>1</td>\n",
       "      <td>0</td>\n",
       "      <td>0</td>\n",
       "      <td>0</td>\n",
       "      <td>0</td>\n",
       "      <td>0</td>\n",
       "    </tr>\n",
       "    <tr>\n",
       "      <th>Spring</th>\n",
       "      <td>0</td>\n",
       "      <td>0</td>\n",
       "      <td>0</td>\n",
       "      <td>1</td>\n",
       "      <td>0</td>\n",
       "      <td>1</td>\n",
       "      <td>0</td>\n",
       "      <td>1</td>\n",
       "      <td>48</td>\n",
       "      <td>50</td>\n",
       "      <td>41</td>\n",
       "      <td>1</td>\n",
       "    </tr>\n",
       "    <tr>\n",
       "      <th>Summer</th>\n",
       "      <td>42</td>\n",
       "      <td>38</td>\n",
       "      <td>1</td>\n",
       "      <td>0</td>\n",
       "      <td>1</td>\n",
       "      <td>0</td>\n",
       "      <td>1</td>\n",
       "      <td>0</td>\n",
       "      <td>2</td>\n",
       "      <td>1</td>\n",
       "      <td>1</td>\n",
       "      <td>38</td>\n",
       "    </tr>\n",
       "    <tr>\n",
       "      <th>Winter</th>\n",
       "      <td>0</td>\n",
       "      <td>0</td>\n",
       "      <td>0</td>\n",
       "      <td>1</td>\n",
       "      <td>0</td>\n",
       "      <td>39</td>\n",
       "      <td>46</td>\n",
       "      <td>36</td>\n",
       "      <td>0</td>\n",
       "      <td>0</td>\n",
       "      <td>1</td>\n",
       "      <td>1</td>\n",
       "    </tr>\n",
       "  </tbody>\n",
       "</table>\n",
       "</div>"
      ],
      "text/plain": [
       "Month   01  02  03  04  05  06  07  08  09  10  11  12\n",
       "season                                                \n",
       "Autumn   1   1  30  34  41   0   1   0   0   0   0   0\n",
       "Spring   0   0   0   1   0   1   0   1  48  50  41   1\n",
       "Summer  42  38   1   0   1   0   1   0   2   1   1  38\n",
       "Winter   0   0   0   1   0  39  46  36   0   0   1   1"
      ]
     },
     "execution_count": 215,
     "metadata": {},
     "output_type": "execute_result"
    }
   ],
   "source": [
    "pd.crosstab(dirty_data.season, dirty_data.Month)"
   ]
  },
  {
   "cell_type": "markdown",
   "metadata": {},
   "source": [
    "Using `pd.crosstab()` function we observed that there are contradictions between season and month. We need to find the wrong season and fix it."
   ]
  },
  {
   "cell_type": "code",
   "execution_count": 216,
   "metadata": {
    "scrolled": true
   },
   "outputs": [],
   "source": [
    "season_list = ('Spring','Summer','Autumn','Winter')\n",
    "Spring = (9, 10, 11)\n",
    "Summer = (12, 1, 2)\n",
    "Autumn = (3, 4, 5)\n",
    "Winter = (6, 7, 8)\n",
    "\n",
    "for season in season_list:\n",
    "    if season == 'Spring':\n",
    "        month = Spring\n",
    "    elif season == 'Summer':\n",
    "        month = Summer\n",
    "    elif season == 'Autumn':\n",
    "        month = Autumn\n",
    "    elif season == 'Winter':\n",
    "        month = Winter\n",
    "    for i in range(0,499):\n",
    "        if dirty_data.season[i] == season and pd.to_numeric(dirty_data.Month[i]) not in month:\n",
    "            if pd.to_numeric(dirty_data.Month[i]) in Spring:\n",
    "                dirty_data.season[i] = 'Spring'\n",
    "            elif pd.to_numeric(dirty_data.Month[i]) in Summer:\n",
    "                dirty_data.season[i] = 'Summer'\n",
    "            elif pd.to_numeric(dirty_data.Month[i]) in Autumn:\n",
    "                dirty_data.season[i] = 'Autumn'\n",
    "            elif pd.to_numeric(dirty_data.Month[i]) in Winter:\n",
    "                dirty_data.season[i] = 'Winter'\n"
   ]
  },
  {
   "cell_type": "markdown",
   "metadata": {},
   "source": [
    "Lets check the month and season column again"
   ]
  },
  {
   "cell_type": "code",
   "execution_count": 217,
   "metadata": {
    "scrolled": false
   },
   "outputs": [
    {
     "data": {
      "text/html": [
       "<div>\n",
       "<style scoped>\n",
       "    .dataframe tbody tr th:only-of-type {\n",
       "        vertical-align: middle;\n",
       "    }\n",
       "\n",
       "    .dataframe tbody tr th {\n",
       "        vertical-align: top;\n",
       "    }\n",
       "\n",
       "    .dataframe thead th {\n",
       "        text-align: right;\n",
       "    }\n",
       "</style>\n",
       "<table border=\"1\" class=\"dataframe\">\n",
       "  <thead>\n",
       "    <tr style=\"text-align: right;\">\n",
       "      <th>Month</th>\n",
       "      <th>01</th>\n",
       "      <th>02</th>\n",
       "      <th>03</th>\n",
       "      <th>04</th>\n",
       "      <th>05</th>\n",
       "      <th>06</th>\n",
       "      <th>07</th>\n",
       "      <th>08</th>\n",
       "      <th>09</th>\n",
       "      <th>10</th>\n",
       "      <th>11</th>\n",
       "      <th>12</th>\n",
       "    </tr>\n",
       "    <tr>\n",
       "      <th>season</th>\n",
       "      <th></th>\n",
       "      <th></th>\n",
       "      <th></th>\n",
       "      <th></th>\n",
       "      <th></th>\n",
       "      <th></th>\n",
       "      <th></th>\n",
       "      <th></th>\n",
       "      <th></th>\n",
       "      <th></th>\n",
       "      <th></th>\n",
       "      <th></th>\n",
       "    </tr>\n",
       "  </thead>\n",
       "  <tbody>\n",
       "    <tr>\n",
       "      <th>Autumn</th>\n",
       "      <td>0</td>\n",
       "      <td>0</td>\n",
       "      <td>31</td>\n",
       "      <td>36</td>\n",
       "      <td>42</td>\n",
       "      <td>0</td>\n",
       "      <td>0</td>\n",
       "      <td>0</td>\n",
       "      <td>0</td>\n",
       "      <td>0</td>\n",
       "      <td>0</td>\n",
       "      <td>0</td>\n",
       "    </tr>\n",
       "    <tr>\n",
       "      <th>Spring</th>\n",
       "      <td>0</td>\n",
       "      <td>0</td>\n",
       "      <td>0</td>\n",
       "      <td>0</td>\n",
       "      <td>0</td>\n",
       "      <td>0</td>\n",
       "      <td>0</td>\n",
       "      <td>0</td>\n",
       "      <td>50</td>\n",
       "      <td>51</td>\n",
       "      <td>43</td>\n",
       "      <td>0</td>\n",
       "    </tr>\n",
       "    <tr>\n",
       "      <th>Summer</th>\n",
       "      <td>43</td>\n",
       "      <td>39</td>\n",
       "      <td>0</td>\n",
       "      <td>0</td>\n",
       "      <td>0</td>\n",
       "      <td>0</td>\n",
       "      <td>0</td>\n",
       "      <td>0</td>\n",
       "      <td>0</td>\n",
       "      <td>0</td>\n",
       "      <td>0</td>\n",
       "      <td>40</td>\n",
       "    </tr>\n",
       "    <tr>\n",
       "      <th>Winter</th>\n",
       "      <td>0</td>\n",
       "      <td>0</td>\n",
       "      <td>0</td>\n",
       "      <td>0</td>\n",
       "      <td>0</td>\n",
       "      <td>40</td>\n",
       "      <td>48</td>\n",
       "      <td>37</td>\n",
       "      <td>0</td>\n",
       "      <td>0</td>\n",
       "      <td>0</td>\n",
       "      <td>0</td>\n",
       "    </tr>\n",
       "  </tbody>\n",
       "</table>\n",
       "</div>"
      ],
      "text/plain": [
       "Month   01  02  03  04  05  06  07  08  09  10  11  12\n",
       "season                                                \n",
       "Autumn   0   0  31  36  42   0   0   0   0   0   0   0\n",
       "Spring   0   0   0   0   0   0   0   0  50  51  43   0\n",
       "Summer  43  39   0   0   0   0   0   0   0   0   0  40\n",
       "Winter   0   0   0   0   0  40  48  37   0   0   0   0"
      ]
     },
     "execution_count": 217,
     "metadata": {},
     "output_type": "execute_result"
    }
   ],
   "source": [
    "# Check again\n",
    "pd.crosstab(dirty_data.season, dirty_data.Month)"
   ]
  },
  {
   "cell_type": "markdown",
   "metadata": {},
   "source": [
    "Now, all months belong to the correct season names.\n",
    "\n",
    "Combine the year-month-day columns back to one column and delect the old date columns."
   ]
  },
  {
   "cell_type": "code",
   "execution_count": 218,
   "metadata": {},
   "outputs": [],
   "source": [
    "# combine the year-month-day back to one column\n",
    "dirty_data.drop(['date'], axis = 1, inplace = True)\n",
    "dirty_data['date'] = dirty_data.Year + \"-\" + dirty_data.Month + \"-\" + dirty_data.Day\n",
    "dirty_data.drop(['Year','Month', 'Day'], axis = 1, inplace = True)\n"
   ]
  },
  {
   "cell_type": "code",
   "execution_count": 219,
   "metadata": {},
   "outputs": [
    {
     "data": {
      "text/html": [
       "<div>\n",
       "<style scoped>\n",
       "    .dataframe tbody tr th:only-of-type {\n",
       "        vertical-align: middle;\n",
       "    }\n",
       "\n",
       "    .dataframe tbody tr th {\n",
       "        vertical-align: top;\n",
       "    }\n",
       "\n",
       "    .dataframe thead th {\n",
       "        text-align: right;\n",
       "    }\n",
       "</style>\n",
       "<table border=\"1\" class=\"dataframe\">\n",
       "  <thead>\n",
       "    <tr style=\"text-align: right;\">\n",
       "      <th></th>\n",
       "      <th>order_id</th>\n",
       "      <th>customer_id</th>\n",
       "      <th>date</th>\n",
       "      <th>nearest_warehouse</th>\n",
       "      <th>shopping_cart</th>\n",
       "      <th>order_price</th>\n",
       "      <th>delivery_charges</th>\n",
       "      <th>customer_lat</th>\n",
       "      <th>customer_long</th>\n",
       "      <th>coupon_discount</th>\n",
       "      <th>order_total</th>\n",
       "      <th>season</th>\n",
       "      <th>is_expedited_delivery</th>\n",
       "      <th>distance_to_nearest_warehouse</th>\n",
       "      <th>latest_customer_review</th>\n",
       "      <th>is_happy_customer</th>\n",
       "    </tr>\n",
       "  </thead>\n",
       "  <tbody>\n",
       "    <tr>\n",
       "      <th>0</th>\n",
       "      <td>ORD249513</td>\n",
       "      <td>ID1459448721</td>\n",
       "      <td>2019-01-04</td>\n",
       "      <td>Bakers</td>\n",
       "      <td>[('Universe Note', 2), ('Alcon 10', 1)]</td>\n",
       "      <td>13400</td>\n",
       "      <td>79.89</td>\n",
       "      <td>-37.819538</td>\n",
       "      <td>145.008880</td>\n",
       "      <td>15</td>\n",
       "      <td>11469.89</td>\n",
       "      <td>Summer</td>\n",
       "      <td>False</td>\n",
       "      <td>1.6027</td>\n",
       "      <td>None</td>\n",
       "      <td>True</td>\n",
       "    </tr>\n",
       "    <tr>\n",
       "      <th>1</th>\n",
       "      <td>ORD408577</td>\n",
       "      <td>ID0301542599</td>\n",
       "      <td>2019-02-28</td>\n",
       "      <td>Thompson</td>\n",
       "      <td>[('Thunder line', 2), ('pearTV', 1)]</td>\n",
       "      <td>10670</td>\n",
       "      <td>77.27</td>\n",
       "      <td>-37.822139</td>\n",
       "      <td>144.949866</td>\n",
       "      <td>5</td>\n",
       "      <td>10213.77</td>\n",
       "      <td>Summer</td>\n",
       "      <td>False</td>\n",
       "      <td>1.0820</td>\n",
       "      <td>five stars great value</td>\n",
       "      <td>True</td>\n",
       "    </tr>\n",
       "    <tr>\n",
       "      <th>2</th>\n",
       "      <td>ORD251872</td>\n",
       "      <td>ID3215192366</td>\n",
       "      <td>2019-12-29</td>\n",
       "      <td>Thompson</td>\n",
       "      <td>[('Olivia x460', 1), ('Lucent 330S', 2), ('iAs...</td>\n",
       "      <td>24175</td>\n",
       "      <td>68.42</td>\n",
       "      <td>-37.809187</td>\n",
       "      <td>144.945239</td>\n",
       "      <td>5</td>\n",
       "      <td>7796.67</td>\n",
       "      <td>Summer</td>\n",
       "      <td>False</td>\n",
       "      <td>0.4201</td>\n",
       "      <td>five stars love it</td>\n",
       "      <td>True</td>\n",
       "    </tr>\n",
       "    <tr>\n",
       "      <th>3</th>\n",
       "      <td>ORD383274</td>\n",
       "      <td>ID0395252517</td>\n",
       "      <td>2019-04-30</td>\n",
       "      <td>Nickolson</td>\n",
       "      <td>[('Universe Note', 1), ('Candle Inferno', 1)]</td>\n",
       "      <td>3880</td>\n",
       "      <td>69.53</td>\n",
       "      <td>-37.799950</td>\n",
       "      <td>144.977110</td>\n",
       "      <td>10</td>\n",
       "      <td>3561.53</td>\n",
       "      <td>Autumn</td>\n",
       "      <td>False</td>\n",
       "      <td>2.1794</td>\n",
       "      <td>used for employees use these phones to hand ou...</td>\n",
       "      <td>True</td>\n",
       "    </tr>\n",
       "    <tr>\n",
       "      <th>4</th>\n",
       "      <td>ORD387489</td>\n",
       "      <td>ID0577521804</td>\n",
       "      <td>2019-05-02</td>\n",
       "      <td>Nickolson</td>\n",
       "      <td>[('iStream', 2), ('iAssist Line', 2), ('Alcon ...</td>\n",
       "      <td>17150</td>\n",
       "      <td>65.02</td>\n",
       "      <td>-37.823326</td>\n",
       "      <td>144.972047</td>\n",
       "      <td>5</td>\n",
       "      <td>16357.52</td>\n",
       "      <td>Autumn</td>\n",
       "      <td>False</td>\n",
       "      <td>0.5705</td>\n",
       "      <td>great tablet but apps limited comparison of ot...</td>\n",
       "      <td>True</td>\n",
       "    </tr>\n",
       "    <tr>\n",
       "      <th>5</th>\n",
       "      <td>ORD014190</td>\n",
       "      <td>ID1479897587</td>\n",
       "      <td>2019-09-13</td>\n",
       "      <td>Nickolson</td>\n",
       "      <td>[('Olivia x460', 1), ('iStream', 2), ('pearTV'...</td>\n",
       "      <td>7835</td>\n",
       "      <td>102.38</td>\n",
       "      <td>-37.820108</td>\n",
       "      <td>144.958328</td>\n",
       "      <td>15</td>\n",
       "      <td>6762.13</td>\n",
       "      <td>Spring</td>\n",
       "      <td>False</td>\n",
       "      <td>1.0012</td>\n",
       "      <td>five stars nice used phone</td>\n",
       "      <td>True</td>\n",
       "    </tr>\n",
       "    <tr>\n",
       "      <th>6</th>\n",
       "      <td>ORD001360</td>\n",
       "      <td>ID0176722515</td>\n",
       "      <td>2019-07-31</td>\n",
       "      <td>Nickolson</td>\n",
       "      <td>[('Universe Note', 1), ('iStream', 2), ('Olivi...</td>\n",
       "      <td>9425</td>\n",
       "      <td>76.09</td>\n",
       "      <td>-37.814134</td>\n",
       "      <td>144.967304</td>\n",
       "      <td>10</td>\n",
       "      <td>8558.59</td>\n",
       "      <td>Winter</td>\n",
       "      <td>False</td>\n",
       "      <td>0.5344</td>\n",
       "      <td>like a tablet. great, fast connection. everyth...</td>\n",
       "      <td>True</td>\n",
       "    </tr>\n",
       "    <tr>\n",
       "      <th>7</th>\n",
       "      <td>ORD394829</td>\n",
       "      <td>ID1217532920</td>\n",
       "      <td>2019-03-23</td>\n",
       "      <td>Thompson</td>\n",
       "      <td>[('pearTV', 1), ('Olivia x460', 2), ('iStream'...</td>\n",
       "      <td>11090</td>\n",
       "      <td>48.01</td>\n",
       "      <td>-37.818102</td>\n",
       "      <td>144.948573</td>\n",
       "      <td>0</td>\n",
       "      <td>11138.01</td>\n",
       "      <td>Autumn</td>\n",
       "      <td>False</td>\n",
       "      <td>0.6186</td>\n",
       "      <td>i have had this phone for less than 3 months ....</td>\n",
       "      <td>False</td>\n",
       "    </tr>\n",
       "    <tr>\n",
       "      <th>8</th>\n",
       "      <td>ORD493520</td>\n",
       "      <td>ID3924931354</td>\n",
       "      <td>2019-11-21</td>\n",
       "      <td>Nickolson</td>\n",
       "      <td>[('Toshika 750', 1), ('Lucent 330S', 1), ('iSt...</td>\n",
       "      <td>6130</td>\n",
       "      <td>96.67</td>\n",
       "      <td>-37.816280</td>\n",
       "      <td>144.966995</td>\n",
       "      <td>0</td>\n",
       "      <td>6226.67</td>\n",
       "      <td>Spring</td>\n",
       "      <td>True</td>\n",
       "      <td>0.3419</td>\n",
       "      <td>excellent phone! great phone!! it works smooth...</td>\n",
       "      <td>True</td>\n",
       "    </tr>\n",
       "    <tr>\n",
       "      <th>9</th>\n",
       "      <td>ORD045721</td>\n",
       "      <td>ID0777783111</td>\n",
       "      <td>2019-06-21</td>\n",
       "      <td>Thompson</td>\n",
       "      <td>[('iStream', 1), ('Universe Note', 1), ('Thund...</td>\n",
       "      <td>23680</td>\n",
       "      <td>66.38</td>\n",
       "      <td>-37.804775</td>\n",
       "      <td>144.953908</td>\n",
       "      <td>10</td>\n",
       "      <td>21378.38</td>\n",
       "      <td>Winter</td>\n",
       "      <td>False</td>\n",
       "      <td>1.0653</td>\n",
       "      <td>i love it! learning knew things with it eveyda...</td>\n",
       "      <td>True</td>\n",
       "    </tr>\n",
       "  </tbody>\n",
       "</table>\n",
       "</div>"
      ],
      "text/plain": [
       "    order_id   customer_id        date nearest_warehouse  \\\n",
       "0  ORD249513  ID1459448721  2019-01-04            Bakers   \n",
       "1  ORD408577  ID0301542599  2019-02-28          Thompson   \n",
       "2  ORD251872  ID3215192366  2019-12-29          Thompson   \n",
       "3  ORD383274  ID0395252517  2019-04-30         Nickolson   \n",
       "4  ORD387489  ID0577521804  2019-05-02         Nickolson   \n",
       "5  ORD014190  ID1479897587  2019-09-13         Nickolson   \n",
       "6  ORD001360  ID0176722515  2019-07-31         Nickolson   \n",
       "7  ORD394829  ID1217532920  2019-03-23          Thompson   \n",
       "8  ORD493520  ID3924931354  2019-11-21         Nickolson   \n",
       "9  ORD045721  ID0777783111  2019-06-21          Thompson   \n",
       "\n",
       "                                       shopping_cart  order_price  \\\n",
       "0            [('Universe Note', 2), ('Alcon 10', 1)]        13400   \n",
       "1               [('Thunder line', 2), ('pearTV', 1)]        10670   \n",
       "2  [('Olivia x460', 1), ('Lucent 330S', 2), ('iAs...        24175   \n",
       "3      [('Universe Note', 1), ('Candle Inferno', 1)]         3880   \n",
       "4  [('iStream', 2), ('iAssist Line', 2), ('Alcon ...        17150   \n",
       "5  [('Olivia x460', 1), ('iStream', 2), ('pearTV'...         7835   \n",
       "6  [('Universe Note', 1), ('iStream', 2), ('Olivi...         9425   \n",
       "7  [('pearTV', 1), ('Olivia x460', 2), ('iStream'...        11090   \n",
       "8  [('Toshika 750', 1), ('Lucent 330S', 1), ('iSt...         6130   \n",
       "9  [('iStream', 1), ('Universe Note', 1), ('Thund...        23680   \n",
       "\n",
       "   delivery_charges  customer_lat  customer_long  coupon_discount  \\\n",
       "0             79.89    -37.819538     145.008880               15   \n",
       "1             77.27    -37.822139     144.949866                5   \n",
       "2             68.42    -37.809187     144.945239                5   \n",
       "3             69.53    -37.799950     144.977110               10   \n",
       "4             65.02    -37.823326     144.972047                5   \n",
       "5            102.38    -37.820108     144.958328               15   \n",
       "6             76.09    -37.814134     144.967304               10   \n",
       "7             48.01    -37.818102     144.948573                0   \n",
       "8             96.67    -37.816280     144.966995                0   \n",
       "9             66.38    -37.804775     144.953908               10   \n",
       "\n",
       "   order_total  season  is_expedited_delivery  distance_to_nearest_warehouse  \\\n",
       "0     11469.89  Summer                  False                         1.6027   \n",
       "1     10213.77  Summer                  False                         1.0820   \n",
       "2      7796.67  Summer                  False                         0.4201   \n",
       "3      3561.53  Autumn                  False                         2.1794   \n",
       "4     16357.52  Autumn                  False                         0.5705   \n",
       "5      6762.13  Spring                  False                         1.0012   \n",
       "6      8558.59  Winter                  False                         0.5344   \n",
       "7     11138.01  Autumn                  False                         0.6186   \n",
       "8      6226.67  Spring                   True                         0.3419   \n",
       "9     21378.38  Winter                  False                         1.0653   \n",
       "\n",
       "                              latest_customer_review  is_happy_customer  \n",
       "0                                               None               True  \n",
       "1                             five stars great value               True  \n",
       "2                                 five stars love it               True  \n",
       "3  used for employees use these phones to hand ou...               True  \n",
       "4  great tablet but apps limited comparison of ot...               True  \n",
       "5                         five stars nice used phone               True  \n",
       "6  like a tablet. great, fast connection. everyth...               True  \n",
       "7  i have had this phone for less than 3 months ....              False  \n",
       "8  excellent phone! great phone!! it works smooth...               True  \n",
       "9  i love it! learning knew things with it eveyda...               True  "
      ]
     },
     "execution_count": 219,
     "metadata": {},
     "output_type": "execute_result"
    }
   ],
   "source": [
    "# reorder the columns\n",
    "dirty_data = dirty_data[['order_id',\n",
    " 'customer_id','date',\n",
    " 'nearest_warehouse',\n",
    " 'shopping_cart',\n",
    " 'order_price',\n",
    " 'delivery_charges',\n",
    " 'customer_lat',\n",
    " 'customer_long',\n",
    " 'coupon_discount',\n",
    " 'order_total',\n",
    " 'season',\n",
    " 'is_expedited_delivery',\n",
    " 'distance_to_nearest_warehouse',\n",
    " 'latest_customer_review',\n",
    " 'is_happy_customer']]\n",
    "\n",
    "dirty_data[0:10]"
   ]
  },
  {
   "cell_type": "markdown",
   "metadata": {},
   "source": [
    "### 4.7 `Order_price`, `coupon_discount`, `delivery_charges` and `order_total`\n",
    "\n",
    "We know that `coupon_discount` and `delivery_charges` values are correct. Thus, we can use these two values to verify the values in `order_price` and `order_total`. The four variables follow the followling formula: order_price * coupon_discount + delivery_charges = order_total. "
   ]
  },
  {
   "cell_type": "code",
   "execution_count": 220,
   "metadata": {},
   "outputs": [
    {
     "data": {
      "text/plain": [
       "54"
      ]
     },
     "execution_count": 220,
     "metadata": {},
     "output_type": "execute_result"
    }
   ],
   "source": [
    "# calculate the order_total using order price\n",
    "def price_total_check(data):\n",
    "    # list to store mismatch index\n",
    "    price_total_list = []\n",
    "    # loop to calculate order_total\n",
    "    for i in range(len(data['order_total'])):\n",
    "        order_total = data['order_price'][i] * (1 - data['coupon_discount'][i]/100) + data['delivery_charges'][i]\n",
    "        if order_total != data['order_total'][i]:\n",
    "            price_total_list.append(i)\n",
    "    return price_total_list\n",
    "\n",
    "price_total_mismatch = price_total_check(dirty_data)\n",
    "# returns total numbers of mismatch\n",
    "len(price_total_mismatch)"
   ]
  },
  {
   "cell_type": "markdown",
   "metadata": {},
   "source": [
    "There are 54 pairs of `order_price` and `order_total` that do not match. But we don't know which one is wrong. To determine which variable is wrong, we need to look at `shopping_cart` and find out price of each item. "
   ]
  },
  {
   "cell_type": "markdown",
   "metadata": {},
   "source": [
    "### 4.8 `Shopping_cart` and `order_price`\n",
    "\n",
    "Shopping cart include order items and quantities. As we know the quantities are correct, there may be issues with the order items we don't know yet. Let's first check on the item names.\n"
   ]
  },
  {
   "cell_type": "code",
   "execution_count": 221,
   "metadata": {},
   "outputs": [
    {
     "data": {
      "text/plain": [
       "['Universe Note',\n",
       " 'Alcon 10',\n",
       " 'Thunder line',\n",
       " 'pearTV',\n",
       " 'Olivia x460',\n",
       " 'Lucent 330S',\n",
       " 'iAssist Line',\n",
       " 'Candle Inferno',\n",
       " 'iStream',\n",
       " 'Toshika 750']"
      ]
     },
     "execution_count": 221,
     "metadata": {},
     "output_type": "execute_result"
    }
   ],
   "source": [
    "# find all the items in shopping_cart\n",
    "item_names = pd.unique(dirty_data.shopping_cart.str.extractall(\"(\\w+.\\w+)\")[0])\n",
    "# make it a list, easier to call the names later\n",
    "item_list = list(item_names)\n",
    "item_list "
   ]
  },
  {
   "cell_type": "markdown",
   "metadata": {},
   "source": [
    "We have find 10 unique item names, and from the result show above, there is no issue within the names of the items. \n",
    "\n",
    "To solve the issue we have with `order_price`, we need to calcualte price of each item. We can not do it with the dirty dataset as the price values are potientally incorrect. We will use the `outlier.csv` and `numpy.linalg` to calculate the price of each item."
   ]
  },
  {
   "cell_type": "code",
   "execution_count": 222,
   "metadata": {},
   "outputs": [],
   "source": [
    "#create function for solving linear equation\n",
    "\n",
    "# Three dimension matrix \n",
    "# def solve_linear(x1, y1, z1, total1, x2, y2, z2, total2, x3, y3, z3, total3):\n",
    "#     a = np.array([[x1, y1, z1],[x2, y2, z2],[x3, y3, z3]])\n",
    "#     b = np.array([total1, total2, total3])\n",
    "#     x = np.linalg.solve(a,b)\n",
    "#     return x\n",
    "\n",
    "# Two dimension matrix\n",
    "def solve_linear(x1, y1, total1, x2, y2, total2):\n",
    "    a = np.array([[x1, y1],[x2, y2]])\n",
    "    b = np.array([total1, total2])\n",
    "    x = np.linalg.solve(a,b)\n",
    "    return x"
   ]
  },
  {
   "cell_type": "code",
   "execution_count": 223,
   "metadata": {
    "scrolled": true
   },
   "outputs": [],
   "source": [
    "# function to find match items\n",
    "def match_item (itemnumber):\n",
    "    # define list to store results\n",
    "    match_list = []\n",
    "    new_item_list = list(item_list[i] for i in itemnumber)\n",
    "    # find items that match our list and item numbers\n",
    "    for i in range(len(outlier_data.shopping_cart)):\n",
    "    \n",
    "        # if all items exist in that row\n",
    "        if all (x in outlier_data.shopping_cart[i] for x in new_item_list):\n",
    "        \n",
    "            # use eval() to make one bracket = length 1, so that we can count how many items in current shopping_cart\n",
    "            if len(list(eval(outlier_data.shopping_cart[i]))) == 2: \n",
    "            \n",
    "            # same here, eval() so that we can call item names and item numbers through [0][0] and [0][1] etc.\n",
    "            # use sorted() here to order the results, so its easier to enter into matrix.\n",
    "                match = sorted(eval(outlier_data.shopping_cart[i]))\n",
    "                # append to item number and name list\n",
    "                match_list.append(match)\n",
    "                total = outlier_data.order_price[i]\n",
    "                # append order price to list\n",
    "                total_list.append(total)\n",
    "    return match_list"
   ]
  },
  {
   "cell_type": "code",
   "execution_count": 224,
   "metadata": {},
   "outputs": [],
   "source": [
    "# create a dictionary to store item price and names \n",
    "item_dic = {}\n",
    "\n",
    "# assign combination of \n",
    "item_number = ([0,1],[2,4],[7,8],[3,9],[2,5],[2,6])\n",
    "\n",
    "for i in range(len(item_number)):\n",
    "    # initialize list\n",
    "    total_list = []\n",
    "    \n",
    "    # find match result of two items\n",
    "    count = match_item(item_number[i])\n",
    "    \n",
    "    # calculate the price of the two items\n",
    "    result = solve_linear(count[0][0][1],count[0][1][1],total_list[0],count[1][0][1],count[1][1][1],total_list[1])\n",
    "    \n",
    "    # append to dictionary\n",
    "    item_dic[count[0][0][0]] = round(result[0])\n",
    "    item_dic[count[0][1][0]] = round(result[1])"
   ]
  },
  {
   "cell_type": "code",
   "execution_count": 225,
   "metadata": {},
   "outputs": [
    {
     "data": {
      "text/plain": [
       "{'Alcon 10': 8950.0,\n",
       " 'Universe Note': 3450.0,\n",
       " 'Olivia x460': 1225.0,\n",
       " 'Thunder line': 2180.0,\n",
       " 'Candle Inferno': 430.0,\n",
       " 'iStream': 150.0,\n",
       " 'Toshika 750': 4320.0,\n",
       " 'pearTV': 6310.0,\n",
       " 'Lucent 330S': 1230.0,\n",
       " 'iAssist Line': 2225.0}"
      ]
     },
     "execution_count": 225,
     "metadata": {},
     "output_type": "execute_result"
    }
   ],
   "source": [
    "# The price of each item\n",
    "item_dic"
   ]
  },
  {
   "cell_type": "markdown",
   "metadata": {},
   "source": [
    "Since we got the price of each items, we can now compute the real order price and compare with the ones in `dirty_data`. "
   ]
  },
  {
   "cell_type": "code",
   "execution_count": 226,
   "metadata": {},
   "outputs": [
    {
     "name": "stdout",
     "output_type": "stream",
     "text": [
      "54\n"
     ]
    }
   ],
   "source": [
    "# function for checking price againest item\n",
    "def price_item_check(data):\n",
    "    # a list to store the index of wrong prices, used to check againest the price_check_list above.\n",
    "    price_item_list = []\n",
    "    \n",
    "    # use loop to go through the dataset and find the order_price do not match\n",
    "    for i in range(len(data['shopping_cart'])):\n",
    "        \n",
    "        # get the item names and numbers in shopping cart\n",
    "        temp = eval(data['shopping_cart'][i])\n",
    "        total_price = 0\n",
    "        # calculate price pay for of each kind of items and add them together\n",
    "        for j in range(len(temp)):\n",
    "            item_price = item_dic[temp[j][0]] * temp[j][1]\n",
    "            total_price += item_price\n",
    "        # append to list if not match\n",
    "        if total_price != data['order_price'][i]:\n",
    "            price_item_list.append(i)\n",
    "    return price_item_list\n",
    "\n",
    "# check price againest item\n",
    "price_item_mismatch = price_item_check(dirty_data)\n",
    "# see how many do not match\n",
    "print(len(price_item_mismatch))"
   ]
  },
  {
   "cell_type": "markdown",
   "metadata": {},
   "source": [
    "Now we have two list. \n",
    "\n",
    "price_total_mismatch：mismatch in `order_price` and `order_total`\n",
    "\n",
    "price_item_mismatch: mismatch in `shopping_cart` and `order_price`\n",
    "\n",
    "As we know, there is only one anomoly in a row, if a index number appear in both list, it is the problem of order price."
   ]
  },
  {
   "cell_type": "code",
   "execution_count": 227,
   "metadata": {},
   "outputs": [
    {
     "name": "stdout",
     "output_type": "stream",
     "text": [
      "27\n"
     ]
    }
   ],
   "source": [
    "# find common in two list\n",
    "wrong_price = [x for x in price_item_mismatch if x in price_total_mismatch]\n",
    "# see how many mismatch in common\n",
    "print(len(wrong_price))"
   ]
  },
  {
   "cell_type": "code",
   "execution_count": 228,
   "metadata": {},
   "outputs": [],
   "source": [
    "# write function to fix price\n",
    "def fix_price(data):\n",
    "    # for rows with wrong prices\n",
    "    for i in wrong_price:\n",
    "        # extract shopping cart value\n",
    "        temp = eval(data['shopping_cart'][i])\n",
    "        # set initial price to 0\n",
    "        total_price = 0\n",
    "        # for every item in cart\n",
    "        for j in range(len(temp)):\n",
    "            # calcualte price of the item\n",
    "            item_price = item_dic[temp[j][0]] * temp[j][1]\n",
    "            # add to total\n",
    "            total_price += item_price\n",
    "        # replace price     \n",
    "        data['order_price'][i] = total_price    "
   ]
  },
  {
   "cell_type": "code",
   "execution_count": 229,
   "metadata": {},
   "outputs": [],
   "source": [
    "# lets fix the incorrect order_price first, which is the one in wrong_price list\n",
    "fix_price(dirty_data)"
   ]
  },
  {
   "cell_type": "code",
   "execution_count": 230,
   "metadata": {},
   "outputs": [
    {
     "name": "stdout",
     "output_type": "stream",
     "text": [
      "27\n",
      "27\n"
     ]
    }
   ],
   "source": [
    "# run the two check function again and see if the ones in wrong_price list is fixed.\n",
    "new_price_item_mismatch = price_item_check(dirty_data)\n",
    "print(len(new_price_item_mismatch))\n",
    "\n",
    "new_price_total_mismatch = price_total_check(dirty_data)\n",
    "print(len(new_price_total_mismatch))"
   ]
  },
  {
   "cell_type": "markdown",
   "metadata": {},
   "source": [
    "Both reduced from 54 to 27. \n",
    "\n",
    "As any row can carry no more than one anomaly.\n",
    "\n",
    "The remaining ones in `new_price_item_mismatch` is the one that have wrong item names.\n",
    "\n",
    "And\n",
    "\n",
    "The remaining ones in `new_price_total_mismatch` is the one that have wrong order_totals.\n",
    "\n",
    "let's fix the remaining wrong `order_total` first."
   ]
  },
  {
   "cell_type": "code",
   "execution_count": 231,
   "metadata": {},
   "outputs": [],
   "source": [
    "# write function for fixing order_total\n",
    "def fix_total(data):\n",
    "    # same as price_order_check function\n",
    "    for i in new_price_total_mismatch:\n",
    "        order_total = data['order_price'][i] * (1 - data['coupon_discount'][i]/100) + data['delivery_charges'][i]\n",
    "        data['order_total'][i] = order_total\n",
    "        "
   ]
  },
  {
   "cell_type": "code",
   "execution_count": 232,
   "metadata": {},
   "outputs": [
    {
     "data": {
      "text/plain": [
       "[]"
      ]
     },
     "execution_count": 232,
     "metadata": {},
     "output_type": "execute_result"
    }
   ],
   "source": [
    "# fix the incorrect order total\n",
    "fix_total(dirty_data)\n",
    "\n",
    "# double check price and total again\n",
    "price_total_check(dirty_data)"
   ]
  },
  {
   "cell_type": "markdown",
   "metadata": {},
   "source": [
    "We can see that all order price and order total match now.\n",
    "\n",
    "Let's fix the remaining wrong items.\n",
    "\n",
    "In this case, i assume that for every `shopping_cart` there can only be one item that is wrong. Otherwise, it would be impossible \n",
    "\n",
    "to fix."
   ]
  },
  {
   "cell_type": "code",
   "execution_count": 233,
   "metadata": {},
   "outputs": [],
   "source": [
    "# write function for fixing wrong item names\n",
    "def fix_item(data):\n",
    "    for i in new_price_item_mismatch:\n",
    "        # extract shopping cart info\n",
    "        temp = eval(data['shopping_cart'][i])\n",
    "        # create list to store total price of one kind of item (price * quantity)\n",
    "        item_price_list = []\n",
    "        # calcualte price for each kind of items in cart\n",
    "        for j in range(len(temp)):\n",
    "            item_price = item_dic[temp[j][0]] * temp[j][1] \n",
    "            # append to list\n",
    "            item_price_list.append(item_price)\n",
    "        # find the wrong item and fix it\n",
    "        for j in range(len(temp)):\n",
    "            # we don't want to change our list, make a copy\n",
    "            temp_list = item_price_list\n",
    "            # delect the total price of current item we are checking\n",
    "            pop_value = temp_list.pop(j)\n",
    "            # sum the total of all other items, find the price the correct item\n",
    "            remain_price = (data['order_price'][i] - sum(temp_list))/temp[j][1] \n",
    "            # if the correct price does not equal to the price of current item\n",
    "            if remain_price != item_dic[temp[j][0]]:\n",
    "                # go through our item price dictionary for a item match that price\n",
    "                for key, value in item_dic.items():\n",
    "                    # if match result found\n",
    "                    if remain_price == value:\n",
    "                        # change the name to that item \n",
    "                        temp2 = list(temp[j])\n",
    "                        temp2[0] = key\n",
    "                        temp[j] = tuple(temp2)\n",
    "                        data['shopping_cart'][i] = str(temp)\n",
    "                # put the total price of current item back for next calculation\n",
    "            temp_list.insert(j, pop_value)"
   ]
  },
  {
   "cell_type": "code",
   "execution_count": 234,
   "metadata": {},
   "outputs": [
    {
     "name": "stdout",
     "output_type": "stream",
     "text": [
      "[]\n",
      "[]\n"
     ]
    }
   ],
   "source": [
    "# fix the wrong items\n",
    "fix_item(dirty_data)\n",
    "\n",
    "# double check again see if all mismatch is fixed\n",
    "print(price_total_check(dirty_data))\n",
    "print(price_item_check(dirty_data))"
   ]
  },
  {
   "cell_type": "markdown",
   "metadata": {},
   "source": [
    "### 4.9 `latest_customer_review` and `is_happy_customer`\n",
    "\n",
    "These two variables are another related pair that we need to check. The value in `is_happy_customer` is decided by the review of that customer and a review is classified with `SentimentIntensityAnalyzer`. Also for reviews that are \"None\", they are considered as customers with no previous purchase, therefore the customer is happy by default. "
   ]
  },
  {
   "cell_type": "markdown",
   "metadata": {},
   "source": [
    "When verifing customer is happy or not we follow the rule: A sentiment is considered positive if it has a 'compound' polarity score of 0.05 or higher and is considered negative otherwise."
   ]
  },
  {
   "cell_type": "code",
   "execution_count": 235,
   "metadata": {},
   "outputs": [],
   "source": [
    "# write function to fix error in is_happy_customer \n",
    "def cust_happy_test(data):\n",
    "    \n",
    "    # define SIA object\n",
    "    SIA = SentimentIntensityAnalyzer()\n",
    "    for i in range(len(data['latest_customer_review'])):\n",
    "        # calculate polarity score of the customer\n",
    "        score = SIA.polarity_scores(data['latest_customer_review'][i])\n",
    "        \n",
    "        # if score = 0.05 or > 0.05, customer is happy\n",
    "        if score['compound'] >= 0.05:\n",
    "            cust_happy = True\n",
    "        # else not happy\n",
    "        else:\n",
    "            cust_happy = False\n",
    "            \n",
    "        # fix the one that is incorrect    \n",
    "        if cust_happy != data['is_happy_customer'][i]:\n",
    "            data['is_happy_customer'][i] = cust_happy\n",
    "         \n",
    "        # for customer have not buy before, assume happy\n",
    "        if data['is_happy_customer'][i] == \"None\" or data['is_happy_customer'][i] == \"none\":\n",
    "            data['is_happy_customer'][i] == True     \n",
    "\n",
    "        "
   ]
  },
  {
   "cell_type": "code",
   "execution_count": 236,
   "metadata": {},
   "outputs": [],
   "source": [
    "# fix error in is_happy_customer\n",
    "cust_happy_test(dirty_data)"
   ]
  },
  {
   "cell_type": "markdown",
   "metadata": {},
   "source": [
    "## 5. Missing data"
   ]
  },
  {
   "cell_type": "markdown",
   "metadata": {},
   "source": [
    "The `missing_data.csv` contains missing values (NaN), our task is to impute these missing values. \n",
    "\n",
    "Let's start by looking at the data statistics."
   ]
  },
  {
   "cell_type": "code",
   "execution_count": 237,
   "metadata": {
    "scrolled": true
   },
   "outputs": [
    {
     "name": "stdout",
     "output_type": "stream",
     "text": [
      "<class 'pandas.core.frame.DataFrame'>\n",
      "RangeIndex: 500 entries, 0 to 499\n",
      "Data columns (total 16 columns):\n",
      " #   Column                         Non-Null Count  Dtype  \n",
      "---  ------                         --------------  -----  \n",
      " 0   order_id                       500 non-null    object \n",
      " 1   customer_id                    500 non-null    object \n",
      " 2   date                           500 non-null    object \n",
      " 3   nearest_warehouse              445 non-null    object \n",
      " 4   shopping_cart                  500 non-null    object \n",
      " 5   order_price                    485 non-null    float64\n",
      " 6   delivery_charges               460 non-null    float64\n",
      " 7   customer_lat                   500 non-null    float64\n",
      " 8   customer_long                  500 non-null    float64\n",
      " 9   coupon_discount                500 non-null    int64  \n",
      " 10  order_total                    485 non-null    float64\n",
      " 11  season                         500 non-null    object \n",
      " 12  is_expedited_delivery          500 non-null    bool   \n",
      " 13  distance_to_nearest_warehouse  469 non-null    float64\n",
      " 14  latest_customer_review         500 non-null    object \n",
      " 15  is_happy_customer              460 non-null    float64\n",
      "dtypes: bool(1), float64(7), int64(1), object(7)\n",
      "memory usage: 59.2+ KB\n"
     ]
    }
   ],
   "source": [
    "# check missing data\n",
    "missing_data.info()"
   ]
  },
  {
   "cell_type": "markdown",
   "metadata": {},
   "source": [
    "we can see that there are missing values in following columns:\n",
    "- `nearest_warehouse`\n",
    "- `order_price`\n",
    "- `delivery_charges`\n",
    "- `order_total`\n",
    "- `distance-to-nearest-warehouse`\n",
    "- `is_happy_customer`\n",
    "\n",
    "In the next sections, we will try out best to impute these values and keep the data quality as good as we can."
   ]
  },
  {
   "cell_type": "markdown",
   "metadata": {},
   "source": [
    "### Impute missing values\n",
    "\n",
    "When imputing values, we will use the method that we are most certain about."
   ]
  },
  {
   "cell_type": "markdown",
   "metadata": {},
   "source": [
    "### 5.1 `order_price`\n",
    "\n",
    "As the `order_price` value should equal to the sum of all item price, we will use previous function to impute `order_price` from shopping cart information first."
   ]
  },
  {
   "cell_type": "code",
   "execution_count": 238,
   "metadata": {},
   "outputs": [],
   "source": [
    "# create a list to store index of missing price, keep it the same list name as in function\n",
    "wrong_price = missing_data[missing_data.order_price.isnull()].index.tolist()\n",
    "\n",
    "# impute order_price values \n",
    "fix_price(missing_data)"
   ]
  },
  {
   "cell_type": "code",
   "execution_count": 239,
   "metadata": {},
   "outputs": [
    {
     "name": "stdout",
     "output_type": "stream",
     "text": [
      "0\n"
     ]
    },
    {
     "data": {
      "text/plain": [
       "[]"
      ]
     },
     "execution_count": 239,
     "metadata": {},
     "output_type": "execute_result"
    }
   ],
   "source": [
    "#lets check again if there is no missing value anymore\n",
    "print(missing_data.order_price.isnull().sum())\n",
    "\n",
    "# check if the price and item match\n",
    "price_item_check(missing_data)"
   ]
  },
  {
   "cell_type": "markdown",
   "metadata": {},
   "source": [
    "All price and item match and there is no missing value in `order_price` column anymore."
   ]
  },
  {
   "cell_type": "markdown",
   "metadata": {},
   "source": [
    "### 5.2 `order_total`\n",
    "\n",
    "The `order_total` is calculated from `order_price`, `delivery_charges` and `coupon_discount`. Let's try to impute as much `order_total` as we can first.\n",
    "\n",
    "Also, we will be using the previous function to do this."
   ]
  },
  {
   "cell_type": "code",
   "execution_count": 240,
   "metadata": {},
   "outputs": [],
   "source": [
    "# create a list to store index of missing total, keep it the same list name as previous list used in function\n",
    "new_price_total_mismatch = missing_data[missing_data.order_total.isnull()].index.tolist()\n",
    "\n",
    "# impute order_price values \n",
    "fix_total(missing_data)"
   ]
  },
  {
   "cell_type": "code",
   "execution_count": 241,
   "metadata": {},
   "outputs": [
    {
     "data": {
      "text/plain": [
       "0"
      ]
     },
     "execution_count": 241,
     "metadata": {},
     "output_type": "execute_result"
    }
   ],
   "source": [
    "#lets check again if there is no missing value anymore\n",
    "missing_data.order_total.isnull().sum()"
   ]
  },
  {
   "cell_type": "markdown",
   "metadata": {},
   "source": [
    "### 5.3 `is_happy_customer`\n",
    "\n",
    "Since a customer is happy or not is decided by review, we can impute missing values here using sentimentIntensityAnalyzer to check the reviews. "
   ]
  },
  {
   "cell_type": "code",
   "execution_count": 242,
   "metadata": {},
   "outputs": [],
   "source": [
    "# create list of index of nulls \n",
    "missing_happy = missing_data[missing_data.is_happy_customer.isnull()].index.tolist()\n",
    "\n",
    "# use loop and sentimentIntensityAnalyzer to test wether customer is happy or not\n",
    "SIA = SentimentIntensityAnalyzer()\n",
    "for i in missing_happy:\n",
    "    # calculate polarity score of the customer\n",
    "    score = SIA.polarity_scores(missing_data.latest_customer_review[i])\n",
    "\n",
    "    # if score = 0.05 or > 0.05, customer is happy\n",
    "    if score['compound'] >= 0.05:\n",
    "        cust_happy = 1\n",
    "    # else not happy\n",
    "    else:\n",
    "        cust_happy = 0\n",
    "\n",
    "    # impute the one that is missing   \n",
    "    missing_data.is_happy_customer[i] = cust_happy     "
   ]
  },
  {
   "cell_type": "code",
   "execution_count": 243,
   "metadata": {},
   "outputs": [
    {
     "data": {
      "text/plain": [
       "0"
      ]
     },
     "execution_count": 243,
     "metadata": {},
     "output_type": "execute_result"
    }
   ],
   "source": [
    "# lets check again if there is no missing value anymore\n",
    "missing_data.is_happy_customer.isnull().sum()"
   ]
  },
  {
   "cell_type": "markdown",
   "metadata": {},
   "source": [
    "### 5.4 `delivery_charges`\n",
    "\n",
    "Same as `order_price` and `order_total`, the `delivery_charges` is one part of the price calculation. Thus, as we have all the other values, we can impute the `delivery_charges` easily."
   ]
  },
  {
   "cell_type": "code",
   "execution_count": 244,
   "metadata": {},
   "outputs": [],
   "source": [
    "# create list of index of nulls \n",
    "missing_delivery = missing_data[missing_data.delivery_charges.isnull()].index.tolist()\n",
    "\n",
    "# use price, total and coupon discount to impute delivery charges\n",
    "for i in missing_delivery:\n",
    "    missing_data.delivery_charges[i] = missing_data.order_total[i] - (missing_data.order_price[i] * (1 - missing_data.coupon_discount[i]/100))"
   ]
  },
  {
   "cell_type": "code",
   "execution_count": 245,
   "metadata": {},
   "outputs": [
    {
     "name": "stdout",
     "output_type": "stream",
     "text": [
      "0\n"
     ]
    },
    {
     "data": {
      "text/plain": [
       "[]"
      ]
     },
     "execution_count": 245,
     "metadata": {},
     "output_type": "execute_result"
    }
   ],
   "source": [
    "# lets check again if there is no missing value anymore\n",
    "print(missing_data.delivery_charges.isnull().sum())\n",
    "\n",
    "# check if price and total and delivery_charges match\n",
    "price_total_check(missing_data)"
   ]
  },
  {
   "cell_type": "markdown",
   "metadata": {},
   "source": [
    "### 5.5 `distance_to_nearest_warehouse`"
   ]
  },
  {
   "cell_type": "markdown",
   "metadata": {},
   "source": [
    "As the price of delivery is affected by distance, season and happyness of customer. We can impute the missing distance accordingly.\n",
    "\n",
    "It is given in the domain that for each season, the calculation for dlivery charge follows a different linear model.\n",
    "\n",
    "But in this case, as we have no idea how delivery charge is exactly calculated, we need to impute linear models first and predict the missing values using the linear model.\n",
    "\n",
    "We start by generating the models from data first."
   ]
  },
  {
   "cell_type": "code",
   "execution_count": 246,
   "metadata": {},
   "outputs": [],
   "source": [
    "# subset the related variables\n",
    "lm_fitting_df = missing_data[[\"distance_to_nearest_warehouse\",\"is_expedited_delivery\",\"season\",\"is_happy_customer\"]]"
   ]
  },
  {
   "cell_type": "markdown",
   "metadata": {},
   "source": [
    "We are excluding the target variable \"delivery charges\" here. \n",
    "\n",
    "We will be enhansing the relationship between it and the predictors if we include delivery charges in our modeling. \n",
    "\n",
    "We don't want to mannuly increasing the correlation between our target value and predictors. That is something we want to avoid."
   ]
  },
  {
   "cell_type": "code",
   "execution_count": 247,
   "metadata": {},
   "outputs": [
    {
     "data": {
      "text/plain": [
       "distance_to_nearest_warehouse    31\n",
       "is_expedited_delivery             0\n",
       "season                            0\n",
       "is_happy_customer                 0\n",
       "dtype: int64"
      ]
     },
     "execution_count": 247,
     "metadata": {},
     "output_type": "execute_result"
    }
   ],
   "source": [
    "# check null in columns\n",
    "lm_fitting_df.isnull().sum()"
   ]
  },
  {
   "cell_type": "markdown",
   "metadata": {},
   "source": [
    "For each season, the delivery fee follows different rate, therefore we need to subset each season and compute four lm."
   ]
  },
  {
   "cell_type": "code",
   "execution_count": 248,
   "metadata": {},
   "outputs": [],
   "source": [
    "# now we need to drop na values in the new dataset\n",
    "lm_fitting_df.dropna(axis = 0, inplace = True)\n"
   ]
  },
  {
   "cell_type": "code",
   "execution_count": 249,
   "metadata": {},
   "outputs": [],
   "source": [
    "# subset season\n",
    "lm_Spring = lm_fitting_df[lm_fitting_df.season == \"Spring\"]\n",
    "lm_Summer = lm_fitting_df[lm_fitting_df.season == \"Summer\"]\n",
    "lm_Autumn = lm_fitting_df[lm_fitting_df.season == \"Autumn\"]\n",
    "lm_Winter = lm_fitting_df[lm_fitting_df.season == \"Winter\"]"
   ]
  },
  {
   "cell_type": "code",
   "execution_count": 250,
   "metadata": {},
   "outputs": [
    {
     "data": {
      "text/plain": [
       "LinearRegression(copy_X=True, fit_intercept=True, n_jobs=None, normalize=False)"
      ]
     },
     "execution_count": 250,
     "metadata": {},
     "output_type": "execute_result"
    }
   ],
   "source": [
    "# load linear model object for each season\n",
    "lm_for_Spring = LinearRegression()\n",
    "lm_for_Summer = LinearRegression()\n",
    "lm_for_Autumn = LinearRegression()\n",
    "lm_for_Winter = LinearRegression()\n",
    "\n",
    "# train the model on the subset to predict distance for each season\n",
    "lm_for_Spring.fit(lm_Spring[[\"is_expedited_delivery\",\"is_happy_customer\"]], lm_Spring[\"distance_to_nearest_warehouse\"])\n",
    "lm_for_Summer.fit(lm_Summer[[\"is_expedited_delivery\",\"is_happy_customer\"]], lm_Summer[\"distance_to_nearest_warehouse\"])\n",
    "lm_for_Autumn.fit(lm_Autumn[[\"is_expedited_delivery\",\"is_happy_customer\"]], lm_Autumn[\"distance_to_nearest_warehouse\"])\n",
    "lm_for_Winter.fit(lm_Winter[[\"is_expedited_delivery\",\"is_happy_customer\"]], lm_Winter[\"distance_to_nearest_warehouse\"])\n"
   ]
  },
  {
   "cell_type": "code",
   "execution_count": 251,
   "metadata": {},
   "outputs": [],
   "source": [
    "# imputing values for null data in distance according to season\n",
    "missing_data.distance_to_nearest_warehouse[(missing_data.distance_to_nearest_warehouse.isnull()) & (missing_data.season == \"Spring\")] = lm_for_Spring.predict(missing_data[[\"is_expedited_delivery\",\"is_happy_customer\"]])\n",
    "\n",
    "missing_data.distance_to_nearest_warehouse[(missing_data.distance_to_nearest_warehouse.isnull()) & (missing_data.season == \"Summer\")] = lm_for_Summer.predict(missing_data[[\"is_expedited_delivery\",\"is_happy_customer\"]])\n",
    "\n",
    "missing_data.distance_to_nearest_warehouse[(missing_data.distance_to_nearest_warehouse.isnull()) & (missing_data.season == \"Autumn\")] = lm_for_Autumn.predict(missing_data[[\"is_expedited_delivery\",\"is_happy_customer\"]])\n",
    "\n",
    "missing_data.distance_to_nearest_warehouse[(missing_data.distance_to_nearest_warehouse.isnull()) & (missing_data.season == \"Winter\")] = lm_for_Winter.predict(missing_data[[\"is_expedited_delivery\",\"is_happy_customer\"]])\n"
   ]
  },
  {
   "cell_type": "code",
   "execution_count": 252,
   "metadata": {},
   "outputs": [
    {
     "data": {
      "text/plain": [
       "0"
      ]
     },
     "execution_count": 252,
     "metadata": {},
     "output_type": "execute_result"
    }
   ],
   "source": [
    "# round to 4 decimal places\n",
    "round(missing_data.distance_to_nearest_warehouse,4)\n",
    "\n",
    "# check if there is no more missing value\n",
    "missing_data.distance_to_nearest_warehouse.isnull().sum()\n"
   ]
  },
  {
   "cell_type": "markdown",
   "metadata": {},
   "source": [
    "Now we have finish imputing the distance values, lets check how does predicted values fit in the data using boxplot"
   ]
  },
  {
   "cell_type": "code",
   "execution_count": 253,
   "metadata": {
    "scrolled": false
   },
   "outputs": [
    {
     "data": {
      "text/plain": [
       "<matplotlib.axes._subplots.AxesSubplot at 0x1fd0e5d4708>"
      ]
     },
     "execution_count": 253,
     "metadata": {},
     "output_type": "execute_result"
    },
    {
     "data": {
      "image/png": "[encoded data removed]",
      "text/plain": [
       "<Figure size 432x288 with 1 Axes>"
      ]
     },
     "metadata": {
      "needs_background": "light"
     },
     "output_type": "display_data"
    }
   ],
   "source": [
    "# read a copy of missing data with null values\n",
    "missing_data_copy = pd.read_csv(\"missing_data.csv\")\n",
    "\n",
    "# draw the boxplot\n",
    "boxplot = pd.DataFrame({'imputed': missing_data.distance_to_nearest_warehouse,'original': missing_data_copy.distance_to_nearest_warehouse})\n",
    "boxplot.plot(kind = 'box')"
   ]
  },
  {
   "cell_type": "markdown",
   "metadata": {},
   "source": [
    "We can see that the imputed distance and original distance has very similar distribution, the imputed data seems to have a smaller deviation, but overall it fits well with the spread of orginal data.\n",
    "Thus, we can say that the imputation of null values are done well."
   ]
  },
  {
   "cell_type": "markdown",
   "metadata": {},
   "source": [
    "### 5.6 `nearest_warehouse`\n",
    "\n",
    "The name of the `nearest_warehouse` depends on the distance_to_nearest_warehouse. For missing warehouse names, the distances were missing too. Thus, it is the case where missing values depends on unobserved predictors. However it would be too complicate to impute the coordinates of warehouse by customer's coordinates and distance.\n",
    "\n",
    "Let's group data by the three warehouse names and check the mean of the rest of the varibales."
   ]
  },
  {
   "cell_type": "code",
   "execution_count": 254,
   "metadata": {
    "scrolled": true
   },
   "outputs": [
    {
     "data": {
      "text/html": [
       "<div>\n",
       "<style scoped>\n",
       "    .dataframe tbody tr th:only-of-type {\n",
       "        vertical-align: middle;\n",
       "    }\n",
       "\n",
       "    .dataframe tbody tr th {\n",
       "        vertical-align: top;\n",
       "    }\n",
       "\n",
       "    .dataframe thead th {\n",
       "        text-align: right;\n",
       "    }\n",
       "</style>\n",
       "<table border=\"1\" class=\"dataframe\">\n",
       "  <thead>\n",
       "    <tr style=\"text-align: right;\">\n",
       "      <th></th>\n",
       "      <th>order_price</th>\n",
       "      <th>delivery_charges</th>\n",
       "      <th>customer_lat</th>\n",
       "      <th>customer_long</th>\n",
       "      <th>coupon_discount</th>\n",
       "      <th>order_total</th>\n",
       "      <th>is_expedited_delivery</th>\n",
       "      <th>distance_to_nearest_warehouse</th>\n",
       "      <th>is_happy_customer</th>\n",
       "    </tr>\n",
       "    <tr>\n",
       "      <th>nearest_warehouse</th>\n",
       "      <th></th>\n",
       "      <th></th>\n",
       "      <th></th>\n",
       "      <th></th>\n",
       "      <th></th>\n",
       "      <th></th>\n",
       "      <th></th>\n",
       "      <th></th>\n",
       "      <th></th>\n",
       "    </tr>\n",
       "  </thead>\n",
       "  <tbody>\n",
       "    <tr>\n",
       "      <th>Bakers</th>\n",
       "      <td>12164.400000</td>\n",
       "      <td>78.823600</td>\n",
       "      <td>-37.812207</td>\n",
       "      <td>144.997330</td>\n",
       "      <td>10.400000</td>\n",
       "      <td>10977.086100</td>\n",
       "      <td>0.560000</td>\n",
       "      <td>1.221615</td>\n",
       "      <td>0.750000</td>\n",
       "    </tr>\n",
       "    <tr>\n",
       "      <th>Nickolson</th>\n",
       "      <td>15010.067568</td>\n",
       "      <td>74.631486</td>\n",
       "      <td>-37.814824</td>\n",
       "      <td>144.969496</td>\n",
       "      <td>11.520270</td>\n",
       "      <td>13414.020000</td>\n",
       "      <td>0.520270</td>\n",
       "      <td>0.985147</td>\n",
       "      <td>0.675676</td>\n",
       "    </tr>\n",
       "    <tr>\n",
       "      <th>Thompson</th>\n",
       "      <td>13878.477157</td>\n",
       "      <td>78.269746</td>\n",
       "      <td>-37.810649</td>\n",
       "      <td>144.948249</td>\n",
       "      <td>11.167513</td>\n",
       "      <td>12398.432183</td>\n",
       "      <td>0.497462</td>\n",
       "      <td>1.138260</td>\n",
       "      <td>0.771574</td>\n",
       "    </tr>\n",
       "  </tbody>\n",
       "</table>\n",
       "</div>"
      ],
      "text/plain": [
       "                    order_price  delivery_charges  customer_lat  \\\n",
       "nearest_warehouse                                                 \n",
       "Bakers             12164.400000         78.823600    -37.812207   \n",
       "Nickolson          15010.067568         74.631486    -37.814824   \n",
       "Thompson           13878.477157         78.269746    -37.810649   \n",
       "\n",
       "                   customer_long  coupon_discount   order_total  \\\n",
       "nearest_warehouse                                                 \n",
       "Bakers                144.997330        10.400000  10977.086100   \n",
       "Nickolson             144.969496        11.520270  13414.020000   \n",
       "Thompson              144.948249        11.167513  12398.432183   \n",
       "\n",
       "                   is_expedited_delivery  distance_to_nearest_warehouse  \\\n",
       "nearest_warehouse                                                         \n",
       "Bakers                          0.560000                       1.221615   \n",
       "Nickolson                       0.520270                       0.985147   \n",
       "Thompson                        0.497462                       1.138260   \n",
       "\n",
       "                   is_happy_customer  \n",
       "nearest_warehouse                     \n",
       "Bakers                      0.750000  \n",
       "Nickolson                   0.675676  \n",
       "Thompson                    0.771574  "
      ]
     },
     "execution_count": 254,
     "metadata": {},
     "output_type": "execute_result"
    }
   ],
   "source": [
    "# check mean of other variables\n",
    "missing_data.groupby(\"nearest_warehouse\").mean()"
   ]
  },
  {
   "cell_type": "markdown",
   "metadata": {},
   "source": [
    "We can see that the mean of distance between customer and warehouse differs for different warehouse names. Is it possible to \n",
    "define a distance range and guess the missing warehouse name through match distance with range? Check the max of min distance for each warehouse."
   ]
  },
  {
   "cell_type": "code",
   "execution_count": 255,
   "metadata": {
    "scrolled": true
   },
   "outputs": [
    {
     "data": {
      "text/html": [
       "<div>\n",
       "<style scoped>\n",
       "    .dataframe tbody tr th:only-of-type {\n",
       "        vertical-align: middle;\n",
       "    }\n",
       "\n",
       "    .dataframe tbody tr th {\n",
       "        vertical-align: top;\n",
       "    }\n",
       "\n",
       "    .dataframe thead th {\n",
       "        text-align: right;\n",
       "    }\n",
       "</style>\n",
       "<table border=\"1\" class=\"dataframe\">\n",
       "  <thead>\n",
       "    <tr style=\"text-align: right;\">\n",
       "      <th></th>\n",
       "      <th>count</th>\n",
       "      <th>mean</th>\n",
       "      <th>std</th>\n",
       "      <th>min</th>\n",
       "      <th>25%</th>\n",
       "      <th>50%</th>\n",
       "      <th>75%</th>\n",
       "      <th>max</th>\n",
       "    </tr>\n",
       "    <tr>\n",
       "      <th>nearest_warehouse</th>\n",
       "      <th></th>\n",
       "      <th></th>\n",
       "      <th></th>\n",
       "      <th></th>\n",
       "      <th></th>\n",
       "      <th></th>\n",
       "      <th></th>\n",
       "      <th></th>\n",
       "    </tr>\n",
       "  </thead>\n",
       "  <tbody>\n",
       "    <tr>\n",
       "      <th>Bakers</th>\n",
       "      <td>100.0</td>\n",
       "      <td>1.221615</td>\n",
       "      <td>0.481578</td>\n",
       "      <td>0.2051</td>\n",
       "      <td>0.879825</td>\n",
       "      <td>1.14640</td>\n",
       "      <td>1.59755</td>\n",
       "      <td>2.5408</td>\n",
       "    </tr>\n",
       "    <tr>\n",
       "      <th>Nickolson</th>\n",
       "      <td>148.0</td>\n",
       "      <td>0.985147</td>\n",
       "      <td>0.482428</td>\n",
       "      <td>0.0672</td>\n",
       "      <td>0.626925</td>\n",
       "      <td>0.96865</td>\n",
       "      <td>1.30820</td>\n",
       "      <td>2.1438</td>\n",
       "    </tr>\n",
       "    <tr>\n",
       "      <th>Thompson</th>\n",
       "      <td>197.0</td>\n",
       "      <td>1.138260</td>\n",
       "      <td>0.512713</td>\n",
       "      <td>0.0121</td>\n",
       "      <td>0.839600</td>\n",
       "      <td>1.03950</td>\n",
       "      <td>1.43890</td>\n",
       "      <td>2.8457</td>\n",
       "    </tr>\n",
       "  </tbody>\n",
       "</table>\n",
       "</div>"
      ],
      "text/plain": [
       "                   count      mean       std     min       25%      50%  \\\n",
       "nearest_warehouse                                                         \n",
       "Bakers             100.0  1.221615  0.481578  0.2051  0.879825  1.14640   \n",
       "Nickolson          148.0  0.985147  0.482428  0.0672  0.626925  0.96865   \n",
       "Thompson           197.0  1.138260  0.512713  0.0121  0.839600  1.03950   \n",
       "\n",
       "                       75%     max  \n",
       "nearest_warehouse                   \n",
       "Bakers             1.59755  2.5408  \n",
       "Nickolson          1.30820  2.1438  \n",
       "Thompson           1.43890  2.8457  "
      ]
     },
     "execution_count": 255,
     "metadata": {},
     "output_type": "execute_result"
    }
   ],
   "source": [
    "missing_data.groupby(\"nearest_warehouse\").distance_to_nearest_warehouse.describe()"
   ]
  },
  {
   "cell_type": "markdown",
   "metadata": {},
   "source": [
    "It seems like the range over laps with each other. Thus we can not really guess the warehouse name based on distance.\n",
    "\n",
    "Let's try the same thing on latitude and longitude"
   ]
  },
  {
   "cell_type": "code",
   "execution_count": 256,
   "metadata": {
    "scrolled": false
   },
   "outputs": [
    {
     "data": {
      "text/html": [
       "<div>\n",
       "<style scoped>\n",
       "    .dataframe tbody tr th:only-of-type {\n",
       "        vertical-align: middle;\n",
       "    }\n",
       "\n",
       "    .dataframe tbody tr th {\n",
       "        vertical-align: top;\n",
       "    }\n",
       "\n",
       "    .dataframe thead th {\n",
       "        text-align: right;\n",
       "    }\n",
       "</style>\n",
       "<table border=\"1\" class=\"dataframe\">\n",
       "  <thead>\n",
       "    <tr style=\"text-align: right;\">\n",
       "      <th></th>\n",
       "      <th>count</th>\n",
       "      <th>mean</th>\n",
       "      <th>std</th>\n",
       "      <th>min</th>\n",
       "      <th>25%</th>\n",
       "      <th>50%</th>\n",
       "      <th>75%</th>\n",
       "      <th>max</th>\n",
       "    </tr>\n",
       "    <tr>\n",
       "      <th>nearest_warehouse</th>\n",
       "      <th></th>\n",
       "      <th></th>\n",
       "      <th></th>\n",
       "      <th></th>\n",
       "      <th></th>\n",
       "      <th></th>\n",
       "      <th></th>\n",
       "      <th></th>\n",
       "    </tr>\n",
       "  </thead>\n",
       "  <tbody>\n",
       "    <tr>\n",
       "      <th>Bakers</th>\n",
       "      <td>100.0</td>\n",
       "      <td>-37.812207</td>\n",
       "      <td>0.007679</td>\n",
       "      <td>-37.825125</td>\n",
       "      <td>-37.818960</td>\n",
       "      <td>-37.812641</td>\n",
       "      <td>-37.806312</td>\n",
       "      <td>-37.793099</td>\n",
       "    </tr>\n",
       "    <tr>\n",
       "      <th>Nickolson</th>\n",
       "      <td>148.0</td>\n",
       "      <td>-37.814824</td>\n",
       "      <td>0.006961</td>\n",
       "      <td>-37.826856</td>\n",
       "      <td>-37.820112</td>\n",
       "      <td>-37.815972</td>\n",
       "      <td>-37.809525</td>\n",
       "      <td>-37.799353</td>\n",
       "    </tr>\n",
       "    <tr>\n",
       "      <th>Thompson</th>\n",
       "      <td>197.0</td>\n",
       "      <td>-37.810649</td>\n",
       "      <td>0.007413</td>\n",
       "      <td>-37.825504</td>\n",
       "      <td>-37.816592</td>\n",
       "      <td>-37.811023</td>\n",
       "      <td>-37.804508</td>\n",
       "      <td>-37.797617</td>\n",
       "    </tr>\n",
       "  </tbody>\n",
       "</table>\n",
       "</div>"
      ],
      "text/plain": [
       "                   count       mean       std        min        25%  \\\n",
       "nearest_warehouse                                                     \n",
       "Bakers             100.0 -37.812207  0.007679 -37.825125 -37.818960   \n",
       "Nickolson          148.0 -37.814824  0.006961 -37.826856 -37.820112   \n",
       "Thompson           197.0 -37.810649  0.007413 -37.825504 -37.816592   \n",
       "\n",
       "                         50%        75%        max  \n",
       "nearest_warehouse                                   \n",
       "Bakers            -37.812641 -37.806312 -37.793099  \n",
       "Nickolson         -37.815972 -37.809525 -37.799353  \n",
       "Thompson          -37.811023 -37.804508 -37.797617  "
      ]
     },
     "execution_count": 256,
     "metadata": {},
     "output_type": "execute_result"
    }
   ],
   "source": [
    "missing_data.groupby(\"nearest_warehouse\").customer_lat.describe()"
   ]
  },
  {
   "cell_type": "code",
   "execution_count": 257,
   "metadata": {
    "scrolled": false
   },
   "outputs": [
    {
     "data": {
      "text/html": [
       "<div>\n",
       "<style scoped>\n",
       "    .dataframe tbody tr th:only-of-type {\n",
       "        vertical-align: middle;\n",
       "    }\n",
       "\n",
       "    .dataframe tbody tr th {\n",
       "        vertical-align: top;\n",
       "    }\n",
       "\n",
       "    .dataframe thead th {\n",
       "        text-align: right;\n",
       "    }\n",
       "</style>\n",
       "<table border=\"1\" class=\"dataframe\">\n",
       "  <thead>\n",
       "    <tr style=\"text-align: right;\">\n",
       "      <th></th>\n",
       "      <th>count</th>\n",
       "      <th>mean</th>\n",
       "      <th>std</th>\n",
       "      <th>min</th>\n",
       "      <th>25%</th>\n",
       "      <th>50%</th>\n",
       "      <th>75%</th>\n",
       "      <th>max</th>\n",
       "    </tr>\n",
       "    <tr>\n",
       "      <th>nearest_warehouse</th>\n",
       "      <th></th>\n",
       "      <th></th>\n",
       "      <th></th>\n",
       "      <th></th>\n",
       "      <th></th>\n",
       "      <th></th>\n",
       "      <th></th>\n",
       "      <th></th>\n",
       "    </tr>\n",
       "  </thead>\n",
       "  <tbody>\n",
       "    <tr>\n",
       "      <th>Bakers</th>\n",
       "      <td>100.0</td>\n",
       "      <td>144.997330</td>\n",
       "      <td>0.010866</td>\n",
       "      <td>144.975812</td>\n",
       "      <td>144.988301</td>\n",
       "      <td>144.996306</td>\n",
       "      <td>145.005924</td>\n",
       "      <td>145.019342</td>\n",
       "    </tr>\n",
       "    <tr>\n",
       "      <th>Nickolson</th>\n",
       "      <td>148.0</td>\n",
       "      <td>144.969496</td>\n",
       "      <td>0.007475</td>\n",
       "      <td>144.956059</td>\n",
       "      <td>144.964111</td>\n",
       "      <td>144.968566</td>\n",
       "      <td>144.974345</td>\n",
       "      <td>144.989029</td>\n",
       "    </tr>\n",
       "    <tr>\n",
       "      <th>Thompson</th>\n",
       "      <td>197.0</td>\n",
       "      <td>144.948249</td>\n",
       "      <td>0.010311</td>\n",
       "      <td>144.916799</td>\n",
       "      <td>144.941736</td>\n",
       "      <td>144.951018</td>\n",
       "      <td>144.955863</td>\n",
       "      <td>144.963880</td>\n",
       "    </tr>\n",
       "  </tbody>\n",
       "</table>\n",
       "</div>"
      ],
      "text/plain": [
       "                   count        mean       std         min         25%  \\\n",
       "nearest_warehouse                                                        \n",
       "Bakers             100.0  144.997330  0.010866  144.975812  144.988301   \n",
       "Nickolson          148.0  144.969496  0.007475  144.956059  144.964111   \n",
       "Thompson           197.0  144.948249  0.010311  144.916799  144.941736   \n",
       "\n",
       "                          50%         75%         max  \n",
       "nearest_warehouse                                      \n",
       "Bakers             144.996306  145.005924  145.019342  \n",
       "Nickolson          144.968566  144.974345  144.989029  \n",
       "Thompson           144.951018  144.955863  144.963880  "
      ]
     },
     "execution_count": 257,
     "metadata": {},
     "output_type": "execute_result"
    }
   ],
   "source": [
    "missing_data.groupby(\"nearest_warehouse\").customer_long.describe()"
   ]
  },
  {
   "cell_type": "markdown",
   "metadata": {},
   "source": [
    "The range of longitude correspond to each warehouse names seems better for our prediction. \n",
    "\n",
    "The three ranges have very little overlaps and it make sense where a customer's nearest warehouse depends on location.\n",
    "\n",
    "So we use the min and max as boundaries and assume: \n",
    "    - bakers have range of (144.989029 to 145.019342)  \n",
    "  \n",
    "    as nickolson have a higher count than bakers, we will use the maximum longitude of Nickolson as minimum for bakers.\n",
    "    - Nickolson have range of  (144.963880 to 144.989029)\n",
    "    \n",
    "    as Thompson have a higher count than nickolson, we will use the maximum longitude of Thompson as minimum for nickolson.\n",
    "    - Thompson have range of (144.916799 to 144.963880)"
   ]
  },
  {
   "cell_type": "code",
   "execution_count": 258,
   "metadata": {},
   "outputs": [],
   "source": [
    "# create a list contain index of rows missing warehouse names\n",
    "missing_ware = missing_data[missing_data.nearest_warehouse.isnull()].index.tolist()"
   ]
  },
  {
   "cell_type": "code",
   "execution_count": 259,
   "metadata": {},
   "outputs": [],
   "source": [
    "# given range, fill the warehouse names\n",
    "for i in missing_ware:\n",
    "    if 144.989029 < missing_data.customer_long[i] < 145.019342:\n",
    "        missing_data.nearest_warehouse[i] = \"Bakers\"\n",
    "    elif 144.963880 < missing_data.customer_long[i] < 144.989029:\n",
    "        missing_data.nearest_warehouse[i] = \"Nickolson\"\n",
    "    elif 144.916799 < missing_data.customer_long[i] < 144.963880:\n",
    "        missing_data.nearest_warehouse[i] = \"Thompson\"\n"
   ]
  },
  {
   "cell_type": "code",
   "execution_count": 260,
   "metadata": {},
   "outputs": [
    {
     "data": {
      "text/plain": [
       "[]"
      ]
     },
     "execution_count": 260,
     "metadata": {},
     "output_type": "execute_result"
    }
   ],
   "source": [
    "# check missing data again\n",
    "missing_data[missing_data.nearest_warehouse.isnull()].index.tolist()"
   ]
  },
  {
   "cell_type": "markdown",
   "metadata": {},
   "source": [
    "## 6. Outlier data\n",
    "\n",
    "For this task, we need to investigate outliers, given outliers are to be found w.r.t. `delivery_charges` attribute only.\n",
    "\n",
    "First, we start by investigating the distribution of delivery charge."
   ]
  },
  {
   "cell_type": "code",
   "execution_count": 261,
   "metadata": {
    "scrolled": true
   },
   "outputs": [
    {
     "data": {
      "image/png": "[encoded data removed]",
      "text/plain": [
       "<Figure size 432x288 with 1 Axes>"
      ]
     },
     "metadata": {
      "needs_background": "light"
     },
     "output_type": "display_data"
    }
   ],
   "source": [
    "# box plot of delivery charges\n",
    "%matplotlib inline\n",
    "box_delivery = outlier_data.boxplot(column = \"delivery_charges\")"
   ]
  },
  {
   "cell_type": "markdown",
   "metadata": {},
   "source": [
    "Outlier is a value that actually exist, but considered to be very unlikely, so we can not fix it, we have to choose to keep it or remove it. In this case, `delivery_charges` seems to have outliers, but we still need to investigate the data more closely by dividing it into categories."
   ]
  },
  {
   "cell_type": "code",
   "execution_count": 262,
   "metadata": {
    "scrolled": true
   },
   "outputs": [
    {
     "data": {
      "image/png": "[encoded data removed]",
      "text/plain": [
       "<Figure size 432x288 with 1 Axes>"
      ]
     },
     "metadata": {
      "needs_background": "light"
     },
     "output_type": "display_data"
    }
   ],
   "source": [
    "# box plot of delivery charges via season\n",
    "box_delivery = outlier_data.boxplot(column = \"delivery_charges\", by = \"season\")"
   ]
  },
  {
   "cell_type": "code",
   "execution_count": 263,
   "metadata": {},
   "outputs": [
    {
     "data": {
      "image/png": "[encoded data removed]",
      "text/plain": [
       "<Figure size 432x288 with 1 Axes>"
      ]
     },
     "metadata": {
      "needs_background": "light"
     },
     "output_type": "display_data"
    }
   ],
   "source": [
    "# box plot of delivery charges via warehouse\n",
    "box_delivery = outlier_data.boxplot(column = \"delivery_charges\", by = \"nearest_warehouse\")"
   ]
  },
  {
   "cell_type": "code",
   "execution_count": 264,
   "metadata": {},
   "outputs": [
    {
     "data": {
      "image/png": "[encoded data removed]",
      "text/plain": [
       "<Figure size 432x288 with 1 Axes>"
      ]
     },
     "metadata": {
      "needs_background": "light"
     },
     "output_type": "display_data"
    }
   ],
   "source": [
    "# box plot of delivery charges via warehouse\n",
    "box_delivery = outlier_data.boxplot(column = \"delivery_charges\", by = \"is_expedited_delivery\")"
   ]
  },
  {
   "cell_type": "markdown",
   "metadata": {},
   "source": [
    "After checking outliers againest different categories, the season category makes the most sense. Delivery charges calcualted differently\n",
    "for each season. Thus, we should consider the distribution of delivery charges in four seasons differently. Therefore, the outliers in each season need to be removed seperatly."
   ]
  },
  {
   "cell_type": "code",
   "execution_count": 265,
   "metadata": {},
   "outputs": [],
   "source": [
    "# calculate IQR for four season\n",
    "q1_Spring = outlier_data.delivery_charges[outlier_data.season == \"Spring\"].quantile(0.25)\n",
    "q3_Spring = outlier_data.delivery_charges[outlier_data.season == \"Spring\"].quantile(0.75)\n",
    "IQR_Spring = q3_Spring - q1_Spring \n",
    "\n",
    "q1_Summer = outlier_data.delivery_charges[outlier_data.season == \"Summer\"].quantile(0.25)\n",
    "q3_Summer = outlier_data.delivery_charges[outlier_data.season == \"Summer\"].quantile(0.75)\n",
    "IQR_Summer = q3_Summer - q1_Summer \n",
    "\n",
    "q1_Autumn = outlier_data.delivery_charges[outlier_data.season == \"Autumn\"].quantile(0.25)\n",
    "q3_Autumn = outlier_data.delivery_charges[outlier_data.season == \"Autumn\"].quantile(0.75)\n",
    "IQR_Autumn = q3_Autumn - q1_Autumn\n",
    "\n",
    "q1_Winter = outlier_data.delivery_charges[outlier_data.season == \"Winter\"].quantile(0.25)\n",
    "q3_Winter = outlier_data.delivery_charges[outlier_data.season == \"Winter\"].quantile(0.75)\n",
    "IQR_Winter = q3_Winter - q1_Winter"
   ]
  },
  {
   "cell_type": "code",
   "execution_count": 266,
   "metadata": {},
   "outputs": [],
   "source": [
    "# find outliers in four season\n",
    "Spring_outlier = outlier_data.delivery_charges[outlier_data.season == \"Spring\"][(outlier_data.delivery_charges < (q1_Spring - 1.5*IQR_Spring)) | (outlier_data.delivery_charges > (q3_Spring + 1.5*IQR_Spring))]\n",
    "\n",
    "Summer_outlier = outlier_data.delivery_charges[outlier_data.season == \"Summer\"][(outlier_data.delivery_charges < (q1_Summer - 1.5*IQR_Summer)) | (outlier_data.delivery_charges > (q3_Summer + 1.5*IQR_Summer))]\n",
    "\n",
    "Autumn_outlier = outlier_data.delivery_charges[outlier_data.season == \"Autumn\"][(outlier_data.delivery_charges < (q1_Autumn - 1.5*IQR_Autumn)) | (outlier_data.delivery_charges > (q3_Autumn + 1.5*IQR_Autumn))]\n",
    "\n",
    "Winter_outlier = outlier_data.delivery_charges[outlier_data.season == \"Winter\"][(outlier_data.delivery_charges < (q1_Winter - 1.5*IQR_Winter)) | (outlier_data.delivery_charges > (q3_Winter + 1.5*IQR_Winter))]"
   ]
  },
  {
   "cell_type": "code",
   "execution_count": 267,
   "metadata": {},
   "outputs": [],
   "source": [
    "# remove outliers from dataset\n",
    "outlier_data.drop(Spring_outlier.index.tolist(), inplace = True)\n",
    "outlier_data.drop(Summer_outlier.index.tolist(), inplace = True)\n",
    "outlier_data.drop(Autumn_outlier.index.tolist(), inplace = True)\n",
    "outlier_data.drop(Winter_outlier.index.tolist(), inplace = True)"
   ]
  },
  {
   "cell_type": "markdown",
   "metadata": {},
   "source": [
    "## 7. Output dataset"
   ]
  },
  {
   "cell_type": "code",
   "execution_count": 268,
   "metadata": {},
   "outputs": [],
   "source": [
    "# output datasets to csv\n",
    "dirty_data.to_csv('dirty_data_solution.csv',index = False)\n",
    "missing_data.to_csv('missing_data_solution.csv',index = False)\n",
    "outlier_data.to_csv('outlier_data_solution.csv',index = False)"
   ]
  },
  {
   "cell_type": "markdown",
   "metadata": {},
   "source": [
    "## Referance\n",
    "nltk.sentiment.vader module\n",
    "\n",
    "Hutto, C.J. & Gilbert, E.E. (2014). VADER: A Parsimonious Rule-based Model for Sentiment Analysis of Social Media Text. Eighth International Conference on Weblogs and Social Media (ICWSM-14). Ann Arbor, MI, June 2014."
   ]
  }
 ],
 "metadata": {
  "kernelspec": {
   "display_name": "Python 3",
   "language": "python",
   "name": "python3"
  },
  "language_info": {
   "codemirror_mode": {
    "name": "ipython",
    "version": 3
   },
   "file_extension": ".py",
   "mimetype": "text/x-python",
   "name": "python",
   "nbconvert_exporter": "python",
   "pygments_lexer": "ipython3",
   "version": "3.8.8"
  }
 },
 "nbformat": 4,
 "nbformat_minor": 4
}
