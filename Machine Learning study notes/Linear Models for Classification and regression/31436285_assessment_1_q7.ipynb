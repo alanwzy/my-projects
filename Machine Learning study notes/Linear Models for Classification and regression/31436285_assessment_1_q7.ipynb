{
 "cells": [
  {
   "cell_type": "markdown",
   "id": "4f2ce350",
   "metadata": {},
   "source": [
    "## Section F. Logistic Regression vs. Bayesian Classifier"
   ]
  },
  {
   "cell_type": "markdown",
   "id": "ab263e1f",
   "metadata": {},
   "source": [
    "## Question 7 [Discriminative vs Generative Models, 25 Marks]"
   ]
  },
  {
   "cell_type": "markdown",
   "id": "34ed624d",
   "metadata": {},
   "source": [
    "#### Library"
   ]
  },
  {
   "cell_type": "code",
   "execution_count": 53,
   "id": "a69f36db",
   "metadata": {},
   "outputs": [],
   "source": [
    "# library used\n",
    "library(mvtnorm) # generates multivariate Gaussian sampels and calculate the densities\n",
    "library(ggplot2) # draw ggplots\n",
    "library(reshape2) # reshape dataframes"
   ]
  },
  {
   "cell_type": "markdown",
   "id": "00b639dc",
   "metadata": {},
   "source": [
    "#### Import data"
   ]
  },
  {
   "cell_type": "code",
   "execution_count": 54,
   "id": "a0673855",
   "metadata": {},
   "outputs": [],
   "source": [
    "# read csv\n",
    "train_1e <- read.csv(\"./Task1E_train.csv\")\n",
    "test_1e <- read.csv(\"./Task1E_test.csv\")"
   ]
  },
  {
   "cell_type": "code",
   "execution_count": 55,
   "id": "9a314bd4",
   "metadata": {},
   "outputs": [],
   "source": [
    "# subset data into x and y\n",
    "train.data_all <- train_1e[,-3]\n",
    "train.label_all <- train_1e[,3]\n",
    "test.data_all <- test_1e[,-3]\n",
    "test.label_all <- test_1e[,3]"
   ]
  },
  {
   "cell_type": "markdown",
   "id": "6259f57b",
   "metadata": {},
   "source": [
    "### 1. Create two models"
   ]
  },
  {
   "cell_type": "markdown",
   "id": "12c30523",
   "metadata": {},
   "source": [
    "#### Bayesian classifier"
   ]
  },
  {
   "cell_type": "code",
   "execution_count": 56,
   "id": "6dbf1418",
   "metadata": {},
   "outputs": [],
   "source": [
    "# a dataframe to record error of bc model\n",
    "bc_error  <- data.frame(\"size\" = seq(5,500,5), \"train\" = rep(0,100), \"test\" = rep(0,100))\n",
    "# number of data points use in each run, increase by 5 each time\n",
    "N <- seq(5,500,5)\n",
    "# initialize count\n",
    "c <- 1 \n",
    "# run bc model\n",
    "for (n in N){\n",
    "    # subset data according to the number of data points use in this run\n",
    "    train.data <- train.data_all[1:n,]\n",
    "    train.label <- train.label_all[1:n]\n",
    "\n",
    "    # 1. calculating the class probabilities\n",
    "    p0.hat <- sum(train.label==1)/nrow(train.data) # total number of samples in class 0 divided by the total nmber of training data\n",
    "    p1.hat <- sum(train.label==-1)/nrow(train.data) # or simply 1 - p1.hat\n",
    "\n",
    "    # 2. estimate the class means\n",
    "    mu0.hat <- colMeans(train.data[train.label==1,])\n",
    "    mu1.hat <- colMeans(train.data[train.label==-1,])\n",
    "\n",
    "    # 3. calculate class variance matrices\n",
    "    # class covariance matrices:\n",
    "    sigma0.hat <- var(train.data[train.label==1,])\n",
    "    sigma1.hat <- var(train.data[train.label==-1,])\n",
    "\n",
    "    # shared covariance matrix:\n",
    "    sigma.hat <- p0.hat * sigma0.hat + p1.hat * sigma1.hat \n",
    "\n",
    "    # 4. calculate the postoriors based on the estimated parameters\n",
    "    posterior0 <- p0.hat*dmvnorm(x=train.data_all, mean=mu0.hat, sigma=sigma.hat)\n",
    "    posterior1 <- p1.hat*dmvnorm(x=train.data_all, mean=mu1.hat, sigma=sigma.hat)\n",
    "\n",
    "    # 5. calculate predictions and assign to class\n",
    "    train.predict <- ifelse(posterior0 > posterior1, 1, -1)\n",
    "    test.predict <- ifelse(p0.hat*dmvnorm(x=test.data_all, mean=mu0.hat, sigma=sigma.hat) > p1.hat*dmvnorm(x=test.data_all, mean=mu1.hat, sigma=sigma.hat), 1, -1)\n",
    "    \n",
    "    # calculate accuracy:\n",
    "    bc_error[c,2] <- p0.hat * sum(train.label_all!=train.predict)  # record train error\n",
    "    bc_error[c,3] <- p0.hat * sum(test.label_all!=test.predict) # record test error\n",
    "    c <- c + 1 # update count\n",
    "}"
   ]
  },
  {
   "cell_type": "markdown",
   "id": "2bd7c40b",
   "metadata": {},
   "source": [
    "#### Logistic Regression"
   ]
  },
  {
   "cell_type": "code",
   "execution_count": 58,
   "id": "801023b3",
   "metadata": {},
   "outputs": [],
   "source": [
    "# auxiliary function that predicts class labels\n",
    "predict <- function(w, X, c0, c1){\n",
    "    sig <- sigmoid(w, X)\n",
    "    return(ifelse(sig>0.5, c1,c0))\n",
    "}\n",
    "    \n",
    "# auxiliary function that calculate a cost function\n",
    "cost <- function (w, X, T, c0){\n",
    "    sig <- sigmoid(w, X)\n",
    "    return(sum(ifelse(T==c0, 1-sig, sig)))\n",
    "}"
   ]
  },
  {
   "cell_type": "code",
   "execution_count": 59,
   "id": "31f804fb",
   "metadata": {},
   "outputs": [],
   "source": [
    "# 1. define sigmoid function (=p(C1|X))\n",
    "sigmoid <- function(w, x){\n",
    "    return(1.0/(1.0+exp(-w%*%t(cbind(1,x)))))    \n",
    "}\n",
    "\n",
    "# 2. Initialize the weight vector, learning rate, stopping threshold, etc.\n",
    "tau.max <- 1000 # maximum number of iterations\n",
    "eta <- 0.01 # learning rate\n",
    "epsilon <- 0.01 # a threshold on the cost (to terminate the process)\n",
    "terminate <- FALSE\n",
    "\n",
    "# a dataframe to record error of bc model\n",
    "Lr_error  <- data.frame(\"size\" = seq(5,500,5), \"train\" = rep(0,100), \"test\" = rep(0,100))\n",
    "# number of data points use in each run, increase by 5 each time\n",
    "N <- seq(5,500,5)\n",
    "# initialize count\n",
    "c <- 1 ## Just a few name/type conversion to make the rest of the code easy to follow\n",
    "\n",
    "\n",
    "\n",
    "# run SGD to learn the weight vector, + 5 data points each time in trainning\n",
    "for (n in N){\n",
    "    # subset train data according to number of data points going to use\n",
    "    train.data <- train.data_all[1:n,]\n",
    "    train.label <- train.label_all[1:n]\n",
    "\n",
    "    X <- as.matrix(train.data) # rename just for conviniance\n",
    "    T <- train.label # rename just for conviniance\n",
    "    W <- matrix(,nrow=tau.max, ncol=(ncol(X)+1)) # to be used to store the estimated coefficients\n",
    "\n",
    "    set.seed(1343)\n",
    "    W[1,] <- runif(ncol(W)) # initial weight (any better idea?)\n",
    "\n",
    "    # project data using the sigmoid function (just for convenient)\n",
    "    Y <- sigmoid(W[1,],X)\n",
    "    \n",
    "    costs <- data.frame('tau'=1:tau.max)  # to be used to trace the cost in each iteration\n",
    "    costs[1, 'train'] <- cost(W[1,],as.matrix(train.data_all),train.label_all, 1) # initial costs\n",
    "    costs[1,'test'] <- cost(W[1,],as.matrix(test.data_all),test.label_all, 1)\n",
    "\n",
    "\n",
    "    # shuffle data:\n",
    "    train.len  <- nrow(train.data)\n",
    "    train.index <- sample(1:train.len, train.len, replace = FALSE)\n",
    "    X <- X[train.index,]\n",
    "    T <- T[train.index]\n",
    "    tau <- 1 # iteration counter\n",
    "    # for each datapoint:\n",
    "    for (i in 1:train.len){\n",
    "\n",
    "        # calcualte prediction\n",
    "        Y <- sigmoid(W[tau,],X)\n",
    "\n",
    "        # Update the weights\n",
    "        W[(tau+1),] <- W[tau,] - eta * (Y[i]-T[i]) * cbind(1, t(X[i,]))\n",
    "\n",
    "        # record the cost of train and test data:\n",
    "        costs[(tau+1), 'train'] <- cost(W[tau,],as.matrix(train.data_all),train.label_all, 1)\n",
    "        costs[(tau+1), 'test'] <- cost(W[tau,],as.matrix(test.data_all),test.label_all, 1)\n",
    "\n",
    "        # update the counter:\n",
    "        tau <- tau + 1\n",
    "        u <- u + 1\n",
    "        # decrease learning rate:\n",
    "        eta = eta * 0.999\n",
    "    }\n",
    "\n",
    "# record errors \n",
    "    Lr_error[c,'train'] <- costs[tau,\"train\"]\n",
    "    Lr_error[c,'test'] <- costs[tau,\"test\"]\n",
    "    c  <-  c + 1\n",
    "}\n"
   ]
  },
  {
   "cell_type": "code",
   "execution_count": 61,
   "id": "c97b4437",
   "metadata": {},
   "outputs": [],
   "source": [
    "# merge two error dataframe together for plotting\n",
    "bc_error[,\"type\"]  <- \"BC\"\n",
    "Lr_error[,\"type\"] <- \"LR\"\n",
    "model_error <- rbind(bc_error,Lr_error)"
   ]
  },
  {
   "cell_type": "markdown",
   "id": "afe8156c",
   "metadata": {},
   "source": [
    "### 2. Plot the errors of the models "
   ]
  },
  {
   "cell_type": "code",
   "execution_count": 73,
   "id": "4fea6d09",
   "metadata": {},
   "outputs": [
    {
     "data": {
      "image/png": "[encoded data removed]",
      "text/plain": [
       "plot without title"
      ]
     },
     "metadata": {
      "image/png": {
       "height": 420,
       "width": 420
      }
     },
     "output_type": "display_data"
    },
    {
     "data": {
      "image/png": "[encoded data removed]",
      "text/plain": [
       "plot without title"
      ]
     },
     "metadata": {
      "image/png": {
       "height": 420,
       "width": 420
      }
     },
     "output_type": "display_data"
    }
   ],
   "source": [
    "# plot training error vs trainning size for the two model\n",
    "ggplot(data = model_error, aes(x = size, y = train, color = type)) + geom_line() + \n",
    "scale_color_discrete(guide = guide_legend(title = 'Model'))+\n",
    "ggtitle('Training error vs training size')+\n",
    "theme_minimal()\n",
    "\n",
    "# plot testing error vs testing size for the two model\n",
    "ggplot(data = model_error, aes(x = size, y = test, color = type)) + geom_line() + \n",
    "scale_color_discrete(guide = guide_legend(title = 'Model'))+\n",
    "ggtitle('Training error vs training size')+\n",
    "theme_minimal()"
   ]
  },
  {
   "cell_type": "markdown",
   "id": "af1f30fb",
   "metadata": {},
   "source": [
    "### 3. Explain observations in plots"
   ]
  },
  {
   "cell_type": "markdown",
   "id": "fba457b9",
   "metadata": {},
   "source": [
    "1. What does happen for each classifier when the number of training data points is increased?\n",
    "\n",
    "For the bayesian classifier, as training data points increase, training and testing errors decrease by a large amount. Nearly all data was classified correctly at a relatively large training size. Indicates, an increase in training data size improves the performance of bayesian classifier.\n",
    "\n",
    "For the logistic regression, as training data points increase, training and testing errors tend to decrease but then increase when training size become too large. This may due to the fact that the model is overfitting the training data. As training size increase, the model become more complex.\n",
    " \n",
    "2. Which classifier is best suited when the training set is small, and which is best suited when the training set is big?\n",
    "\n",
    "Based on the plot,  the Bayesian classifier out performs logistic regression in all training size. In this case, Bayesian classifier is the best for both scenario but in other datasets it might not be the case, this will be further explained in the next question.\n",
    "\n",
    "\n",
    "3. Justify your observations in previous questions (III.a & III.b) by providing some speculations and possible reasons.\n",
    "\n",
    "Bayesian classifier is a classifier that is less likely to overfit compare to logistic regression because it is a generative model that models the joint distribution, where logistic regression is a discriminative model that directly models the posterior probability. As Bayesian classifier has a simple hypothesis function, the model has a high bias, where logistic regression has a low bias and vice versa for variance. This also means that Bayesian classifier is suitable for small data size and logistic regression is suitable for larger data size. If the training size is small, there will not be enough data point for logistic regression to converge. In this case, the training data size is 500 at maximum which is still relatively small in real world situations, this may explains the poor performance of logistic regression.\n",
    "\n",
    "On the other hand, Bayesian classifier assumes all the features to be conditionally independent, in this case the predictions are accurate may caused by the fact that this assumption is true. Otherwise, the predictions would be poor. "
   ]
  },
  {
   "cell_type": "code",
   "execution_count": null,
   "id": "ff41a93f",
   "metadata": {},
   "outputs": [],
   "source": []
  }
 ],
 "metadata": {
  "kernelspec": {
   "display_name": "R",
   "language": "R",
   "name": "ir"
  },
  "language_info": {
   "codemirror_mode": "r",
   "file_extension": ".r",
   "mimetype": "text/x-r-source",
   "name": "R",
   "pygments_lexer": "r",
   "version": "4.0.5"
  }
 },
 "nbformat": 4,
 "nbformat_minor": 5
}
