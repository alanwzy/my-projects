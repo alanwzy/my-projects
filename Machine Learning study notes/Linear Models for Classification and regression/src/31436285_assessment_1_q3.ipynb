{
 "cells": [
  {
   "cell_type": "markdown",
   "id": "9eec2617",
   "metadata": {},
   "source": [
    "## Section B. Prediction Uncertainty with Bootstrapping"
   ]
  },
  {
   "cell_type": "markdown",
   "id": "072e22bc",
   "metadata": {},
   "source": [
    "## Question 3 [Bootstrapping, 25 Marks]"
   ]
  },
  {
   "cell_type": "markdown",
   "id": "fb13fe3f",
   "metadata": {},
   "source": [
    "### 1. Bootstrapping for KNN regression "
   ]
  },
  {
   "cell_type": "markdown",
   "id": "23b6d755",
   "metadata": {},
   "source": [
    "#### Load libraries"
   ]
  },
  {
   "cell_type": "code",
   "execution_count": 20,
   "id": "8f43734a",
   "metadata": {},
   "outputs": [],
   "source": [
    "# libraries\n",
    "library(ggplot2)\n"
   ]
  },
  {
   "cell_type": "markdown",
   "id": "3d97a8fa",
   "metadata": {},
   "source": [
    "#### Knn function & Error function"
   ]
  },
  {
   "cell_type": "code",
   "execution_count": 30,
   "id": "cea81c37",
   "metadata": {},
   "outputs": [],
   "source": [
    "# KNN function (distance = manhattan)\n",
    "knn <- function(train.data, train.label, test.data, K=K, distance = 'manhattan'){\n",
    "    ## count number of train samples\n",
    "    train.len <- nrow(train.data)\n",
    "    \n",
    "    ## count number of test samples\n",
    "    test.len <- nrow(test.data)\n",
    "\n",
    "    ## calculate distances between samples\n",
    "    dist <- as.matrix(dist(rbind(test.data, train.data), method= distance))[1:test.len, (test.len+1):(test.len+train.len)]\n",
    "    \n",
    "    ## for each test sample...\n",
    "    for (i in 1:test.len){\n",
    "        ### ...find its K nearest neighbours from training sampels...\n",
    "        nn <- as.data.frame(sort(dist[i,], index.return = TRUE))[1:K,2]\n",
    "\n",
    "        ###... and calculate the predicted values according to average.\n",
    "        test.label[i]<- sum(train.label[nn])/K\n",
    "    }\n",
    "    \n",
    "    ## return the predictions as output\n",
    "    return (test.label)\n",
    "}\n",
    "\n",
    "# error function: root mean square error\n",
    "RMSE <- function(predicted, target) {\n",
    "    se <- 0\n",
    "    for (i in 1:length(predicted)) {\n",
    "        se <- se + (predicted[i]-target[i])^2\n",
    "    }\n",
    "    return (sqrt(se/length(predicted)))\n",
    "}"
   ]
  },
  {
   "cell_type": "markdown",
   "id": "86f70689",
   "metadata": {},
   "source": [
    "#### Boot function"
   ]
  },
  {
   "cell_type": "code",
   "execution_count": 31,
   "id": "306f88f5",
   "metadata": {},
   "outputs": [],
   "source": [
    "# define a function that generates sample indixes based on bootstrap technique\n",
    "boot <- function (original.size, sample.size = N, times = L){\n",
    "    indx <- matrix(nrow=times, ncol=sample.size)\n",
    "    for (t in 1:times){\n",
    "        indx[t, ] <- sample(x=original.size, size=sample.size, replace = TRUE)\n",
    "    }\n",
    "    return(indx)\n",
    "}"
   ]
  },
  {
   "cell_type": "markdown",
   "id": "e74e5a92",
   "metadata": {},
   "source": [
    "### 2. Apply bootstrapping with times = 30, size = 60 and change K=1:20"
   ]
  },
  {
   "cell_type": "markdown",
   "id": "76399504",
   "metadata": {},
   "source": [
    "#### Import data"
   ]
  },
  {
   "cell_type": "code",
   "execution_count": 32,
   "id": "e8533299",
   "metadata": {},
   "outputs": [],
   "source": [
    "# read train and test data\n",
    "train_1b <- read.csv(\"Task1B_train.csv\")\n",
    "test_1b <- read.csv(\"Task1B_test.csv\")"
   ]
  },
  {
   "cell_type": "code",
   "execution_count": 33,
   "id": "44127127",
   "metadata": {},
   "outputs": [],
   "source": [
    "# create train and test subsets\n",
    "train.data <- train_1b[,-5]\n",
    "train.label <- train_1b[,5]\n",
    "test.data <- test_1b[,-5]\n",
    "test.label <- test_1b[,5]"
   ]
  },
  {
   "cell_type": "code",
   "execution_count": 34,
   "id": "92a7da8a",
   "metadata": {},
   "outputs": [],
   "source": [
    "# initialize the parameters\n",
    "K <- 20           # Maximum K for KNN \n",
    "L <- 30          # number of datasets\n",
    "N <- 60          # size of datasets\n",
    "\n",
    "# generate bootstrap indices:\n",
    "boot.indx <- boot(nrow(train.data), N, L)\n",
    "\n",
    "# a dataframe to track the RMSE in each case\n",
    "RMSE_boot <- data.frame('K'=1:K, 'L'=1:L, 'test'=rep(0,L*K))\n",
    "\n",
    "## apply bootstrapping for every k values:\n",
    "for (k in 1: K){\n",
    "    \n",
    "    ### for every dataset sizes:\n",
    "    for (l in 1:L){\n",
    "        \n",
    "        #### calculate iteration index i\n",
    "        i <- (k-1)*L+l\n",
    "        \n",
    "        #### save sample indices that were selected by bootstrap\n",
    "        indx <- boot.indx[l,]\n",
    "        \n",
    "        #### save the value of k and l\n",
    "        RMSE_boot[i,'K'] <- k\n",
    "        RMSE_boot[i,'L'] <- l\n",
    "        \n",
    "        #### calculate and record the test RMSE\n",
    "        RMSE_boot[i,'test'] <-  RMSE(knn(train.data[indx, ], train.label[indx], test.data, K=k), test.label)\n",
    "    } \n",
    "}"
   ]
  },
  {
   "cell_type": "code",
   "execution_count": 35,
   "id": "2c5e9f65",
   "metadata": {},
   "outputs": [
    {
     "data": {
      "image/png": "[encoded data removed]",
      "text/plain": [
       "plot without title"
      ]
     },
     "metadata": {
      "image/png": {
       "height": 420,
       "width": 420
      }
     },
     "output_type": "display_data"
    }
   ],
   "source": [
    "# modified the code from acitivity 1.2 and draw boxplot of RMSE of bootstrapped knn\n",
    "ggplot(data=RMSE_boot, aes(factor(K),test)) + geom_boxplot(outlier.shape = NA)  + \n",
    "    scale_color_discrete(guide = guide_legend(title = NULL)) + \n",
    "    ggtitle('RMSE vs. K (Box Plot)') + theme_minimal()\n",
    "# ignore the warnings (because of ignoring outliers)\n",
    "options(warn=-1)"
   ]
  },
  {
   "cell_type": "markdown",
   "id": "94e99d53",
   "metadata": {},
   "source": [
    "### 3. Discuss how test error and its uncertainty behave as K increases"
   ]
  },
  {
   "cell_type": "markdown",
   "id": "6e799c3e",
   "metadata": {},
   "source": [
    "The boxplot shows:\n",
    "- test error increase as k increases\n",
    "- uncertainty increase as k increases\n",
    "- test error is minimum at k = 2\n",
    "\n",
    "The boxplot indicates a positive correlation between the k value and test error. Generally, we expect the plot to form a parabola shape with high test errors on both low k values and high k values. Normally, a small k value leads to overfitting and increase the test error. In this case, as the dataset is not large enough, the test error is relatively small when k value is small. \n",
    "\n",
    "In terms of uncertainty, the size boxplot increases when k increases, indicates the variance of error increases and thus leads to a larger uncertainty. \n",
    "\n",
    "There is one thing to notice that at k = 1, the uncertainty and test error is higher than k = 2 & 3. This matches with our expectation because at k = 1, the model is highly overfitted, which should have a high test error and high variance.\n",
    "\n",
    "If a optimal k value need to be selected based on the plot, k = 2 should be the optimal k value where the test error is the smallest and the uncertainty is small too."
   ]
  },
  {
   "cell_type": "markdown",
   "id": "17ffe9dd",
   "metadata": {},
   "source": [
    "### 4. Bootstrapping for KNN regression with K=5,times = 50 and change sizes = 5, 10, 15,..., 75 \n"
   ]
  },
  {
   "cell_type": "code",
   "execution_count": 53,
   "id": "e54a46d9",
   "metadata": {},
   "outputs": [],
   "source": [
    "# initialize the parameters\n",
    "K <- 5           # Maximum K for KNN \n",
    "L <- 50          # number of datasets\n",
    "N <- c(5,10,15,20,25,30,35,40,45,50,55,60,65,70,75)  # size of datasets\n",
    "\n",
    "# a dataframe to track the RMSE in each size\n",
    "RMSE_size <- data.frame('size'= rep(0, L*K*15), 'error'=rep(0,L*K*15))\n",
    "\n",
    "for (n in N){\n",
    "    # generate bootstrap indices:\n",
    "    boot.indx <- boot(nrow(train.data), n, L)\n",
    "\n",
    "    # a dataframe to track the RMSE in each case\n",
    "    RMSE_case <- data.frame('size'= rep(0, L*K), 'error'=rep(0,L*K))\n",
    "    \n",
    "    ## apply bootstrapping for every k values:\n",
    "\n",
    "    for (k in 1: K){\n",
    "\n",
    "        ### for every dataset sizes:\n",
    "        for (l in 1:L){\n",
    "\n",
    "            #### calculate iteration index i\n",
    "            i <- (k-1)*L+l\n",
    "\n",
    "            #### save sample indices that were selected by bootstrap\n",
    "            indx <- boot.indx[l,]\n",
    "\n",
    "            #### save the value of k and l\n",
    "            RMSE_case[i,'size'] = n \n",
    "\n",
    "            #### calculate and record the test RMSE\n",
    "            RMSE_case[i,'error'] <-  RMSE(knn(train.data[indx, ], train.label[indx], test.data, K=k), test.label)\n",
    "        }\n",
    "        # update to RMSE VS SIZE table\n",
    "        RMSE_size <- rbind(RMSE_size, RMSE_case)\n",
    "    }\n",
    "}"
   ]
  },
  {
   "cell_type": "code",
   "execution_count": 55,
   "id": "ec62b71c",
   "metadata": {},
   "outputs": [
    {
     "data": {
      "image/png": "[encoded data removed]",
      "text/plain": [
       "plot without title"
      ]
     },
     "metadata": {
      "image/png": {
       "height": 420,
       "width": 420
      }
     },
     "output_type": "display_data"
    }
   ],
   "source": [
    "# modified the code from acitivity 1.2 and draw boxplot of RMSE of bootstrapped knn\n",
    "ggplot(data=RMSE_size, aes(factor(size),error)) + geom_boxplot(outlier.shape = NA)  + \n",
    "    scale_color_discrete(guide = guide_legend(title = NULL)) + \n",
    "    ggtitle('RMSE vs. size (Box Plot)') + theme_minimal()\n",
    "\n",
    "# ignore the warnings (because of ignoring outliers)\n",
    "options(warn=-1)"
   ]
  },
  {
   "cell_type": "markdown",
   "id": "7782387b",
   "metadata": {},
   "source": [
    "### 5. Discuss how test error and its uncertainty behave as size increases"
   ]
  },
  {
   "cell_type": "markdown",
   "id": "51456107",
   "metadata": {},
   "source": [
    "The boxplot shows:\n",
    "- test error decreases as sample size increases\n",
    "- the variance of error decreases as sample size increases\n",
    "\n",
    "Looking at the test error represented by the boxplots, the boxplots tends to have a very long tail on the upper side indicates high test error. This matches the expection that for bootstrapped knn regression with a small sample size, both the variance and test error is high. Large variance indicates a high uncertainty of the model prediction. The plot illustrates the idea that uncertainty and error can be reduced by increasing the size of data training. With a larger data base, the values contained in the data is more likely be able to repsent the whole population. Thus, the model trained can be more generalized and performance measure is more accurate with a smaller variance."
   ]
  }
 ],
 "metadata": {
  "kernelspec": {
   "display_name": "R",
   "language": "R",
   "name": "ir"
  },
  "language_info": {
   "codemirror_mode": "r",
   "file_extension": ".r",
   "mimetype": "text/x-r-source",
   "name": "R",
   "pygments_lexer": "r",
   "version": "4.0.5"
  }
 },
 "nbformat": 4,
 "nbformat_minor": 5
}
