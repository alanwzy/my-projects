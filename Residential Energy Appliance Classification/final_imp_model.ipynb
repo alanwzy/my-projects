{
 "cells": [
  {
   "cell_type": "markdown",
   "id": "ee06788c",
   "metadata": {},
   "source": [
    "# FIT5149 S2 2020 \n",
    "# Assessment 2:  Residential Energy Appliance Classification\n",
    "\n",
    "\n",
    "Student information\n",
    "    - Family Name: WANG\n",
    "    - Given Name: ZHIYIN\n",
    "- Student ID: 31436285\n",
    "- Student email: zwan0252@student.monash.edu\n",
    "\n",
    "Programming Language: R 4.0.5 in Jupyter Notebook"
   ]
  },
  {
   "cell_type": "code",
   "execution_count": 8,
   "id": "cc800e6a",
   "metadata": {
    "scrolled": true
   },
   "outputs": [
    {
     "name": "stderr",
     "output_type": "stream",
     "text": [
      "randomForest 4.6-14\n",
      "\n",
      "Type rfNews() to see new features/changes/bug fixes.\n",
      "\n",
      "Loaded ROSE 0.0-3\n",
      "\n",
      "\n"
     ]
    }
   ],
   "source": [
    "# import libraries\n",
    "library(randomForest)\n",
    "library(ROSE)"
   ]
  },
  {
   "cell_type": "markdown",
   "id": "c9b5ef90",
   "metadata": {},
   "source": [
    "## 1. Import data"
   ]
  },
  {
   "cell_type": "code",
   "execution_count": 1,
   "id": "24b86b02",
   "metadata": {},
   "outputs": [],
   "source": [
    "# import train and test data\n",
    "train  <- read.csv(\"./train_data_withlabels.csv\")\n",
    "test <- read.csv(\"./test_data_nolabels.csv\")"
   ]
  },
  {
   "cell_type": "code",
   "execution_count": 5,
   "id": "1e2ac752",
   "metadata": {},
   "outputs": [
    {
     "data": {
      "text/plain": [
       "\n",
       "     0      1 \n",
       "316521 101199 "
      ]
     },
     "metadata": {},
     "output_type": "display_data"
    },
    {
     "data": {
      "text/plain": [
       "\n",
       "     0      1 \n",
       "415385   2335 "
      ]
     },
     "metadata": {},
     "output_type": "display_data"
    },
    {
     "data": {
      "text/plain": [
       "\n",
       "     0      1 \n",
       "411764   5956 "
      ]
     },
     "metadata": {},
     "output_type": "display_data"
    },
    {
     "data": {
      "text/plain": [
       "\n",
       "     0      1 \n",
       "409767   7953 "
      ]
     },
     "metadata": {},
     "output_type": "display_data"
    },
    {
     "data": {
      "text/plain": [
       "\n",
       "     0      1 \n",
       "404144  13576 "
      ]
     },
     "metadata": {},
     "output_type": "display_data"
    }
   ],
   "source": [
    "# the data set is highly imbalanced\n",
    "table(train$ac)\n",
    "table(train$ev)\n",
    "table(train$oven)\n",
    "table(train$wash)\n",
    "table(train$dryer)"
   ]
  },
  {
   "cell_type": "markdown",
   "id": "2a5bb9a6",
   "metadata": {},
   "source": [
    "## 2. Train classifier"
   ]
  },
  {
   "cell_type": "code",
   "execution_count": 6,
   "id": "dba83602",
   "metadata": {},
   "outputs": [],
   "source": [
    "# numeric target variable to factor \n",
    "train$ac <- as.factor(train$ac)\n",
    "train$ev <- as.factor(train$ev)\n",
    "train$oven <- as.factor(train$oven)\n",
    "train$wash <- as.factor(train$wash)\n",
    "train$dryer <- as.factor(train$dryer)"
   ]
  },
  {
   "cell_type": "code",
   "execution_count": 9,
   "id": "56e4db5e",
   "metadata": {},
   "outputs": [],
   "source": [
    "# generate under sampling data synthetically for each appliances, method = \"under\", N = number of postitive label * 2\n",
    "ac_balanced_under <- ovun.sample(ac ~ load + hourofday + dif + absdif + max + var + entropy + \n",
    "                          nonlinear + hurst, data = train, method = \"under\", N = 101199*2, seed = 1)$data\n",
    "\n",
    "ev_balanced_under <- ovun.sample(ev ~ load + hourofday + dif + absdif + max + var + entropy + \n",
    "                          nonlinear + hurst, data = train, method = \"under\", N = 2235*2, seed = 1)$data\n",
    "\n",
    "oven_balanced_under <- ovun.sample(oven ~ load + hourofday + dif + absdif + max + var + entropy + \n",
    "                          nonlinear + hurst, data = train, method = \"under\", N = 5956*2, seed = 1)$data\n",
    "\n",
    "wash_balanced_under <- ovun.sample(wash ~ load + hourofday + dif + absdif + max + var + entropy + \n",
    "                          nonlinear + hurst, data = train, method = \"under\", N = 7953*2, seed = 1)$data\n",
    "\n",
    "dryer_balanced_under <- ovun.sample(dryer ~ load + hourofday + dif + absdif + max + var + entropy + \n",
    "                          nonlinear + hurst, data = train, method = \"under\", N = 13576*2, seed = 1)$data"
   ]
  },
  {
   "cell_type": "markdown",
   "id": "17b31317",
   "metadata": {},
   "source": [
    "### ac"
   ]
  },
  {
   "cell_type": "code",
   "execution_count": 10,
   "id": "76b9e782",
   "metadata": {},
   "outputs": [],
   "source": [
    "# train random forest for ac\n",
    "random.ac <- randomForest(ac ~ load + hourofday + dif + absdif + max + var + entropy + \n",
    "                          nonlinear + hurst, data = ac_balanced_under, ntree = 200, mtry=3, importance=TRUE)"
   ]
  },
  {
   "cell_type": "markdown",
   "id": "1b08662a",
   "metadata": {},
   "source": [
    "### ev"
   ]
  },
  {
   "cell_type": "code",
   "execution_count": 11,
   "id": "e6d878d0",
   "metadata": {},
   "outputs": [],
   "source": [
    "# train random forest for ev\n",
    "random.ev <- randomForest(ev ~ load + hourofday + dif + absdif + max + var + entropy + \n",
    "                          nonlinear + hurst, data = ev_balanced_under, ntree = 1000, mtry=3, importance=TRUE)"
   ]
  },
  {
   "cell_type": "markdown",
   "id": "7f79171b",
   "metadata": {},
   "source": [
    "### oven"
   ]
  },
  {
   "cell_type": "code",
   "execution_count": 12,
   "id": "bf931bee",
   "metadata": {},
   "outputs": [],
   "source": [
    "# train random forest for oven\n",
    "random.oven <- randomForest(oven ~ load + hourofday + dif + absdif + max + var + entropy + \n",
    "                          nonlinear + hurst, data = oven_balanced_under, ntree = 1000, mtry=3, importance=TRUE)"
   ]
  },
  {
   "cell_type": "markdown",
   "id": "064866af",
   "metadata": {},
   "source": [
    "### wash"
   ]
  },
  {
   "cell_type": "code",
   "execution_count": 13,
   "id": "55c3014e",
   "metadata": {},
   "outputs": [],
   "source": [
    "# train random forest for wash\n",
    "random.wash <- randomForest(wash ~ load + hourofday + dif + absdif + max + var + entropy + \n",
    "                          nonlinear + hurst, data = wash_balanced_under, ntree = 1000, mtry=3, importance=TRUE)"
   ]
  },
  {
   "cell_type": "markdown",
   "id": "92946966",
   "metadata": {},
   "source": [
    "### dryer"
   ]
  },
  {
   "cell_type": "code",
   "execution_count": 14,
   "id": "444b3827",
   "metadata": {},
   "outputs": [],
   "source": [
    "# train random forest for dryer\n",
    "random.dryer <- randomForest(dryer ~ load + hourofday + dif + absdif + max + var + entropy + \n",
    "                          nonlinear + hurst, data = dryer_balanced_under, ntree = 1000, mtry=3, importance=TRUE)"
   ]
  },
  {
   "cell_type": "markdown",
   "id": "364b36ff",
   "metadata": {},
   "source": [
    "## 3. Prediction on test data"
   ]
  },
  {
   "cell_type": "code",
   "execution_count": 15,
   "id": "1dd834e5",
   "metadata": {},
   "outputs": [],
   "source": [
    "# predict labels on test data features and record the predictions\n",
    "test.predict.ac <- predict(random.ac, test, \"class\")\n",
    "test.predict.ev <- predict(random.ev, test, type=\"class\")\n",
    "test.predict.oven <- predict(random.oven, test, type=\"class\")\n",
    "test.predict.wash <- predict(random.wash, test, type=\"class\")\n",
    "test.predict.dryer <- predict(random.dryer, test, type=\"class\")"
   ]
  },
  {
   "cell_type": "markdown",
   "id": "49a05d22",
   "metadata": {},
   "source": [
    "## 4. Output to csv"
   ]
  },
  {
   "cell_type": "code",
   "execution_count": 17,
   "id": "f5175fd1",
   "metadata": {},
   "outputs": [],
   "source": [
    "# save all prediction into one dataframe with correct format\n",
    "output <- data.frame(col_index = 1:105540, ac = test.predict.ac, ev = test.predict.ev, oven = test.predict.oven, \n",
    "                     wash = test.predict.wash, dryer = test.predict.dryer)\n",
    "\n",
    "# save to local csv file\n",
    "write.csv(output, \"./pred_labels.csv\", row.names = FALSE)"
   ]
  }
 ],
 "metadata": {
  "kernelspec": {
   "display_name": "R",
   "language": "R",
   "name": "ir"
  },
  "language_info": {
   "codemirror_mode": "r",
   "file_extension": ".r",
   "mimetype": "text/x-r-source",
   "name": "R",
   "pygments_lexer": "r",
   "version": "4.0.5"
  }
 },
 "nbformat": 4,
 "nbformat_minor": 5
}
