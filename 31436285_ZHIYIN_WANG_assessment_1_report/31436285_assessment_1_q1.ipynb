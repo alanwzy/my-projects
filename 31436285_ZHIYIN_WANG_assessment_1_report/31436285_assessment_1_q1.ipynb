{
 "cells": [
  {
   "cell_type": "markdown",
   "id": "6c56bb04",
   "metadata": {},
   "source": [
    "## Section A. Model Complexity and Model Selection"
   ]
  },
  {
   "cell_type": "markdown",
   "id": "c4a76c18",
   "metadata": {},
   "source": [
    "## Question 1 [KNN Regressor, 20 Marks]"
   ]
  },
  {
   "cell_type": "markdown",
   "id": "0e4f13c7",
   "metadata": {},
   "source": [
    "### Load Libraries"
   ]
  },
  {
   "cell_type": "code",
   "execution_count": 146,
   "id": "673b9eaa",
   "metadata": {
    "scrolled": true
   },
   "outputs": [],
   "source": [
    "# used libraries\n",
    "library(reshape2)\n",
    "library(ggplot2)"
   ]
  },
  {
   "cell_type": "code",
   "execution_count": 147,
   "id": "4f1f0578",
   "metadata": {},
   "outputs": [],
   "source": [
    "# import data\n",
    "train_1a  <-  read.csv(\"./Task1A_train.csv\")\n",
    "test_1a  <- read.csv(\"./Task1A_test.csv\")"
   ]
  },
  {
   "cell_type": "markdown",
   "id": "2faac256",
   "metadata": {},
   "source": [
    "### 1. Implement the KNN regressor function:knn(train.data, train.label, test.data, K=3)"
   ]
  },
  {
   "cell_type": "code",
   "execution_count": 148,
   "id": "a3037a29",
   "metadata": {
    "scrolled": true
   },
   "outputs": [],
   "source": [
    "# extract x values as single column\n",
    "train_1a_x  <-  train_1a[,1,drop = FALSE]\n",
    "test_1a_x  <-  test_1a[,1,drop = FALSE]"
   ]
  },
  {
   "cell_type": "code",
   "execution_count": 185,
   "id": "4c7c41de",
   "metadata": {},
   "outputs": [],
   "source": [
    "# KNN function (distance = manhattan)\n",
    "knn <- function(train.data, train.label, test.data, K=K, distance = 'manhattan'){\n",
    "    ## count number of train samples\n",
    "    train.len <- nrow(train.data)\n",
    "    \n",
    "    ## count number of test samples\n",
    "    test.len <- nrow(test.data)\n",
    "    \n",
    "    ## calculate distances between samples\n",
    "    dist <- as.matrix(dist(rbind(test.data, train.data), method= distance))[1:test.len, (test.len+1):(test.len+train.len)]\n",
    "    \n",
    "    ## for each test sample...\n",
    "    for (i in 1:test.len){\n",
    "        ### ...find its K nearest neighbours from training sampels...\n",
    "        nn <- as.data.frame(sort(dist[i,], index.return = TRUE))[1:K,2]\n",
    "        \n",
    "        ###... and calculate the predicted values according to the average\n",
    "        test_1a$y[i]<- sum(train.label[nn])/K\n",
    "        \n",
    "    }\n",
    "    \n",
    "    ## return the predictions as output\n",
    "    return (test_1a$y)\n",
    "}"
   ]
  },
  {
   "cell_type": "markdown",
   "id": "ab4d1b7c",
   "metadata": {},
   "source": [
    "In knn for classification, mode is used to calcculate the predicted labels. In knn regression, average is used to calculate the predicted values."
   ]
  },
  {
   "cell_type": "code",
   "execution_count": 179,
   "id": "fbc80ca5",
   "metadata": {
    "scrolled": true
   },
   "outputs": [
    {
     "data": {
      "text/html": [
       "<style>\n",
       ".list-inline {list-style: none; margin:0; padding: 0}\n",
       ".list-inline>li {display: inline-block}\n",
       ".list-inline>li:not(:last-child)::after {content: \"\\00b7\"; padding: 0 .5ex}\n",
       "</style>\n",
       "<ol class=list-inline><li>0.723333333333333</li><li>0.723333333333333</li><li>0.793333333333333</li><li>0.75</li><li>0.853333333333333</li><li>0.823333333333333</li><li>0.916666666666667</li><li>0.916666666666667</li><li>1.05333333333333</li><li>1.10666666666667</li><li>1.17666666666667</li><li>1.29</li><li>1.52333333333333</li><li>1.55</li><li>1.74</li><li>1.63</li><li>1.9</li><li>2.01</li><li>2.4</li><li>2.55</li><li>3.06</li><li>3.36</li><li>3.57</li><li>4.26</li><li>4.74</li><li>5.16</li><li>5.67</li><li>6.06</li><li>6.51</li><li>6.63</li><li>7.23</li><li>7.5</li><li>7.95</li><li>8.52</li><li>9.12</li><li>10.32</li><li>11.19</li><li>12.69</li><li>13.68</li><li>15.03</li><li>15.69</li><li>15.69</li></ol>\n"
      ],
      "text/latex": [
       "\\begin{enumerate*}\n",
       "\\item 0.723333333333333\n",
       "\\item 0.723333333333333\n",
       "\\item 0.793333333333333\n",
       "\\item 0.75\n",
       "\\item 0.853333333333333\n",
       "\\item 0.823333333333333\n",
       "\\item 0.916666666666667\n",
       "\\item 0.916666666666667\n",
       "\\item 1.05333333333333\n",
       "\\item 1.10666666666667\n",
       "\\item 1.17666666666667\n",
       "\\item 1.29\n",
       "\\item 1.52333333333333\n",
       "\\item 1.55\n",
       "\\item 1.74\n",
       "\\item 1.63\n",
       "\\item 1.9\n",
       "\\item 2.01\n",
       "\\item 2.4\n",
       "\\item 2.55\n",
       "\\item 3.06\n",
       "\\item 3.36\n",
       "\\item 3.57\n",
       "\\item 4.26\n",
       "\\item 4.74\n",
       "\\item 5.16\n",
       "\\item 5.67\n",
       "\\item 6.06\n",
       "\\item 6.51\n",
       "\\item 6.63\n",
       "\\item 7.23\n",
       "\\item 7.5\n",
       "\\item 7.95\n",
       "\\item 8.52\n",
       "\\item 9.12\n",
       "\\item 10.32\n",
       "\\item 11.19\n",
       "\\item 12.69\n",
       "\\item 13.68\n",
       "\\item 15.03\n",
       "\\item 15.69\n",
       "\\item 15.69\n",
       "\\end{enumerate*}\n"
      ],
      "text/markdown": [
       "1. 0.723333333333333\n",
       "2. 0.723333333333333\n",
       "3. 0.793333333333333\n",
       "4. 0.75\n",
       "5. 0.853333333333333\n",
       "6. 0.823333333333333\n",
       "7. 0.916666666666667\n",
       "8. 0.916666666666667\n",
       "9. 1.05333333333333\n",
       "10. 1.10666666666667\n",
       "11. 1.17666666666667\n",
       "12. 1.29\n",
       "13. 1.52333333333333\n",
       "14. 1.55\n",
       "15. 1.74\n",
       "16. 1.63\n",
       "17. 1.9\n",
       "18. 2.01\n",
       "19. 2.4\n",
       "20. 2.55\n",
       "21. 3.06\n",
       "22. 3.36\n",
       "23. 3.57\n",
       "24. 4.26\n",
       "25. 4.74\n",
       "26. 5.16\n",
       "27. 5.67\n",
       "28. 6.06\n",
       "29. 6.51\n",
       "30. 6.63\n",
       "31. 7.23\n",
       "32. 7.5\n",
       "33. 7.95\n",
       "34. 8.52\n",
       "35. 9.12\n",
       "36. 10.32\n",
       "37. 11.19\n",
       "38. 12.69\n",
       "39. 13.68\n",
       "40. 15.03\n",
       "41. 15.69\n",
       "42. 15.69\n",
       "\n",
       "\n"
      ],
      "text/plain": [
       " [1]  0.7233333  0.7233333  0.7933333  0.7500000  0.8533333  0.8233333\n",
       " [7]  0.9166667  0.9166667  1.0533333  1.1066667  1.1766667  1.2900000\n",
       "[13]  1.5233333  1.5500000  1.7400000  1.6300000  1.9000000  2.0100000\n",
       "[19]  2.4000000  2.5500000  3.0600000  3.3600000  3.5700000  4.2600000\n",
       "[25]  4.7400000  5.1600000  5.6700000  6.0600000  6.5100000  6.6300000\n",
       "[31]  7.2300000  7.5000000  7.9500000  8.5200000  9.1200000 10.3200000\n",
       "[37] 11.1900000 12.6900000 13.6800000 15.0300000 15.6900000 15.6900000"
      ]
     },
     "metadata": {},
     "output_type": "display_data"
    }
   ],
   "source": [
    "# prediction of knn for test samples when k = 3\n",
    "knn(train_1a_x, train_1a$y, test_1a_x, K=3)"
   ]
  },
  {
   "cell_type": "code",
   "execution_count": 180,
   "id": "6714db3b",
   "metadata": {
    "scrolled": true
   },
   "outputs": [],
   "source": [
    "# error function: root mean square error\n",
    "RMSE <- function(predicted, target) {\n",
    "    se <- 0\n",
    "    for (i in 1:length(predicted)) {\n",
    "        se <- se + (predicted[i]-target[i])^2\n",
    "    }\n",
    "    return (sqrt(se/length(predicted)))\n",
    "}"
   ]
  },
  {
   "cell_type": "code",
   "execution_count": 181,
   "id": "a65d69ec",
   "metadata": {},
   "outputs": [
    {
     "data": {
      "text/html": [
       "1.30554363385303"
      ],
      "text/latex": [
       "1.30554363385303"
      ],
      "text/markdown": [
       "1.30554363385303"
      ],
      "text/plain": [
       "[1] 1.305544"
      ]
     },
     "metadata": {},
     "output_type": "display_data"
    }
   ],
   "source": [
    "# RMSE for k = 3\n",
    "RMSE(knn(train_1a_x, train_1a$y, test_1a_x, K=3),test_1a$y)"
   ]
  },
  {
   "cell_type": "markdown",
   "id": "7465ce74",
   "metadata": {},
   "source": [
    "### 2. Plot the training and the testing errors versus"
   ]
  },
  {
   "cell_type": "code",
   "execution_count": 182,
   "id": "bf48c9e4",
   "metadata": {},
   "outputs": [],
   "source": [
    "# Create a dataframe with three columns to store the RMSE results of k from 1 to 35 \n",
    "RMSE_all <- data.frame('K'=1:35, 'train'=rep(0,35), 'test'=rep(0,35))\n",
    "\n",
    "# calculate RMSE for K from 1:35 \n",
    "for (k in 1:35){\n",
    "    # calcuate trainning errors\n",
    "    RMSE_all[k,'train'] <- RMSE(knn(train_1a_x, train_1a$y, test_1a_x, K=k),train_1a$y)\n",
    "    # calculate testing errors\n",
    "    RMSE_all[k,'test'] <-  RMSE(knn(train_1a_x, train_1a$y, test_1a_x, K=k), test_1a$y)\n",
    "}"
   ]
  },
  {
   "cell_type": "code",
   "execution_count": 183,
   "id": "cd026882",
   "metadata": {
    "scrolled": false
   },
   "outputs": [
    {
     "data": {
      "image/png": "[encoded data removed]",
      "text/plain": [
       "plot without title"
      ]
     },
     "metadata": {
      "image/png": {
       "height": 420,
       "width": 420
      }
     },
     "output_type": "display_data"
    }
   ],
   "source": [
    "# plot RMSE of train and test data sets for k = 1:35\n",
    "RMSE_all.m <- melt(RMSE_all, id='K') # reshape for visualization\n",
    "names(RMSE_all.m) <- c('K', 'type', 'error')\n",
    "ggplot(data=RMSE_all.m, aes(x=log(1/K), y=error, color=type)) + geom_line() +\n",
    "       scale_color_discrete(guide = guide_legend(title = NULL)) + theme_minimal() +\n",
    "       ggtitle(\"Root mean square error\")"
   ]
  },
  {
   "cell_type": "markdown",
   "id": "939ed197",
   "metadata": {},
   "source": [
    "### 3. Report  and discuss the optimum value for K in terms of the testing error. \n",
    "\n",
    "The root mean square error plot shows:\n",
    "- Trainning error and test error intersects at around log(1/k) = -2.25.\n",
    "- Before intersection: As k decreases, training error and testing error decreases.\n",
    "- After intersection: As k decreases, training error test error decreases, testing error increases.\n",
    "\n",
    "From the plot shown above, before the intersection of two error lines, both training and testing error is relatively high. The training error decreases after the interesction as testing error increases. \n",
    "In this case, the training error benefits from the decrease of k, which indicates a low bias when k is small. On the other hand, the testing error also benefits from the decrease of k, it decreases as k decreases, although testing error appears to increase after the intersection. In otherwords, the plot shows a bias-variance tradeoff. When the k value is small, the model has a small bias but large variance. If the k value increases, bias increases and variance decreases until the intersection point.\n",
    "\n",
    "In terms of fitting, a low training error may leads to overfitting and a high training error may indicates underfitting. In this case, the large k values before the intersection lead to underfitting and the small k values after the intersection may cause overfitting. Therefore, the optimum value for k should lies around the intersection at log(1/k) = -2.25 on the plot.\n",
    "\n",
    "As the optimum value for k is required to be decided in terms of the testing error, the goal is to minimize the testing error and variance while trying to avoid overfitting or underfitting. Thus, those extreme smaller k values are not suitable as they have high testing errors and low training errors, which may lead to overfitting. Therefore, the optimum value for k should be the intersection point if there is a applicable k value for the intersection point as the testing error at the intersection point is relatively low. Otherwise, the optimum value for k can be a value of k that is closest to the intersection point that has a low testing error and a plausible training error. E.g(If the requirement of the model is to be more generalized, a relatively larger training error is okay.)"
   ]
  },
  {
   "cell_type": "code",
   "execution_count": 184,
   "id": "4df9f4c7",
   "metadata": {
    "scrolled": true
   },
   "outputs": [
    {
     "data": {
      "text/html": [
       "<table class=\"dataframe\">\n",
       "<caption>A data.frame: 35 × 3</caption>\n",
       "<thead>\n",
       "\t<tr><th scope=col>K</th><th scope=col>train</th><th scope=col>test</th></tr>\n",
       "\t<tr><th scope=col>&lt;int&gt;</th><th scope=col>&lt;dbl&gt;</th><th scope=col>&lt;dbl&gt;</th></tr>\n",
       "</thead>\n",
       "<tbody>\n",
       "\t<tr><td> 1</td><td>0.1499841</td><td>1.3036067</td></tr>\n",
       "\t<tr><td> 2</td><td>0.3596410</td><td>1.4506300</td></tr>\n",
       "\t<tr><td> 3</td><td>0.3064773</td><td>1.3055436</td></tr>\n",
       "\t<tr><td> 4</td><td>0.3960286</td><td>1.3668279</td></tr>\n",
       "\t<tr><td> 5</td><td>0.4004622</td><td>1.1735642</td></tr>\n",
       "\t<tr><td> 6</td><td>0.5899397</td><td>1.2082640</td></tr>\n",
       "\t<tr><td> 7</td><td>0.6644462</td><td>1.0396384</td></tr>\n",
       "\t<tr><td> 8</td><td>0.8438215</td><td>1.0902330</td></tr>\n",
       "\t<tr><td> 9</td><td>0.9476252</td><td>0.9748048</td></tr>\n",
       "\t<tr><td>10</td><td>1.1328655</td><td>1.0004189</td></tr>\n",
       "\t<tr><td>11</td><td>1.2085654</td><td>0.9533856</td></tr>\n",
       "\t<tr><td>12</td><td>1.3730076</td><td>1.0589985</td></tr>\n",
       "\t<tr><td>13</td><td>1.4515836</td><td>1.0226499</td></tr>\n",
       "\t<tr><td>14</td><td>1.6006794</td><td>1.0944370</td></tr>\n",
       "\t<tr><td>15</td><td>1.6582519</td><td>1.1170263</td></tr>\n",
       "\t<tr><td>16</td><td>1.7734333</td><td>1.2359367</td></tr>\n",
       "\t<tr><td>17</td><td>1.8674236</td><td>1.2514165</td></tr>\n",
       "\t<tr><td>18</td><td>1.9814287</td><td>1.3410052</td></tr>\n",
       "\t<tr><td>19</td><td>2.0578987</td><td>1.3843264</td></tr>\n",
       "\t<tr><td>20</td><td>2.1701364</td><td>1.5031350</td></tr>\n",
       "\t<tr><td>21</td><td>2.2695563</td><td>1.5606849</td></tr>\n",
       "\t<tr><td>22</td><td>2.3778266</td><td>1.6647315</td></tr>\n",
       "\t<tr><td>23</td><td>2.4615500</td><td>1.7267225</td></tr>\n",
       "\t<tr><td>24</td><td>2.5805907</td><td>1.8524404</td></tr>\n",
       "\t<tr><td>25</td><td>2.6660839</td><td>1.9222103</td></tr>\n",
       "\t<tr><td>26</td><td>2.7890145</td><td>2.0467021</td></tr>\n",
       "\t<tr><td>27</td><td>2.8752939</td><td>2.1242978</td></tr>\n",
       "\t<tr><td>28</td><td>2.9921242</td><td>2.2515604</td></tr>\n",
       "\t<tr><td>29</td><td>3.0741754</td><td>2.3271750</td></tr>\n",
       "\t<tr><td>30</td><td>3.1908367</td><td>2.4462846</td></tr>\n",
       "\t<tr><td>31</td><td>3.2765965</td><td>2.5326378</td></tr>\n",
       "\t<tr><td>32</td><td>3.3910528</td><td>2.6540560</td></tr>\n",
       "\t<tr><td>33</td><td>3.4828845</td><td>2.7468771</td></tr>\n",
       "\t<tr><td>34</td><td>3.5930407</td><td>2.8625431</td></tr>\n",
       "\t<tr><td>35</td><td>3.6887694</td><td>2.9628881</td></tr>\n",
       "</tbody>\n",
       "</table>\n"
      ],
      "text/latex": [
       "A data.frame: 35 × 3\n",
       "\\begin{tabular}{lll}\n",
       " K & train & test\\\\\n",
       " <int> & <dbl> & <dbl>\\\\\n",
       "\\hline\n",
       "\t  1 & 0.1499841 & 1.3036067\\\\\n",
       "\t  2 & 0.3596410 & 1.4506300\\\\\n",
       "\t  3 & 0.3064773 & 1.3055436\\\\\n",
       "\t  4 & 0.3960286 & 1.3668279\\\\\n",
       "\t  5 & 0.4004622 & 1.1735642\\\\\n",
       "\t  6 & 0.5899397 & 1.2082640\\\\\n",
       "\t  7 & 0.6644462 & 1.0396384\\\\\n",
       "\t  8 & 0.8438215 & 1.0902330\\\\\n",
       "\t  9 & 0.9476252 & 0.9748048\\\\\n",
       "\t 10 & 1.1328655 & 1.0004189\\\\\n",
       "\t 11 & 1.2085654 & 0.9533856\\\\\n",
       "\t 12 & 1.3730076 & 1.0589985\\\\\n",
       "\t 13 & 1.4515836 & 1.0226499\\\\\n",
       "\t 14 & 1.6006794 & 1.0944370\\\\\n",
       "\t 15 & 1.6582519 & 1.1170263\\\\\n",
       "\t 16 & 1.7734333 & 1.2359367\\\\\n",
       "\t 17 & 1.8674236 & 1.2514165\\\\\n",
       "\t 18 & 1.9814287 & 1.3410052\\\\\n",
       "\t 19 & 2.0578987 & 1.3843264\\\\\n",
       "\t 20 & 2.1701364 & 1.5031350\\\\\n",
       "\t 21 & 2.2695563 & 1.5606849\\\\\n",
       "\t 22 & 2.3778266 & 1.6647315\\\\\n",
       "\t 23 & 2.4615500 & 1.7267225\\\\\n",
       "\t 24 & 2.5805907 & 1.8524404\\\\\n",
       "\t 25 & 2.6660839 & 1.9222103\\\\\n",
       "\t 26 & 2.7890145 & 2.0467021\\\\\n",
       "\t 27 & 2.8752939 & 2.1242978\\\\\n",
       "\t 28 & 2.9921242 & 2.2515604\\\\\n",
       "\t 29 & 3.0741754 & 2.3271750\\\\\n",
       "\t 30 & 3.1908367 & 2.4462846\\\\\n",
       "\t 31 & 3.2765965 & 2.5326378\\\\\n",
       "\t 32 & 3.3910528 & 2.6540560\\\\\n",
       "\t 33 & 3.4828845 & 2.7468771\\\\\n",
       "\t 34 & 3.5930407 & 2.8625431\\\\\n",
       "\t 35 & 3.6887694 & 2.9628881\\\\\n",
       "\\end{tabular}\n"
      ],
      "text/markdown": [
       "\n",
       "A data.frame: 35 × 3\n",
       "\n",
       "| K &lt;int&gt; | train &lt;dbl&gt; | test &lt;dbl&gt; |\n",
       "|---|---|---|\n",
       "|  1 | 0.1499841 | 1.3036067 |\n",
       "|  2 | 0.3596410 | 1.4506300 |\n",
       "|  3 | 0.3064773 | 1.3055436 |\n",
       "|  4 | 0.3960286 | 1.3668279 |\n",
       "|  5 | 0.4004622 | 1.1735642 |\n",
       "|  6 | 0.5899397 | 1.2082640 |\n",
       "|  7 | 0.6644462 | 1.0396384 |\n",
       "|  8 | 0.8438215 | 1.0902330 |\n",
       "|  9 | 0.9476252 | 0.9748048 |\n",
       "| 10 | 1.1328655 | 1.0004189 |\n",
       "| 11 | 1.2085654 | 0.9533856 |\n",
       "| 12 | 1.3730076 | 1.0589985 |\n",
       "| 13 | 1.4515836 | 1.0226499 |\n",
       "| 14 | 1.6006794 | 1.0944370 |\n",
       "| 15 | 1.6582519 | 1.1170263 |\n",
       "| 16 | 1.7734333 | 1.2359367 |\n",
       "| 17 | 1.8674236 | 1.2514165 |\n",
       "| 18 | 1.9814287 | 1.3410052 |\n",
       "| 19 | 2.0578987 | 1.3843264 |\n",
       "| 20 | 2.1701364 | 1.5031350 |\n",
       "| 21 | 2.2695563 | 1.5606849 |\n",
       "| 22 | 2.3778266 | 1.6647315 |\n",
       "| 23 | 2.4615500 | 1.7267225 |\n",
       "| 24 | 2.5805907 | 1.8524404 |\n",
       "| 25 | 2.6660839 | 1.9222103 |\n",
       "| 26 | 2.7890145 | 2.0467021 |\n",
       "| 27 | 2.8752939 | 2.1242978 |\n",
       "| 28 | 2.9921242 | 2.2515604 |\n",
       "| 29 | 3.0741754 | 2.3271750 |\n",
       "| 30 | 3.1908367 | 2.4462846 |\n",
       "| 31 | 3.2765965 | 2.5326378 |\n",
       "| 32 | 3.3910528 | 2.6540560 |\n",
       "| 33 | 3.4828845 | 2.7468771 |\n",
       "| 34 | 3.5930407 | 2.8625431 |\n",
       "| 35 | 3.6887694 | 2.9628881 |\n",
       "\n"
      ],
      "text/plain": [
       "   K  train     test     \n",
       "1   1 0.1499841 1.3036067\n",
       "2   2 0.3596410 1.4506300\n",
       "3   3 0.3064773 1.3055436\n",
       "4   4 0.3960286 1.3668279\n",
       "5   5 0.4004622 1.1735642\n",
       "6   6 0.5899397 1.2082640\n",
       "7   7 0.6644462 1.0396384\n",
       "8   8 0.8438215 1.0902330\n",
       "9   9 0.9476252 0.9748048\n",
       "10 10 1.1328655 1.0004189\n",
       "11 11 1.2085654 0.9533856\n",
       "12 12 1.3730076 1.0589985\n",
       "13 13 1.4515836 1.0226499\n",
       "14 14 1.6006794 1.0944370\n",
       "15 15 1.6582519 1.1170263\n",
       "16 16 1.7734333 1.2359367\n",
       "17 17 1.8674236 1.2514165\n",
       "18 18 1.9814287 1.3410052\n",
       "19 19 2.0578987 1.3843264\n",
       "20 20 2.1701364 1.5031350\n",
       "21 21 2.2695563 1.5606849\n",
       "22 22 2.3778266 1.6647315\n",
       "23 23 2.4615500 1.7267225\n",
       "24 24 2.5805907 1.8524404\n",
       "25 25 2.6660839 1.9222103\n",
       "26 26 2.7890145 2.0467021\n",
       "27 27 2.8752939 2.1242978\n",
       "28 28 2.9921242 2.2515604\n",
       "29 29 3.0741754 2.3271750\n",
       "30 30 3.1908367 2.4462846\n",
       "31 31 3.2765965 2.5326378\n",
       "32 32 3.3910528 2.6540560\n",
       "33 33 3.4828845 2.7468771\n",
       "34 34 3.5930407 2.8625431\n",
       "35 35 3.6887694 2.9628881"
      ]
     },
     "metadata": {},
     "output_type": "display_data"
    }
   ],
   "source": [
    "# recall the RMSE table\n",
    "RMSE_all"
   ]
  },
  {
   "cell_type": "markdown",
   "id": "d79f9b8b",
   "metadata": {},
   "source": [
    "From the table the best k value matches the requirements is: k = 9, which is the intersection point."
   ]
  }
 ],
 "metadata": {
  "kernelspec": {
   "display_name": "R",
   "language": "R",
   "name": "ir"
  },
  "language_info": {
   "codemirror_mode": "r",
   "file_extension": ".r",
   "mimetype": "text/x-r-source",
   "name": "R",
   "pygments_lexer": "r",
   "version": "4.0.5"
  }
 },
 "nbformat": 4,
 "nbformat_minor": 5
}
