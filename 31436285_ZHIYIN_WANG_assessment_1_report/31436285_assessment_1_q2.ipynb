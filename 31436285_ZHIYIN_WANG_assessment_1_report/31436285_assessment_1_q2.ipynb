{
 "cells": [
  {
   "cell_type": "markdown",
   "id": "a637279e",
   "metadata": {},
   "source": [
    "## Question 2 [Leave-One-Out Cross-Validation, 15 Marks]"
   ]
  },
  {
   "cell_type": "markdown",
   "id": "30f4edec",
   "metadata": {},
   "source": [
    "### Load Libraries"
   ]
  },
  {
   "cell_type": "code",
   "execution_count": 236,
   "id": "17aad24a",
   "metadata": {},
   "outputs": [],
   "source": [
    "# libraries\n",
    "library(reshape2)\n",
    "library(ggplot2)"
   ]
  },
  {
   "cell_type": "code",
   "execution_count": 237,
   "id": "98c83439",
   "metadata": {},
   "outputs": [],
   "source": [
    "# import data\n",
    "train_1a  <-  read.csv(\"./Task1A_train.csv\")\n",
    "test_1a  <- read.csv(\"./Task1A_test.csv\")"
   ]
  },
  {
   "cell_type": "markdown",
   "id": "aad3d2d0",
   "metadata": {},
   "source": [
    "Knn function from question 1"
   ]
  },
  {
   "cell_type": "code",
   "execution_count": 238,
   "id": "e714d132",
   "metadata": {},
   "outputs": [],
   "source": [
    "# KNN function (distance = manhattan)\n",
    "knn <- function(train.data, train.label, test.data, K=K, distance = 'manhattan'){\n",
    "    ## count number of train samples\n",
    "    train.len <- nrow(train.data)\n",
    "    \n",
    "    ## count number of test samples\n",
    "    test.len <- nrow(test.data)\n",
    "\n",
    "    ## calculate distances between samples\n",
    "    dist <- as.matrix(dist(rbind(test.data, train.data), method= distance))[1:test.len, (test.len+1):(test.len+train.len),\n",
    "                                                                           drop = FALSE]\n",
    "    \n",
    "    ## for each test sample...\n",
    "    for (i in 1:test.len){\n",
    "        ### ...find its K nearest neighbours from training sampels...\n",
    "        nn <- as.data.frame(sort(dist[i,], index.return = TRUE))[1:K,2]\n",
    "\n",
    "        ###... and calculate the predicted values according to average.\n",
    "        test.label[i]<- sum(train.label[nn])/K\n",
    "    }\n",
    "    \n",
    "    ## return the predictions as output\n",
    "    return (test.label)\n",
    "}\n"
   ]
  },
  {
   "cell_type": "markdown",
   "id": "1c2a93db",
   "metadata": {},
   "source": [
    "### 1. Implement a Leave-One-Out cross-validation (CV) function for your KNN regressor: cv(train.data, train.label, K)"
   ]
  },
  {
   "cell_type": "code",
   "execution_count": 239,
   "id": "18043e57",
   "metadata": {},
   "outputs": [],
   "source": [
    "# LOOCV function\n",
    "\n",
    "cv <- function(train.data,train.label, K){\n",
    "    # define cv folds\n",
    "    folds  <- nrow(train.data)\n",
    "    # initialize error\n",
    "    SE <- 0\n",
    "    # run cv for each data point in train data\n",
    "    for (i in 1:folds){\n",
    "        # define variables\n",
    "        train_x <- train.data[-i,,drop = FALSE]\n",
    "        train_y <- train.label[-i,]\n",
    "        test_x <- train.data[i,,drop = FALSE]\n",
    "        test_y <- train.label[i,]\n",
    "        # perform knn\n",
    "        knn_predict <- knn(train_x,train_y,test_x, K=K)\n",
    "        # calculate and add up error\n",
    "        SE <- SE + (knn_predict-test_y)^2  \n",
    "    }   \n",
    "    \n",
    "    # calculate average RMSE\n",
    "    RMSE <- sqrt(SE/folds)\n",
    "    return (RMSE)\n",
    "}"
   ]
  },
  {
   "cell_type": "markdown",
   "id": "41fabc9b",
   "metadata": {},
   "source": [
    "### 2. Run LOOCV for k = 1:20 and plot error vs 1/k"
   ]
  },
  {
   "cell_type": "code",
   "execution_count": 240,
   "id": "662c17d7",
   "metadata": {
    "scrolled": false
   },
   "outputs": [],
   "source": [
    "# extract x and y values of train data as single column\n",
    "train_1a_x  <-  train_1a[,1,drop = FALSE]\n",
    "train_1a_y  <- train_1a[,2,drop = FALSE]\n",
    "test.label  <- data.frame(\"y\" = 0)\n"
   ]
  },
  {
   "cell_type": "code",
   "execution_count": 241,
   "id": "61836e3a",
   "metadata": {
    "scrolled": false
   },
   "outputs": [
    {
     "data": {
      "image/png": "[encoded data removed]",
      "text/plain": [
       "plot without title"
      ]
     },
     "metadata": {
      "image/png": {
       "height": 420,
       "width": 420
      }
     },
     "output_type": "display_data"
    }
   ],
   "source": [
    "# create a table to store RMSE for k = 1:20\n",
    "RMSE_cv  <- data.frame('K'=1:20, 'RMSE'=rep(0,20))\n",
    "\n",
    "# calcualte rmse for k = 1:20\n",
    "for (k in 1:20){\n",
    "    RMSE_cv[k,\"RMSE\"] <- cv(train_1a_x,train_1a_y,k)\n",
    "}\n",
    "\n",
    "# plot the errors vs log(1/k) values\n",
    "ggplot(data=RMSE_cv, aes(x=log(1/K), y=RMSE)) + geom_line() +\n",
    "       scale_color_discrete(guide = guide_legend(title = NULL)) + theme_minimal() +\n",
    "       ggtitle(\"Root mean square error\")"
   ]
  },
  {
   "cell_type": "code",
   "execution_count": 242,
   "id": "1cc0c181",
   "metadata": {},
   "outputs": [
    {
     "data": {
      "text/html": [
       "<table class=\"dataframe\">\n",
       "<caption>A data.frame: 20 × 2</caption>\n",
       "<thead>\n",
       "\t<tr><th scope=col>K</th><th scope=col>RMSE</th></tr>\n",
       "\t<tr><th scope=col>&lt;int&gt;</th><th scope=col>&lt;dbl&gt;</th></tr>\n",
       "</thead>\n",
       "<tbody>\n",
       "\t<tr><td> 1</td><td>0.7255507</td></tr>\n",
       "\t<tr><td> 2</td><td>0.5249297</td></tr>\n",
       "\t<tr><td> 3</td><td>0.5404735</td></tr>\n",
       "\t<tr><td> 4</td><td>0.5465207</td></tr>\n",
       "\t<tr><td> 5</td><td>0.6404805</td></tr>\n",
       "\t<tr><td> 6</td><td>0.7813698</td></tr>\n",
       "\t<tr><td> 7</td><td>0.9125545</td></tr>\n",
       "\t<tr><td> 8</td><td>1.0771425</td></tr>\n",
       "\t<tr><td> 9</td><td>1.1988283</td></tr>\n",
       "\t<tr><td>10</td><td>1.3351955</td></tr>\n",
       "\t<tr><td>11</td><td>1.4403495</td></tr>\n",
       "\t<tr><td>12</td><td>1.5821905</td></tr>\n",
       "\t<tr><td>13</td><td>1.6711661</td></tr>\n",
       "\t<tr><td>14</td><td>1.7702777</td></tr>\n",
       "\t<tr><td>15</td><td>1.8617139</td></tr>\n",
       "\t<tr><td>16</td><td>1.9770932</td></tr>\n",
       "\t<tr><td>17</td><td>2.0619568</td></tr>\n",
       "\t<tr><td>18</td><td>2.1688975</td></tr>\n",
       "\t<tr><td>19</td><td>2.2626675</td></tr>\n",
       "\t<tr><td>20</td><td>2.3817481</td></tr>\n",
       "</tbody>\n",
       "</table>\n"
      ],
      "text/latex": [
       "A data.frame: 20 × 2\n",
       "\\begin{tabular}{ll}\n",
       " K & RMSE\\\\\n",
       " <int> & <dbl>\\\\\n",
       "\\hline\n",
       "\t  1 & 0.7255507\\\\\n",
       "\t  2 & 0.5249297\\\\\n",
       "\t  3 & 0.5404735\\\\\n",
       "\t  4 & 0.5465207\\\\\n",
       "\t  5 & 0.6404805\\\\\n",
       "\t  6 & 0.7813698\\\\\n",
       "\t  7 & 0.9125545\\\\\n",
       "\t  8 & 1.0771425\\\\\n",
       "\t  9 & 1.1988283\\\\\n",
       "\t 10 & 1.3351955\\\\\n",
       "\t 11 & 1.4403495\\\\\n",
       "\t 12 & 1.5821905\\\\\n",
       "\t 13 & 1.6711661\\\\\n",
       "\t 14 & 1.7702777\\\\\n",
       "\t 15 & 1.8617139\\\\\n",
       "\t 16 & 1.9770932\\\\\n",
       "\t 17 & 2.0619568\\\\\n",
       "\t 18 & 2.1688975\\\\\n",
       "\t 19 & 2.2626675\\\\\n",
       "\t 20 & 2.3817481\\\\\n",
       "\\end{tabular}\n"
      ],
      "text/markdown": [
       "\n",
       "A data.frame: 20 × 2\n",
       "\n",
       "| K &lt;int&gt; | RMSE &lt;dbl&gt; |\n",
       "|---|---|\n",
       "|  1 | 0.7255507 |\n",
       "|  2 | 0.5249297 |\n",
       "|  3 | 0.5404735 |\n",
       "|  4 | 0.5465207 |\n",
       "|  5 | 0.6404805 |\n",
       "|  6 | 0.7813698 |\n",
       "|  7 | 0.9125545 |\n",
       "|  8 | 1.0771425 |\n",
       "|  9 | 1.1988283 |\n",
       "| 10 | 1.3351955 |\n",
       "| 11 | 1.4403495 |\n",
       "| 12 | 1.5821905 |\n",
       "| 13 | 1.6711661 |\n",
       "| 14 | 1.7702777 |\n",
       "| 15 | 1.8617139 |\n",
       "| 16 | 1.9770932 |\n",
       "| 17 | 2.0619568 |\n",
       "| 18 | 2.1688975 |\n",
       "| 19 | 2.2626675 |\n",
       "| 20 | 2.3817481 |\n",
       "\n"
      ],
      "text/plain": [
       "   K  RMSE     \n",
       "1   1 0.7255507\n",
       "2   2 0.5249297\n",
       "3   3 0.5404735\n",
       "4   4 0.5465207\n",
       "5   5 0.6404805\n",
       "6   6 0.7813698\n",
       "7   7 0.9125545\n",
       "8   8 1.0771425\n",
       "9   9 1.1988283\n",
       "10 10 1.3351955\n",
       "11 11 1.4403495\n",
       "12 12 1.5821905\n",
       "13 13 1.6711661\n",
       "14 14 1.7702777\n",
       "15 15 1.8617139\n",
       "16 16 1.9770932\n",
       "17 17 2.0619568\n",
       "18 18 2.1688975\n",
       "19 19 2.2626675\n",
       "20 20 2.3817481"
      ]
     },
     "metadata": {},
     "output_type": "display_data"
    }
   ],
   "source": [
    "# inspect errors for k 1:20\n",
    "RMSE_cv"
   ]
  },
  {
   "cell_type": "markdown",
   "id": "2ded1323",
   "metadata": {},
   "source": [
    "### 3. Report the optimum value for K \n",
    "\n",
    "The plot shows, root mean square errors decrease as k decreases, the lower the k value, the smaller the error. There is one exception around log(1/k) = -0.75, where RMSE increase significantly. Also, RMSE increase significantly when log(1/k) > -1.5. Thus, any point between -1.5 and -0.75 is acceptable. In this case, the optimal k value that produce the smallest RMSE shown on the plot is at k = 2."
   ]
  }
 ],
 "metadata": {
  "kernelspec": {
   "display_name": "R",
   "language": "R",
   "name": "ir"
  },
  "language_info": {
   "codemirror_mode": "r",
   "file_extension": ".r",
   "mimetype": "text/x-r-source",
   "name": "R",
   "pygments_lexer": "r",
   "version": "4.0.5"
  }
 },
 "nbformat": 4,
 "nbformat_minor": 5
}
